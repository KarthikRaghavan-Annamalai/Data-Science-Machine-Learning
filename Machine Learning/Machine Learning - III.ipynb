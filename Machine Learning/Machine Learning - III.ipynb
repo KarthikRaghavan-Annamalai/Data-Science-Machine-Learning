{
 "cells": [
  {
   "cell_type": "markdown",
   "id": "cc8cd136",
   "metadata": {},
   "source": [
    "# 5th September Machine Learning Intro"
   ]
  },
  {
   "cell_type": "code",
   "execution_count": null,
   "id": "e7b07e73",
   "metadata": {},
   "outputs": [],
   "source": [
    "# Machine Learning --> Machine is trying to learn\n",
    "# Finding Pattern "
   ]
  },
  {
   "cell_type": "code",
   "execution_count": null,
   "id": "28d72de2",
   "metadata": {},
   "outputs": [],
   "source": [
    "# Business understanding of the data\n",
    "# Data"
   ]
  },
  {
   "cell_type": "code",
   "execution_count": null,
   "id": "8535b0e6",
   "metadata": {},
   "outputs": [],
   "source": [
    "# Understand each and every column\n",
    "# relationship between columns\n",
    "# outcome"
   ]
  },
  {
   "cell_type": "code",
   "execution_count": null,
   "id": "9dd656c3",
   "metadata": {},
   "outputs": [],
   "source": [
    "# Observe\n",
    "# Ask related questions"
   ]
  },
  {
   "cell_type": "code",
   "execution_count": null,
   "id": "21be7e6c",
   "metadata": {},
   "outputs": [],
   "source": [
    "# *** DO NOT DO EDA BLINDLY ***\n",
    "# we must focus on how we will reach the output we need"
   ]
  }
 ],
 "metadata": {
  "kernelspec": {
   "display_name": "Python 3 (ipykernel)",
   "language": "python",
   "name": "python3"
  },
  "language_info": {
   "codemirror_mode": {
    "name": "ipython",
    "version": 3
   },
   "file_extension": ".py",
   "mimetype": "text/x-python",
   "name": "python",
   "nbconvert_exporter": "python",
   "pygments_lexer": "ipython3",
   "version": "3.9.7"
  }
 },
 "nbformat": 4,
 "nbformat_minor": 5
}
