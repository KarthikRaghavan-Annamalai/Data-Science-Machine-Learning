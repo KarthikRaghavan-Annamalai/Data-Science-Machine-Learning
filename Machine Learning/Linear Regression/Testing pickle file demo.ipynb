{
 "cells": [
  {
   "cell_type": "code",
   "execution_count": 1,
   "id": "baf08234",
   "metadata": {},
   "outputs": [],
   "source": [
    "import pickle"
   ]
  },
  {
   "cell_type": "code",
   "execution_count": 9,
   "id": "88d0362e",
   "metadata": {},
   "outputs": [],
   "source": [
    "lr1 = pickle.load(open('lr.pkl','rb'))"
   ]
  },
  {
   "cell_type": "code",
   "execution_count": 10,
   "id": "55ebfb0e",
   "metadata": {},
   "outputs": [
    {
     "name": "stderr",
     "output_type": "stream",
     "text": [
      "C:\\ProgramData\\Anaconda3\\lib\\site-packages\\sklearn\\base.py:450: UserWarning: X does not have valid feature names, but LinearRegression was fitted with feature names\n",
      "  warnings.warn(\n"
     ]
    },
    {
     "data": {
      "text/plain": [
       "array([[11.78625759]])"
      ]
     },
     "execution_count": 10,
     "metadata": {},
     "output_type": "execute_result"
    }
   ],
   "source": [
    "lr1.predict([[100]])"
   ]
  },
  {
   "cell_type": "code",
   "execution_count": 11,
   "id": "fc3acc54",
   "metadata": {},
   "outputs": [
    {
     "name": "stdout",
     "output_type": "stream",
     "text": [
      " Volume in drive C is OS\n",
      " Volume Serial Number is BA91-9677\n",
      "\n",
      " Directory of C:\\Users\\KARTHIKRAGHAVAN\\Desktop\\Ineuron\\Notebooks\\ML Hands on\n",
      "\n",
      "27-07-2022  00:34    <DIR>          .\n",
      "26-07-2022  11:34    <DIR>          ..\n",
      "27-07-2022  00:31    <DIR>          .ipynb_checkpoints\n",
      "26-07-2022  11:31             4,756 Advertising.csv\n",
      "27-07-2022  00:33         2,022,096 Linear Regression.ipynb\n",
      "27-07-2022  00:30               545 lr.pkl\n",
      "27-07-2022  00:34             1,438 Testing pickle file demo.ipynb\n",
      "               4 File(s)      2,028,835 bytes\n",
      "               3 Dir(s)  198,547,283,968 bytes free\n"
     ]
    }
   ],
   "source": [
    "ls"
   ]
  }
 ],
 "metadata": {
  "kernelspec": {
   "display_name": "Python 3 (ipykernel)",
   "language": "python",
   "name": "python3"
  },
  "language_info": {
   "codemirror_mode": {
    "name": "ipython",
    "version": 3
   },
   "file_extension": ".py",
   "mimetype": "text/x-python",
   "name": "python",
   "nbconvert_exporter": "python",
   "pygments_lexer": "ipython3",
   "version": "3.9.7"
  }
 },
 "nbformat": 4,
 "nbformat_minor": 5
}
