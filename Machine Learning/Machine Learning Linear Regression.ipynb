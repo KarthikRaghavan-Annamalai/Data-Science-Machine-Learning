{
 "cells": [
  {
   "cell_type": "markdown",
   "id": "e54c77b9",
   "metadata": {},
   "source": [
    "# 11th September Linear Regression"
   ]
  },
  {
   "cell_type": "code",
   "execution_count": null,
   "id": "11ef8c18",
   "metadata": {},
   "outputs": [],
   "source": [
    "# ML is finding a relationship between a relationship\n",
    "# I need to help the algo to establish the logic/relationship"
   ]
  },
  {
   "cell_type": "code",
   "execution_count": null,
   "id": "f1e62454",
   "metadata": {},
   "outputs": [],
   "source": [
    "# Algorithms is something like a mathematical equation"
   ]
  },
  {
   "cell_type": "code",
   "execution_count": null,
   "id": "1540307b",
   "metadata": {},
   "outputs": [],
   "source": [
    "# y = mx + c --> equation of a line\n",
    "# m --> slope\n",
    "# c --> y intercept"
   ]
  },
  {
   "cell_type": "code",
   "execution_count": null,
   "id": "721a207f",
   "metadata": {},
   "outputs": [],
   "source": [
    "# Residual = y - y^\n",
    "# Residual = y - y^ ==> y - (mx + c)"
   ]
  },
  {
   "cell_type": "code",
   "execution_count": null,
   "id": "1fcb5282",
   "metadata": {},
   "outputs": [],
   "source": [
    "# m and c are responsible for giving errors"
   ]
  },
  {
   "cell_type": "code",
   "execution_count": null,
   "id": "299a725f",
   "metadata": {},
   "outputs": [],
   "source": [
    "# changing a paramter of an equation responsible for giving a relationship between a datasett based on error is called learning "
   ]
  },
  {
   "cell_type": "code",
   "execution_count": null,
   "id": "9a7c1689",
   "metadata": {},
   "outputs": [],
   "source": [
    "# https://www.derivative-calculator.net/"
   ]
  },
  {
   "cell_type": "code",
   "execution_count": null,
   "id": "e4405c18",
   "metadata": {},
   "outputs": [],
   "source": [
    "# (y-(mx+c))**2"
   ]
  },
  {
   "cell_type": "code",
   "execution_count": 4,
   "id": "60e49adf",
   "metadata": {},
   "outputs": [
    {
     "data": {
      "text/plain": [
       "-59.780000000000065"
      ]
     },
     "execution_count": 4,
     "metadata": {},
     "output_type": "execute_result"
    }
   ],
   "source": [
    "2*6.1*(8*6.1+13.3-67)"
   ]
  },
  {
   "cell_type": "code",
   "execution_count": 6,
   "id": "44947be8",
   "metadata": {},
   "outputs": [
    {
     "data": {
      "text/plain": [
       "-9.800000000000011"
      ]
     },
     "execution_count": 6,
     "metadata": {},
     "output_type": "execute_result"
    }
   ],
   "source": [
    "2*(13.3-67+8*6.1)"
   ]
  },
  {
   "cell_type": "code",
   "execution_count": null,
   "id": "5e7e7485",
   "metadata": {},
   "outputs": [],
   "source": [
    "# Linear Regression connecting to Gradient descent\n",
    "# new = old - new * derivative"
   ]
  },
  {
   "cell_type": "code",
   "execution_count": null,
   "id": "4104549f",
   "metadata": {},
   "outputs": [],
   "source": [
    "# learning rate is usually 1 to 10**-4"
   ]
  },
  {
   "cell_type": "code",
   "execution_count": 7,
   "id": "eb8e2d39",
   "metadata": {},
   "outputs": [
    {
     "data": {
      "text/plain": [
       "8.05578"
      ]
     },
     "execution_count": 7,
     "metadata": {},
     "output_type": "execute_result"
    }
   ],
   "source": [
    "8 - 0.001 * - 55.78"
   ]
  },
  {
   "cell_type": "code",
   "execution_count": 8,
   "id": "47bf3f10",
   "metadata": {},
   "outputs": [
    {
     "data": {
      "text/plain": [
       "13.309800000000001"
      ]
     },
     "execution_count": 8,
     "metadata": {},
     "output_type": "execute_result"
    }
   ],
   "source": [
    "13.3 - 0.001 * -9.80"
   ]
  },
  {
   "cell_type": "code",
   "execution_count": 9,
   "id": "6f6b56d8",
   "metadata": {},
   "outputs": [
    {
     "data": {
      "text/plain": [
       "62.450058"
      ]
     },
     "execution_count": 9,
     "metadata": {},
     "output_type": "execute_result"
    }
   ],
   "source": [
    "8.05578 * 6.1 + 13.3098"
   ]
  },
  {
   "cell_type": "code",
   "execution_count": 10,
   "id": "63b12eaa",
   "metadata": {},
   "outputs": [
    {
     "data": {
      "text/plain": [
       "20.701972203364015"
      ]
     },
     "execution_count": 10,
     "metadata": {},
     "output_type": "execute_result"
    }
   ],
   "source": [
    "(62.450058 - 67) **2"
   ]
  },
  {
   "cell_type": "markdown",
   "id": "cd2a8467",
   "metadata": {},
   "source": [
    "# 12th September Linear Regression"
   ]
  },
  {
   "cell_type": "code",
   "execution_count": null,
   "id": "bf65c6a0",
   "metadata": {},
   "outputs": [],
   "source": []
  },
  {
   "cell_type": "code",
   "execution_count": null,
   "id": "8d6a092f",
   "metadata": {},
   "outputs": [],
   "source": []
  },
  {
   "cell_type": "code",
   "execution_count": null,
   "id": "0a88c27f",
   "metadata": {},
   "outputs": [],
   "source": []
  },
  {
   "cell_type": "code",
   "execution_count": null,
   "id": "15cebbe1",
   "metadata": {},
   "outputs": [],
   "source": []
  },
  {
   "cell_type": "code",
   "execution_count": null,
   "id": "7d75a83d",
   "metadata": {},
   "outputs": [],
   "source": []
  },
  {
   "cell_type": "code",
   "execution_count": null,
   "id": "b2283abe",
   "metadata": {},
   "outputs": [],
   "source": []
  },
  {
   "cell_type": "code",
   "execution_count": null,
   "id": "ae185fd1",
   "metadata": {},
   "outputs": [],
   "source": []
  },
  {
   "cell_type": "code",
   "execution_count": null,
   "id": "6f8964dd",
   "metadata": {},
   "outputs": [],
   "source": []
  },
  {
   "cell_type": "code",
   "execution_count": null,
   "id": "03f54fb2",
   "metadata": {},
   "outputs": [],
   "source": []
  },
  {
   "cell_type": "code",
   "execution_count": null,
   "id": "2899b7ab",
   "metadata": {},
   "outputs": [],
   "source": []
  },
  {
   "cell_type": "code",
   "execution_count": null,
   "id": "f6f0116f",
   "metadata": {},
   "outputs": [],
   "source": []
  },
  {
   "cell_type": "code",
   "execution_count": null,
   "id": "97d7f2d6",
   "metadata": {},
   "outputs": [],
   "source": []
  },
  {
   "cell_type": "code",
   "execution_count": null,
   "id": "802f83fc",
   "metadata": {},
   "outputs": [],
   "source": []
  },
  {
   "cell_type": "code",
   "execution_count": null,
   "id": "4199e0af",
   "metadata": {},
   "outputs": [],
   "source": []
  },
  {
   "cell_type": "code",
   "execution_count": null,
   "id": "465a8132",
   "metadata": {},
   "outputs": [],
   "source": []
  },
  {
   "cell_type": "code",
   "execution_count": null,
   "id": "6355050d",
   "metadata": {},
   "outputs": [],
   "source": []
  },
  {
   "cell_type": "code",
   "execution_count": null,
   "id": "763ce839",
   "metadata": {},
   "outputs": [],
   "source": []
  },
  {
   "cell_type": "code",
   "execution_count": null,
   "id": "cbf00198",
   "metadata": {},
   "outputs": [],
   "source": []
  },
  {
   "cell_type": "code",
   "execution_count": null,
   "id": "29a3d872",
   "metadata": {},
   "outputs": [],
   "source": []
  },
  {
   "cell_type": "code",
   "execution_count": null,
   "id": "540bcb2f",
   "metadata": {},
   "outputs": [],
   "source": []
  },
  {
   "cell_type": "code",
   "execution_count": null,
   "id": "c921ba23",
   "metadata": {},
   "outputs": [],
   "source": []
  },
  {
   "cell_type": "code",
   "execution_count": null,
   "id": "78de5afd",
   "metadata": {},
   "outputs": [],
   "source": []
  },
  {
   "cell_type": "code",
   "execution_count": null,
   "id": "04213c6f",
   "metadata": {},
   "outputs": [],
   "source": []
  }
 ],
 "metadata": {
  "kernelspec": {
   "display_name": "Python 3 (ipykernel)",
   "language": "python",
   "name": "python3"
  },
  "language_info": {
   "codemirror_mode": {
    "name": "ipython",
    "version": 3
   },
   "file_extension": ".py",
   "mimetype": "text/x-python",
   "name": "python",
   "nbconvert_exporter": "python",
   "pygments_lexer": "ipython3",
   "version": "3.9.7"
  }
 },
 "nbformat": 4,
 "nbformat_minor": 5
}
