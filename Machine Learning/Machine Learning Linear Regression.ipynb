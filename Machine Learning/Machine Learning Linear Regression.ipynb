{
 "cells": [
  {
   "cell_type": "markdown",
   "id": "e54c77b9",
   "metadata": {},
   "source": [
    "# 11th September Linear Regression"
   ]
  },
  {
   "cell_type": "code",
   "execution_count": null,
   "id": "11ef8c18",
   "metadata": {},
   "outputs": [],
   "source": [
    "# ML is finding a relationship between a relationship\n",
    "# I need to help the algo to establish the logic/relationship"
   ]
  },
  {
   "cell_type": "code",
   "execution_count": null,
   "id": "f1e62454",
   "metadata": {},
   "outputs": [],
   "source": [
    "# Algorithms is something like a mathematical equation"
   ]
  },
  {
   "cell_type": "code",
   "execution_count": null,
   "id": "1540307b",
   "metadata": {},
   "outputs": [],
   "source": [
    "# y = mx + c --> equation of a lineW\n",
    "# m --> slope\n",
    "# c --> y intercept"
   ]
  },
  {
   "cell_type": "code",
   "execution_count": null,
   "id": "721a207f",
   "metadata": {},
   "outputs": [],
   "source": [
    "# Residual = y - y^\n",
    "# Residual = y - y^ ==> y - (mx + c)"
   ]
  },
  {
   "cell_type": "code",
   "execution_count": null,
   "id": "1fcb5282",
   "metadata": {},
   "outputs": [],
   "source": [
    "# m and c are responsible for giving errors"
   ]
  },
  {
   "cell_type": "code",
   "execution_count": null,
   "id": "299a725f",
   "metadata": {},
   "outputs": [],
   "source": [
    "# changing a paramter of an equation responsible for giving a relationship between a datasett based on error is called learning "
   ]
  },
  {
   "cell_type": "code",
   "execution_count": null,
   "id": "9a7c1689",
   "metadata": {},
   "outputs": [],
   "source": [
    "# https://www.derivative-calculator.net/"
   ]
  }
 ],
 "metadata": {
  "kernelspec": {
   "display_name": "Python 3 (ipykernel)",
   "language": "python",
   "name": "python3"
  },
  "language_info": {
   "codemirror_mode": {
    "name": "ipython",
    "version": 3
   },
   "file_extension": ".py",
   "mimetype": "text/x-python",
   "name": "python",
   "nbconvert_exporter": "python",
   "pygments_lexer": "ipython3",
   "version": "3.9.7"
  }
 },
 "nbformat": 4,
 "nbformat_minor": 5
}
