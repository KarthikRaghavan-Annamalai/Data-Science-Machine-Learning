{
  "nbformat": 4,
  "nbformat_minor": 0,
  "metadata": {
    "colab": {
      "name": "Data-Science-Machine-Learning.ipynb",
      "provenance": [],
      "collapsed_sections": [],
      "toc_visible": true
    },
    "kernelspec": {
      "name": "python3",
      "display_name": "Python 3"
    },
    "language_info": {
      "name": "python"
    }
  },
  "cells": [
    {
      "cell_type": "markdown",
      "source": [
        "# 10th April Introduction session"
      ],
      "metadata": {
        "id": "tZPAeChhbSDE"
      }
    },
    {
      "cell_type": "code",
      "source": [
        "# Any 1 language - preferred Python for data analysis"
      ],
      "metadata": {
        "id": "NBzn8KCcbZiq"
      },
      "execution_count": null,
      "outputs": []
    },
    {
      "cell_type": "markdown",
      "source": [
        "Understanding of the below topics\n",
        "\n",
        "* API\n",
        "* Cloud\n",
        "* Ops\n",
        "* Deployment\n",
        "* Testing\n",
        "* CI/CD pipeline\n",
        "* ETL "
      ],
      "metadata": {
        "id": "_GfKwtR5bjUV"
      }
    },
    {
      "cell_type": "code",
      "source": [
        "# We have to do modular programming / solution"
      ],
      "metadata": {
        "id": "8_Dp0GL5bZle"
      },
      "execution_count": null,
      "outputs": []
    },
    {
      "cell_type": "code",
      "source": [
        "# for Every project/assignment some will be deployed and productionized"
      ],
      "metadata": {
        "id": "3mFjDRbXbZoS"
      },
      "execution_count": null,
      "outputs": []
    },
    {
      "cell_type": "markdown",
      "source": [
        "Required Topics and Concepts\n",
        "\n",
        "* Databases\n",
        "* Statistics\n",
        "* Deployment\n",
        "* Chatbot\n",
        "* Machine Learning\n",
        "* Data Analysis\n",
        "* Deep Learning"
      ],
      "metadata": {
        "id": "bFKCwX9hcD5E"
      }
    },
    {
      "cell_type": "code",
      "source": [
        "# how much Mathematics is required"
      ],
      "metadata": {
        "id": "7eacyhIKbZqt"
      },
      "execution_count": null,
      "outputs": []
    },
    {
      "cell_type": "markdown",
      "source": [
        "* Relationship between variables\n",
        "* Features\n",
        "* Distributions\n",
        "* Skewed\n",
        "* Missing values\n",
        "* Outliers\n",
        "* Statistical Analysis"
      ],
      "metadata": {
        "id": "i7UxcKo1cVgR"
      }
    },
    {
      "cell_type": "code",
      "source": [
        "# we need to know **why**  we are calling the function and **how** to interpret the results"
      ],
      "metadata": {
        "id": "4N6c0gdXcj2D"
      },
      "execution_count": null,
      "outputs": []
    },
    {
      "cell_type": "code",
      "source": [
        "# basic algorithm --> mathematics --> building small solution --> fine tuning --> deploying"
      ],
      "metadata": {
        "id": "S6sznTE4cj73"
      },
      "execution_count": null,
      "outputs": []
    },
    {
      "cell_type": "code",
      "source": [
        "# Skype Support --> support@ ineuron.ai\n",
        "# Sudhansu mail --> query@ineuron.ai"
      ],
      "metadata": {
        "id": "ajQBN306ckA9"
      },
      "execution_count": null,
      "outputs": []
    },
    {
      "cell_type": "markdown",
      "source": [
        "# 11th April Introduction Session - 2"
      ],
      "metadata": {
        "id": "lxYZb8s3dAVC"
      }
    },
    {
      "cell_type": "code",
      "source": [
        "# *Google Coral* to check for the list of different domains\n",
        "# We can learn to develop new solutions for different problems\n",
        "# See DSAR videos for architectural designs"
      ],
      "metadata": {
        "id": "IYU5oeJDc-jJ"
      },
      "execution_count": null,
      "outputs": []
    },
    {
      "cell_type": "markdown",
      "source": [
        "* Business Understanding/ Problem requirements\n",
        "* Factors affecting\n",
        "  * Data preparation(ETL)\n",
        "  * Cloud (CI/CD)\n",
        "  * Big data\n",
        "* Statistical Analysis\n",
        "* EDA\n",
        "* Model Strategy\n",
        "  * Machine Learning approach\n",
        "  * Customized Machine Learning approach\n",
        "* Testing with unknown data and tuning also\n",
        "* Production\n",
        "* Retraining"
      ],
      "metadata": {
        "id": "U7JnE7MIdfAj"
      }
    },
    {
      "cell_type": "markdown",
      "source": [
        "# 17th April Installation and system setup"
      ],
      "metadata": {
        "id": "-h_YgXyaWUSL"
      }
    },
    {
      "cell_type": "markdown",
      "source": [
        "## Python - Anaconda- Jupyter notebook"
      ],
      "metadata": {
        "id": "KEZBivwTO-Op"
      }
    },
    {
      "cell_type": "markdown",
      "source": [
        "Download Anaconda - anaconda.com/products/distribution"
      ],
      "metadata": {
        "id": "ViKAPWywIONQ"
      }
    },
    {
      "cell_type": "code",
      "source": [
        "# We will use libraries, create libraries in python"
      ],
      "metadata": {
        "id": "DrB6hs9uGkKt"
      },
      "execution_count": null,
      "outputs": []
    },
    {
      "cell_type": "code",
      "source": [
        "# jupyter never executes our code\n",
        "# jupyter notebook is just a web page\n",
        "# the instructoin will be submitted to the backend and execute it there\n",
        "# the backend has a python kernal where it executes and returns the output or response \n",
        "# the instructions are submitted to backend\n",
        "# Anaconda is a bundle\n",
        "# we can include the packages in bundle\n",
        "# jupyter notebook has extension .ipynb (IPythonnotebook)"
      ],
      "metadata": {
        "id": "uclWclOCGkNh"
      },
      "execution_count": null,
      "outputs": []
    },
    {
      "cell_type": "code",
      "source": [
        "# dir - to check the list of files in the directory in Anaconda prompt"
      ],
      "metadata": {
        "id": "J0IYLtrzGkQa"
      },
      "execution_count": null,
      "outputs": []
    },
    {
      "cell_type": "code",
      "source": [
        "# Save and Checkpoint - saving the file at that point and we can also revert to the checkpoint\n",
        "# Download as --> we can download the file in different formats"
      ],
      "metadata": {
        "id": "obGNGWwrGkVf"
      },
      "execution_count": null,
      "outputs": []
    },
    {
      "cell_type": "code",
      "source": [
        "# import files to the current working directory if the files are in different directory\n",
        "# a copy will be available in the main location"
      ],
      "metadata": {
        "id": "dKLIEA_4GkYJ"
      },
      "execution_count": null,
      "outputs": []
    },
    {
      "cell_type": "code",
      "source": [
        "# Alternate online editors for jupyter notebook\n",
        "# Jupyter notebook is good for a begineer but not for full scale modular project and not useful for model deployment"
      ],
      "metadata": {
        "id": "RzbIGzaEGkai"
      },
      "execution_count": null,
      "outputs": []
    },
    {
      "cell_type": "code",
      "source": [
        "# in case we see that we do not get the correct result, we will restart the kernal"
      ],
      "metadata": {
        "id": "1DUjOj9eGkgB"
      },
      "execution_count": null,
      "outputs": []
    },
    {
      "cell_type": "code",
      "source": [
        "# jupyter notebook will try to understand each and everything as a code"
      ],
      "metadata": {
        "id": "ToPWKX3zGki1"
      },
      "execution_count": null,
      "outputs": []
    },
    {
      "cell_type": "code",
      "source": [
        "my name is karthik"
      ],
      "metadata": {
        "colab": {
          "base_uri": "https://localhost:8080/",
          "height": 130
        },
        "id": "uP9nrMlxGklt",
        "outputId": "09cf41cd-89aa-4a11-dcc3-03ac687a0e90"
      },
      "execution_count": null,
      "outputs": [
        {
          "output_type": "error",
          "ename": "SyntaxError",
          "evalue": "ignored",
          "traceback": [
            "\u001b[0;36m  File \u001b[0;32m\"<ipython-input-10-c45929c0755b>\"\u001b[0;36m, line \u001b[0;32m1\u001b[0m\n\u001b[0;31m    my name is karthik\u001b[0m\n\u001b[0m          ^\u001b[0m\n\u001b[0;31mSyntaxError\u001b[0m\u001b[0;31m:\u001b[0m invalid syntax\n"
          ]
        }
      ]
    },
    {
      "cell_type": "code",
      "source": [
        "# the above statement is a string and not a code so in case of that, we need to convert the statement into a markdown or raw or header"
      ],
      "metadata": {
        "id": "a0ghniXwGkoU"
      },
      "execution_count": null,
      "outputs": []
    },
    {
      "cell_type": "markdown",
      "source": [
        "my name is karthik"
      ],
      "metadata": {
        "id": "WSFNuqMbXFHG"
      }
    },
    {
      "cell_type": "code",
      "source": [
        "print('my name is karthik')"
      ],
      "metadata": {
        "colab": {
          "base_uri": "https://localhost:8080/"
        },
        "id": "HqIYscb7Gkri",
        "outputId": "1723865c-e593-4867-d520-d34681e2c635"
      },
      "execution_count": null,
      "outputs": [
        {
          "output_type": "stream",
          "name": "stdout",
          "text": [
            "my name is karthik\n"
          ]
        }
      ]
    },
    {
      "cell_type": "code",
      "source": [
        "# SHIFT + TAB to read the documentation or docstring on the instuctions and constraints\n",
        "# Going forward, we will do the same for the functions we create"
      ],
      "metadata": {
        "id": "e3tRiXeoGkuV"
      },
      "execution_count": null,
      "outputs": []
    },
    {
      "cell_type": "code",
      "source": [
        "help(print)"
      ],
      "metadata": {
        "colab": {
          "base_uri": "https://localhost:8080/"
        },
        "id": "Rbs3xDKiGkw_",
        "outputId": "2a1861e8-3e9e-49aa-b121-cefe62e32e6b"
      },
      "execution_count": null,
      "outputs": [
        {
          "output_type": "stream",
          "name": "stdout",
          "text": [
            "Help on built-in function print in module builtins:\n",
            "\n",
            "print(...)\n",
            "    print(value, ..., sep=' ', end='\\n', file=sys.stdout, flush=False)\n",
            "    \n",
            "    Prints the values to a stream, or to sys.stdout by default.\n",
            "    Optional keyword arguments:\n",
            "    file:  a file-like object (stream); defaults to the current sys.stdout.\n",
            "    sep:   string inserted between values, default a space.\n",
            "    end:   string appended after the last value, default a newline.\n",
            "    flush: whether to forcibly flush the stream.\n",
            "\n"
          ]
        }
      ]
    },
    {
      "cell_type": "code",
      "source": [
        "# help with the function also gives the documentation"
      ],
      "metadata": {
        "id": "Mjy3zM1pGk0j"
      },
      "execution_count": null,
      "outputs": []
    },
    {
      "cell_type": "code",
      "source": [
        "# For real time or production, we cannot use jupyter notebook but we will see going forward"
      ],
      "metadata": {
        "id": "PLa7CuhSGk2_"
      },
      "execution_count": null,
      "outputs": []
    },
    {
      "cell_type": "code",
      "source": [
        "# Apart from jupyter notebook, we have Pycharm(community version) or VS code for IDE(integrated development environment)"
      ],
      "metadata": {
        "id": "S9dW1lLZGk6S"
      },
      "execution_count": null,
      "outputs": []
    },
    {
      "cell_type": "code",
      "source": [
        "# Assignment submission details given "
      ],
      "metadata": {
        "id": "_QJMObbL412E"
      },
      "execution_count": null,
      "outputs": []
    },
    {
      "cell_type": "markdown",
      "source": [
        "# 8th May Python Overview, discussing regarding Data pipeline and Data science"
      ],
      "metadata": {
        "id": "gjhefZ_ZgAf3"
      }
    },
    {
      "cell_type": "markdown",
      "source": [
        "Python is a programming language. It is compiler and interpretable language \n",
        "There are 2 versions of Python , 2.x and 3.x\n",
        "\n",
        "We will learn only 3.X Python\n",
        "We can use python for system programming, GUI(graphical user interface) - Application, web scraping. \n",
        "There are many differeent libraries available for multiple types of word\n",
        "\n",
        "We can interact with databases using Python.\n",
        "\n",
        "We can use python for faster prototyping(building sample application).\n",
        "less lines of code compared to other languages\n",
        "\n",
        "We can use python for RPA(Robotic process Application).\n",
        "\n",
        "\n",
        "Python can be used for Image processing, data science, data mining, big data and data analytics.\n",
        "\n"
      ],
      "metadata": {
        "id": "SWxd3WYvl9CY"
      }
    },
    {
      "cell_type": "markdown",
      "source": [
        "Python is a bit slow compared to other languages. Python is easier to use compared to other languages\n",
        "\n",
        "Python has huge open source community support.\n",
        "\n"
      ],
      "metadata": {
        "id": "Aw5bKOcqng6k"
      }
    },
    {
      "cell_type": "markdown",
      "source": [
        "Data Science Industry : \n",
        "\n",
        "How it is ? This will show us in which area we work\n",
        "\n",
        "There are 3 things \n",
        "\n",
        "* Big Data\n",
        "* Data analytics\n",
        "* Data science\n",
        "\n",
        "These 3 areas of connected together in our area of work.\n",
        "\n",
        "---------------------------------------------------------------\n",
        "\n",
        " >> Data science is a Technical Stack and not a Domain.Domain does not matter.\n",
        "---------------------------------------------------------------\n",
        "\n",
        "* BIG DATA\n",
        "\n",
        "> Hadoop 2.x or 3.x HDFS,\n",
        "> Hive,\n",
        "> imphal,\n",
        "> Pig,\n",
        "> oozie,\n",
        "> squup,\n",
        "> flime,\n",
        "> kafka,\n",
        "> zookeeper,\n",
        "> storm,\n",
        "> spark,\n",
        "> phoenix,\n",
        "> flink,\n",
        "> HBASE\n",
        "\n",
        "\n",
        "---------------------------------------------------------------\n",
        "* DATA ANALYTICS or BUSINESS ANALYTICS\n",
        "\n",
        "> Tableau, PowerBI, Advanced excel, SQL, some language, clickview, stats\n",
        "\n",
        "---------------------------------------------------------------\n",
        "* DATA SCIENCE\n",
        "\n",
        "  * Statistics\n",
        "  * ML Eng\n",
        "  * DL Eng\n",
        "  * NLP Eng\n",
        "  * RL Eng\n",
        "  * Ops Eng\n",
        "  * Research Eng\n",
        "  * Functional Eng\n",
        "\n",
        "Functional Data scientist knows a domain.\n",
        "Statiscians\n",
        "\n",
        "> Mathematics depends on the area we work as data scientist.\n",
        "\n"
      ],
      "metadata": {
        "id": "Z3K25dHOoLFi"
      }
    },
    {
      "cell_type": "markdown",
      "source": [
        "Technology wise we need one programming language is required.\n",
        "\n",
        "* Try learning 1 language \n",
        "* General Mathematics\n",
        "\n",
        "\n",
        "\n",
        "We use Big data to build a complete pipeline.\n",
        "Dashboarding and visualization are different\n",
        "\n",
        ">> Data integration -> Data Preprocessing -> Data Preparation -> Modeling -> Forecasting (overview - not exact)\n",
        "\n",
        "Data Analytics Team does the Dashboarding with final report with 1 or n number of databases.\n",
        "\n"
      ],
      "metadata": {
        "id": "ZVJoGIBkwCVT"
      }
    },
    {
      "cell_type": "code",
      "source": [
        "# papers with code on google to get the latest trend"
      ],
      "metadata": {
        "id": "FyW_so_B3449"
      },
      "execution_count": null,
      "outputs": []
    },
    {
      "cell_type": "markdown",
      "source": [
        "# 15th May Basic Python implementation in jupyter notebook and Google Colab"
      ],
      "metadata": {
        "id": "Yk7aZ01f8ev_"
      }
    },
    {
      "cell_type": "code",
      "source": [
        ""
      ],
      "metadata": {
        "id": "9gu2APCT347-"
      },
      "execution_count": null,
      "outputs": []
    },
    {
      "cell_type": "code",
      "source": [
        ""
      ],
      "metadata": {
        "id": "qzvVCNQr34-S"
      },
      "execution_count": null,
      "outputs": []
    },
    {
      "cell_type": "code",
      "source": [
        ""
      ],
      "metadata": {
        "id": "_zSczsXP35BD"
      },
      "execution_count": null,
      "outputs": []
    },
    {
      "cell_type": "code",
      "source": [
        ""
      ],
      "metadata": {
        "id": "aMD3xRa_35Dm"
      },
      "execution_count": null,
      "outputs": []
    },
    {
      "cell_type": "code",
      "source": [
        ""
      ],
      "metadata": {
        "id": "GnjOvcf-35Gg"
      },
      "execution_count": null,
      "outputs": []
    },
    {
      "cell_type": "code",
      "source": [
        ""
      ],
      "metadata": {
        "id": "dqa_aDZd35KB"
      },
      "execution_count": null,
      "outputs": []
    },
    {
      "cell_type": "code",
      "source": [
        ""
      ],
      "metadata": {
        "id": "MyrqHyWS35Mn"
      },
      "execution_count": null,
      "outputs": []
    }
  ]
}