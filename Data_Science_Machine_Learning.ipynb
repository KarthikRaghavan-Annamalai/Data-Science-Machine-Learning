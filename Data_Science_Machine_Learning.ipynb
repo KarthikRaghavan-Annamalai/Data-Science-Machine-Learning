{
 "cells": [
  {
   "cell_type": "markdown",
   "metadata": {
    "id": "tZPAeChhbSDE"
   },
   "source": [
    "# 10th April Introduction session"
   ]
  },
  {
   "cell_type": "code",
   "execution_count": null,
   "metadata": {
    "id": "NBzn8KCcbZiq"
   },
   "outputs": [],
   "source": [
    "# Any 1 language - preferred Python for data analysis"
   ]
  },
  {
   "cell_type": "markdown",
   "metadata": {
    "id": "_GfKwtR5bjUV"
   },
   "source": [
    "Understanding of the below topics\n",
    "\n",
    "* API\n",
    "* Cloud\n",
    "* Ops\n",
    "* Deployment\n",
    "* Testing\n",
    "* CI/CD pipeline\n",
    "* ETL "
   ]
  },
  {
   "cell_type": "code",
   "execution_count": null,
   "metadata": {
    "id": "8_Dp0GL5bZle"
   },
   "outputs": [],
   "source": [
    "# We have to do modular programming / solution"
   ]
  },
  {
   "cell_type": "code",
   "execution_count": null,
   "metadata": {
    "id": "3mFjDRbXbZoS"
   },
   "outputs": [],
   "source": [
    "# for Every project/assignment some will be deployed and productionized"
   ]
  },
  {
   "cell_type": "markdown",
   "metadata": {
    "id": "bFKCwX9hcD5E"
   },
   "source": [
    "Required Topics and Concepts\n",
    "\n",
    "* Databases\n",
    "* Statistics\n",
    "* Deployment\n",
    "* Chatbot\n",
    "* Machine Learning\n",
    "* Data Analysis\n",
    "* Deep Learning"
   ]
  },
  {
   "cell_type": "code",
   "execution_count": null,
   "metadata": {
    "id": "7eacyhIKbZqt"
   },
   "outputs": [],
   "source": [
    "# how much Mathematics is required"
   ]
  },
  {
   "cell_type": "markdown",
   "metadata": {
    "id": "i7UxcKo1cVgR"
   },
   "source": [
    "* Relationship between variables\n",
    "* Features\n",
    "* Distributions\n",
    "* Skewed\n",
    "* Missing values\n",
    "* Outliers\n",
    "* Statistical Analysis"
   ]
  },
  {
   "cell_type": "code",
   "execution_count": null,
   "metadata": {
    "id": "4N6c0gdXcj2D"
   },
   "outputs": [],
   "source": [
    "# we need to know **why**  we are calling the function and **how** to interpret the results"
   ]
  },
  {
   "cell_type": "code",
   "execution_count": null,
   "metadata": {
    "id": "S6sznTE4cj73"
   },
   "outputs": [],
   "source": [
    "# basic algorithm --> mathematics --> building small solution --> fine tuning --> deploying"
   ]
  },
  {
   "cell_type": "code",
   "execution_count": null,
   "metadata": {
    "id": "ajQBN306ckA9"
   },
   "outputs": [],
   "source": [
    "# Skype Support --> support@ ineuron.ai\n",
    "# Sudhansu mail --> query@ineuron.ai"
   ]
  },
  {
   "cell_type": "markdown",
   "metadata": {
    "id": "lxYZb8s3dAVC"
   },
   "source": [
    "# 11th April Introduction Session - 2"
   ]
  },
  {
   "cell_type": "code",
   "execution_count": null,
   "metadata": {
    "id": "IYU5oeJDc-jJ"
   },
   "outputs": [],
   "source": [
    "# *Google Coral* to check for the list of different domains\n",
    "# We can learn to develop new solutions for different problems\n",
    "# See DSAR videos for architectural designs"
   ]
  },
  {
   "cell_type": "markdown",
   "metadata": {
    "id": "U7JnE7MIdfAj"
   },
   "source": [
    "* Business Understanding/ Problem requirements\n",
    "* Factors affecting\n",
    "  * Data preparation(ETL)\n",
    "  * Cloud (CI/CD)\n",
    "  * Big data\n",
    "* Statistical Analysis\n",
    "* EDA\n",
    "* Model Strategy\n",
    "  * Machine Learning approach\n",
    "  * Customized Machine Learning approach\n",
    "* Testing with unknown data and tuning also\n",
    "* Production\n",
    "* Retraining"
   ]
  },
  {
   "cell_type": "markdown",
   "metadata": {
    "id": "-h_YgXyaWUSL"
   },
   "source": [
    "# 17th April Installation and system setup"
   ]
  },
  {
   "cell_type": "markdown",
   "metadata": {
    "id": "KEZBivwTO-Op"
   },
   "source": [
    "## Python - Anaconda- Jupyter notebook"
   ]
  },
  {
   "cell_type": "markdown",
   "metadata": {
    "id": "ViKAPWywIONQ"
   },
   "source": [
    "Download Anaconda - anaconda.com/products/distribution"
   ]
  },
  {
   "cell_type": "code",
   "execution_count": null,
   "metadata": {
    "id": "DrB6hs9uGkKt"
   },
   "outputs": [],
   "source": [
    "# We will use libraries, create libraries in python"
   ]
  },
  {
   "cell_type": "code",
   "execution_count": null,
   "metadata": {
    "id": "uclWclOCGkNh"
   },
   "outputs": [],
   "source": [
    "# jupyter never executes our code\n",
    "# jupyter notebook is just a web page\n",
    "# the instructoin will be submitted to the backend and execute it there\n",
    "# the backend has a python kernal where it executes and returns the output or response \n",
    "# the instructions are submitted to backend\n",
    "# Anaconda is a bundle\n",
    "# we can include the packages in bundle\n",
    "# jupyter notebook has extension .ipynb (IPythonnotebook)"
   ]
  },
  {
   "cell_type": "code",
   "execution_count": null,
   "metadata": {
    "id": "J0IYLtrzGkQa"
   },
   "outputs": [],
   "source": [
    "# dir - to check the list of files in the directory in Anaconda prompt"
   ]
  },
  {
   "cell_type": "code",
   "execution_count": null,
   "metadata": {
    "id": "obGNGWwrGkVf"
   },
   "outputs": [],
   "source": [
    "# Save and Checkpoint - saving the file at that point and we can also revert to the checkpoint\n",
    "# Download as --> we can download the file in different formats"
   ]
  },
  {
   "cell_type": "code",
   "execution_count": null,
   "metadata": {
    "id": "dKLIEA_4GkYJ"
   },
   "outputs": [],
   "source": [
    "# import files to the current working directory if the files are in different directory\n",
    "# a copy will be available in the main location"
   ]
  },
  {
   "cell_type": "code",
   "execution_count": null,
   "metadata": {
    "id": "RzbIGzaEGkai"
   },
   "outputs": [],
   "source": [
    "# Alternate online editors for jupyter notebook\n",
    "# Jupyter notebook is good for a beginer but not for full scale modular project and not useful for model deployment"
   ]
  },
  {
   "cell_type": "code",
   "execution_count": null,
   "metadata": {
    "id": "1DUjOj9eGkgB"
   },
   "outputs": [],
   "source": [
    "# in case we see that we do not get the correct result, we will restart the kernal"
   ]
  },
  {
   "cell_type": "code",
   "execution_count": null,
   "metadata": {
    "id": "ToPWKX3zGki1"
   },
   "outputs": [],
   "source": [
    "# jupyter notebook will try to understand each and everything as a code"
   ]
  },
  {
   "cell_type": "code",
   "execution_count": null,
   "metadata": {
    "colab": {
     "base_uri": "https://localhost:8080/",
     "height": 130
    },
    "id": "uP9nrMlxGklt",
    "outputId": "09cf41cd-89aa-4a11-dcc3-03ac687a0e90"
   },
   "outputs": [
    {
     "ename": "SyntaxError",
     "evalue": "ignored",
     "output_type": "error",
     "traceback": [
      "\u001b[0;36m  File \u001b[0;32m\"<ipython-input-10-c45929c0755b>\"\u001b[0;36m, line \u001b[0;32m1\u001b[0m\n\u001b[0;31m    my name is karthik\u001b[0m\n\u001b[0m          ^\u001b[0m\n\u001b[0;31mSyntaxError\u001b[0m\u001b[0;31m:\u001b[0m invalid syntax\n"
     ]
    }
   ],
   "source": [
    "my name is karthik"
   ]
  },
  {
   "cell_type": "code",
   "execution_count": null,
   "metadata": {
    "id": "a0ghniXwGkoU"
   },
   "outputs": [],
   "source": [
    "# the above statement is a string and not a code so in case of that, we need to convert the statement into a markdown or raw or header"
   ]
  },
  {
   "cell_type": "markdown",
   "metadata": {
    "id": "WSFNuqMbXFHG"
   },
   "source": [
    "my name is karthik"
   ]
  },
  {
   "cell_type": "code",
   "execution_count": null,
   "metadata": {
    "colab": {
     "base_uri": "https://localhost:8080/"
    },
    "id": "HqIYscb7Gkri",
    "outputId": "1723865c-e593-4867-d520-d34681e2c635"
   },
   "outputs": [
    {
     "name": "stdout",
     "output_type": "stream",
     "text": [
      "my name is karthik\n"
     ]
    }
   ],
   "source": [
    "print('my name is karthik')"
   ]
  },
  {
   "cell_type": "code",
   "execution_count": null,
   "metadata": {
    "id": "e3tRiXeoGkuV"
   },
   "outputs": [],
   "source": [
    "# SHIFT + TAB to read the documentation or docstring on the instuctions and constraints\n",
    "# Going forward, we will do the same for the functions we create"
   ]
  },
  {
   "cell_type": "code",
   "execution_count": null,
   "metadata": {
    "colab": {
     "base_uri": "https://localhost:8080/"
    },
    "id": "Rbs3xDKiGkw_",
    "outputId": "2a1861e8-3e9e-49aa-b121-cefe62e32e6b"
   },
   "outputs": [
    {
     "name": "stdout",
     "output_type": "stream",
     "text": [
      "Help on built-in function print in module builtins:\n",
      "\n",
      "print(...)\n",
      "    print(value, ..., sep=' ', end='\\n', file=sys.stdout, flush=False)\n",
      "    \n",
      "    Prints the values to a stream, or to sys.stdout by default.\n",
      "    Optional keyword arguments:\n",
      "    file:  a file-like object (stream); defaults to the current sys.stdout.\n",
      "    sep:   string inserted between values, default a space.\n",
      "    end:   string appended after the last value, default a newline.\n",
      "    flush: whether to forcibly flush the stream.\n",
      "\n"
     ]
    }
   ],
   "source": [
    "help(print)"
   ]
  },
  {
   "cell_type": "code",
   "execution_count": null,
   "metadata": {
    "id": "Mjy3zM1pGk0j"
   },
   "outputs": [],
   "source": [
    "# help with the function also gives the documentation"
   ]
  },
  {
   "cell_type": "code",
   "execution_count": null,
   "metadata": {
    "id": "PLa7CuhSGk2_"
   },
   "outputs": [],
   "source": [
    "# For real time or production, we cannot use jupyter notebook but we will see going forward"
   ]
  },
  {
   "cell_type": "code",
   "execution_count": null,
   "metadata": {
    "id": "S9dW1lLZGk6S"
   },
   "outputs": [],
   "source": [
    "# Apart from jupyter notebook, we have Pycharm(community version) or VS code for IDE(integrated development environment)"
   ]
  },
  {
   "cell_type": "code",
   "execution_count": null,
   "metadata": {
    "id": "_QJMObbL412E"
   },
   "outputs": [],
   "source": [
    "# Assignment submission details given "
   ]
  },
  {
   "cell_type": "markdown",
   "metadata": {
    "id": "gjhefZ_ZgAf3"
   },
   "source": [
    "# 8th May Python Overview, discussing regarding Data pipeline and Data science"
   ]
  },
  {
   "cell_type": "markdown",
   "metadata": {
    "id": "SWxd3WYvl9CY"
   },
   "source": [
    "Python is a programming language. It is compiler and interpretable language \n",
    "There are 2 versions of Python , 2.x and 3.x\n",
    "\n",
    "We will learn only 3.X Python\n",
    "We can use python for system programming, GUI(graphical user interface) - Application, web scraping. \n",
    "There are many differeent libraries available for multiple types of word\n",
    "\n",
    "We can interact with databases using Python.\n",
    "\n",
    "We can use python for faster prototyping(building sample application).\n",
    "less lines of code compared to other languages\n",
    "\n",
    "We can use python for RPA(Robotic process Application).\n",
    "\n",
    "\n",
    "Python can be used for Image processing, data science, data mining, big data and data analytics.\n",
    "\n"
   ]
  },
  {
   "cell_type": "markdown",
   "metadata": {
    "id": "Aw5bKOcqng6k"
   },
   "source": [
    "Python is a bit slow compared to other languages. Python is easier to use compared to other languages\n",
    "\n",
    "Python has huge open source community support.\n",
    "\n"
   ]
  },
  {
   "cell_type": "markdown",
   "metadata": {
    "id": "Z3K25dHOoLFi"
   },
   "source": [
    "Data Science Industry : \n",
    "\n",
    "How it is ? This will show us in which area we work\n",
    "\n",
    "There are 3 things \n",
    "\n",
    "* Big Data\n",
    "* Data analytics\n",
    "* Data science\n",
    "\n",
    "These 3 areas of connected together in our area of work.\n",
    "\n",
    "---------------------------------------------------------------\n",
    "\n",
    " >> Data science is a Technical Stack and not a Domain.Domain does not matter.\n",
    "---------------------------------------------------------------\n",
    "\n",
    "* BIG DATA\n",
    "\n",
    "> Hadoop 2.x or 3.x HDFS,\n",
    "> Hive,\n",
    "> imphal,\n",
    "> Pig,\n",
    "> oozie,\n",
    "> squup,\n",
    "> flime,\n",
    "> kafka,\n",
    "> zookeeper,\n",
    "> storm,\n",
    "> spark,\n",
    "> phoenix,\n",
    "> flink,\n",
    "> HBASE\n",
    "\n",
    "\n",
    "---------------------------------------------------------------\n",
    "* DATA ANALYTICS or BUSINESS ANALYTICS\n",
    "\n",
    "> Tableau, PowerBI, Advanced excel, SQL, some language, clickview, stats\n",
    "\n",
    "---------------------------------------------------------------\n",
    "* DATA SCIENCE\n",
    "\n",
    "  * Statistics\n",
    "  * ML Eng\n",
    "  * DL Eng\n",
    "  * NLP Eng\n",
    "  * RL Eng\n",
    "  * Ops Eng\n",
    "  * Research Eng\n",
    "  * Functional Eng\n",
    "\n",
    "Functional Data scientist knows a domain.\n",
    "Statiscians\n",
    "\n",
    "> Mathematics depends on the area we work as data scientist.\n",
    "\n"
   ]
  },
  {
   "cell_type": "markdown",
   "metadata": {
    "id": "ZVJoGIBkwCVT"
   },
   "source": [
    "Technology wise we need one programming language is required.\n",
    "\n",
    "* Try learning 1 language \n",
    "* General Mathematics\n",
    "\n",
    "\n",
    "\n",
    "We use Big data to build a complete pipeline.\n",
    "Dashboarding and visualization are different\n",
    "\n",
    ">> Data integration -> Data Preprocessing -> Data Preparation -> Modeling -> Forecasting (overview - not exact)\n",
    "\n",
    "Data Analytics Team does the Dashboarding with final report with 1 or n number of databases.\n",
    "\n"
   ]
  },
  {
   "cell_type": "code",
   "execution_count": null,
   "metadata": {
    "id": "FyW_so_B3449"
   },
   "outputs": [],
   "source": [
    "# papers with code on google to get the latest trend"
   ]
  },
  {
   "cell_type": "markdown",
   "metadata": {
    "id": "Yk7aZ01f8ev_"
   },
   "source": [
    "# 15th May Basic Python implementation in Jupyter notebook and Google Colab"
   ]
  },
  {
   "cell_type": "markdown",
   "metadata": {
    "id": "9gu2APCT347-"
   },
   "source": [
    "###### Variable"
   ]
  },
  {
   "cell_type": "code",
   "execution_count": 3,
   "metadata": {
    "id": "qzvVCNQr34-S"
   },
   "outputs": [
    {
     "data": {
      "text/plain": [
       "10"
      ]
     },
     "execution_count": 3,
     "metadata": {},
     "output_type": "execute_result"
    }
   ],
   "source": [
    "a = 10\n",
    "a"
   ]
  },
  {
   "cell_type": "code",
   "execution_count": null,
   "metadata": {
    "id": "_zSczsXP35BD"
   },
   "outputs": [],
   "source": [
    "# It is an entity that will hold the data at runtime.\n",
    "# variable will be stored to RAM(Main Memory) and will try to process.\n",
    "# variable is a and 10 is the value assigned to the variable.\n",
    "# going forward we will be storing GB / TB of data.\n",
    "# in case we restart the kernal and try to access a, we will not be able to perform any operations with a as it will be removed.\n",
    "# we have to again assign 10 to a for using the variable after kernal restart."
   ]
  },
  {
   "cell_type": "code",
   "execution_count": 4,
   "metadata": {
    "id": "aMD3xRa_35Dm"
   },
   "outputs": [
    {
     "data": {
      "text/plain": [
       "2314531269200"
      ]
     },
     "execution_count": 4,
     "metadata": {},
     "output_type": "execute_result"
    }
   ],
   "source": [
    "id(a) # Each variable has its own address."
   ]
  },
  {
   "cell_type": "code",
   "execution_count": null,
   "metadata": {
    "id": "GnjOvcf-35Gg"
   },
   "outputs": [],
   "source": [
    "# we can create datatypes with integer, float, string, complex"
   ]
  },
  {
   "cell_type": "code",
   "execution_count": 5,
   "metadata": {
    "id": "dqa_aDZd35KB"
   },
   "outputs": [
    {
     "data": {
      "text/plain": [
       "int"
      ]
     },
     "execution_count": 5,
     "metadata": {},
     "output_type": "execute_result"
    }
   ],
   "source": [
    "type(a) # to check the data types of the variable\n",
    "# type is a predefined function"
   ]
  },
  {
   "cell_type": "code",
   "execution_count": 38,
   "metadata": {
    "id": "MyrqHyWS35Mn"
   },
   "outputs": [
    {
     "name": "stdout",
     "output_type": "stream",
     "text": [
      "1 <class 'int'>\n",
      "1.5 <class 'float'>\n",
      "K <class 'str'>\n",
      "(1+2j) <class 'complex'>\n",
      "True <class 'bool'>\n"
     ]
    }
   ],
   "source": [
    "print(1,type(1)) # integer\n",
    "print(1.5,type(1.5)) # float\n",
    "print('K',type('K')) # string\n",
    "print(1+2j,type(1+2j)) # complex\n",
    "print(True,type(True)) # boolean"
   ]
  },
  {
   "cell_type": "code",
   "execution_count": 7,
   "metadata": {},
   "outputs": [],
   "source": [
    "# There are certain conditions to create a variable\n",
    "# we cannot use special character\n",
    "# we cannot start with number\n",
    "# case sensitive\n",
    "# we can use underscore for a variable\n",
    "# we have to use proper variable names"
   ]
  },
  {
   "cell_type": "code",
   "execution_count": 9,
   "metadata": {},
   "outputs": [
    {
     "ename": "SyntaxError",
     "evalue": "invalid syntax (Temp/ipykernel_31936/2943077745.py, line 1)",
     "output_type": "error",
     "traceback": [
      "\u001b[1;36m  File \u001b[1;32m\"C:\\Users\\KARTHI~1\\AppData\\Local\\Temp/ipykernel_31936/2943077745.py\"\u001b[1;36m, line \u001b[1;32m1\u001b[0m\n\u001b[1;33m    13abc = 5\u001b[0m\n\u001b[1;37m      ^\u001b[0m\n\u001b[1;31mSyntaxError\u001b[0m\u001b[1;31m:\u001b[0m invalid syntax\n"
     ]
    }
   ],
   "source": [
    "13abc = 5\n",
    "# 13abc ==> incorrect"
   ]
  },
  {
   "cell_type": "code",
   "execution_count": 10,
   "metadata": {},
   "outputs": [
    {
     "ename": "SyntaxError",
     "evalue": "invalid syntax (Temp/ipykernel_31936/1942584962.py, line 1)",
     "output_type": "error",
     "traceback": [
      "\u001b[1;36m  File \u001b[1;32m\"C:\\Users\\KARTHI~1\\AppData\\Local\\Temp/ipykernel_31936/1942584962.py\"\u001b[1;36m, line \u001b[1;32m1\u001b[0m\n\u001b[1;33m    $abc = 5\u001b[0m\n\u001b[1;37m    ^\u001b[0m\n\u001b[1;31mSyntaxError\u001b[0m\u001b[1;31m:\u001b[0m invalid syntax\n"
     ]
    }
   ],
   "source": [
    "$abc = 5\n",
    "\n",
    "# $abc ==> incorrect"
   ]
  },
  {
   "cell_type": "code",
   "execution_count": 11,
   "metadata": {},
   "outputs": [],
   "source": [
    "_abc = 5\n",
    "\n",
    "# _abc ==> correct"
   ]
  },
  {
   "cell_type": "code",
   "execution_count": 12,
   "metadata": {},
   "outputs": [
    {
     "name": "stdout",
     "output_type": "stream",
     "text": [
      "Help on class type in module builtins:\n",
      "\n",
      "class type(object)\n",
      " |  type(object_or_name, bases, dict)\n",
      " |  type(object) -> the object's type\n",
      " |  type(name, bases, dict) -> a new type\n",
      " |  \n",
      " |  Methods defined here:\n",
      " |  \n",
      " |  __call__(self, /, *args, **kwargs)\n",
      " |      Call self as a function.\n",
      " |  \n",
      " |  __delattr__(self, name, /)\n",
      " |      Implement delattr(self, name).\n",
      " |  \n",
      " |  __dir__(self, /)\n",
      " |      Specialized __dir__ implementation for types.\n",
      " |  \n",
      " |  __getattribute__(self, name, /)\n",
      " |      Return getattr(self, name).\n",
      " |  \n",
      " |  __init__(self, /, *args, **kwargs)\n",
      " |      Initialize self.  See help(type(self)) for accurate signature.\n",
      " |  \n",
      " |  __instancecheck__(self, instance, /)\n",
      " |      Check if an object is an instance.\n",
      " |  \n",
      " |  __repr__(self, /)\n",
      " |      Return repr(self).\n",
      " |  \n",
      " |  __setattr__(self, name, value, /)\n",
      " |      Implement setattr(self, name, value).\n",
      " |  \n",
      " |  __sizeof__(self, /)\n",
      " |      Return memory consumption of the type object.\n",
      " |  \n",
      " |  __subclasscheck__(self, subclass, /)\n",
      " |      Check if a class is a subclass.\n",
      " |  \n",
      " |  __subclasses__(self, /)\n",
      " |      Return a list of immediate subclasses.\n",
      " |  \n",
      " |  mro(self, /)\n",
      " |      Return a type's method resolution order.\n",
      " |  \n",
      " |  ----------------------------------------------------------------------\n",
      " |  Class methods defined here:\n",
      " |  \n",
      " |  __prepare__(...)\n",
      " |      __prepare__() -> dict\n",
      " |      used to create the namespace for the class statement\n",
      " |  \n",
      " |  ----------------------------------------------------------------------\n",
      " |  Static methods defined here:\n",
      " |  \n",
      " |  __new__(*args, **kwargs)\n",
      " |      Create and return a new object.  See help(type) for accurate signature.\n",
      " |  \n",
      " |  ----------------------------------------------------------------------\n",
      " |  Data descriptors defined here:\n",
      " |  \n",
      " |  __abstractmethods__\n",
      " |  \n",
      " |  __dict__\n",
      " |  \n",
      " |  __text_signature__\n",
      " |  \n",
      " |  ----------------------------------------------------------------------\n",
      " |  Data and other attributes defined here:\n",
      " |  \n",
      " |  __base__ = <class 'object'>\n",
      " |      The base class of the class hierarchy.\n",
      " |      \n",
      " |      When called, it accepts no arguments and returns a new featureless\n",
      " |      instance that has no instance attributes and cannot be given any.\n",
      " |  \n",
      " |  \n",
      " |  __bases__ = (<class 'object'>,)\n",
      " |  \n",
      " |  __basicsize__ = 880\n",
      " |  \n",
      " |  __dictoffset__ = 264\n",
      " |  \n",
      " |  __flags__ = 2148293632\n",
      " |  \n",
      " |  __itemsize__ = 40\n",
      " |  \n",
      " |  __mro__ = (<class 'type'>, <class 'object'>)\n",
      " |  \n",
      " |  __weakrefoffset__ = 368\n",
      "\n"
     ]
    }
   ],
   "source": [
    "help(type) # or Shift and Tab"
   ]
  },
  {
   "cell_type": "code",
   "execution_count": 14,
   "metadata": {},
   "outputs": [
    {
     "name": "stdout",
     "output_type": "stream",
     "text": [
      "This is my first string\n"
     ]
    }
   ],
   "source": [
    "print('This is my first string') # Strings should be enclosed within '' or \"\"\n",
    "# print will show the output below the executed cell"
   ]
  },
  {
   "cell_type": "code",
   "execution_count": 15,
   "metadata": {},
   "outputs": [
    {
     "data": {
      "text/plain": [
       "'This is my first string'"
      ]
     },
     "execution_count": 15,
     "metadata": {},
     "output_type": "execute_result"
    }
   ],
   "source": [
    "'This is my first string'"
   ]
  },
  {
   "cell_type": "code",
   "execution_count": 16,
   "metadata": {},
   "outputs": [
    {
     "name": "stdout",
     "output_type": "stream",
     "text": [
      "This is my first string\n"
     ]
    }
   ],
   "source": [
    "s = 'This is my first string'\n",
    "print(s)"
   ]
  },
  {
   "cell_type": "code",
   "execution_count": 17,
   "metadata": {},
   "outputs": [],
   "source": [
    "# we can create a variable to pass the string or directly give the string"
   ]
  },
  {
   "cell_type": "code",
   "execution_count": 19,
   "metadata": {},
   "outputs": [
    {
     "ename": "SyntaxError",
     "evalue": "invalid syntax (Temp/ipykernel_31936/825747857.py, line 1)",
     "output_type": "error",
     "traceback": [
      "\u001b[1;36m  File \u001b[1;32m\"C:\\Users\\KARTHI~1\\AppData\\Local\\Temp/ipykernel_31936/825747857.py\"\u001b[1;36m, line \u001b[1;32m1\u001b[0m\n\u001b[1;33m    This is my second string\u001b[0m\n\u001b[1;37m               ^\u001b[0m\n\u001b[1;31mSyntaxError\u001b[0m\u001b[1;31m:\u001b[0m invalid syntax\n"
     ]
    }
   ],
   "source": [
    "This is my second string\n",
    "\n",
    "# Jupyter notebooks usually reads everything as a code snippet\n",
    "# if we dont want to execute this cell as a code, we can change it to markdown or RAW NB convert\n",
    "# We can use headings with Markdown using # values"
   ]
  },
  {
   "cell_type": "markdown",
   "metadata": {},
   "source": [
    "This is my second string --> cell has been converted to Markdown"
   ]
  },
  {
   "cell_type": "raw",
   "metadata": {},
   "source": [
    "This is my second string --> cell has been converted to Raw NB convert"
   ]
  },
  {
   "cell_type": "code",
   "execution_count": 21,
   "metadata": {},
   "outputs": [],
   "source": [
    "a = 10\n",
    "# 10 is assigned to variable a\n",
    "# we use # to comment the line or statements, non executable line. This is a single line comment"
   ]
  },
  {
   "cell_type": "code",
   "execution_count": 26,
   "metadata": {},
   "outputs": [
    {
     "data": {
      "text/plain": [
       "'\\nIn case we need to use multi line comments,\\nwe need to enclose the comments within triple double quotes or triple single quotes\\n'"
      ]
     },
     "execution_count": 26,
     "metadata": {},
     "output_type": "execute_result"
    }
   ],
   "source": [
    "# multi line comments\n",
    "\n",
    "\"\"\"\n",
    "In case we need to use multi line comments,\n",
    "we need to enclose the comments within triple double quotes\n",
    "\"\"\"\n",
    "# or\n",
    "'''\n",
    "In case we need to use multi line comments,\n",
    "we need to enclose the comments within triple single quotes\n",
    "'''"
   ]
  },
  {
   "cell_type": "code",
   "execution_count": 27,
   "metadata": {},
   "outputs": [],
   "source": [
    "# we can rename the Jupyter notebook as per our wish\n",
    "# either doble click on the file top and rename\n",
    "# other option is to rename from the home page(local host)\n",
    "# jupyter notebooks have the extension .ipynb"
   ]
  },
  {
   "cell_type": "code",
   "execution_count": 28,
   "metadata": {},
   "outputs": [
    {
     "data": {
      "text/plain": [
       "complex"
      ]
     },
     "execution_count": 28,
     "metadata": {},
     "output_type": "execute_result"
    }
   ],
   "source": [
    "complex_variable = 8 + 4j # complex number\n",
    "type(complex_variable) # type of the variable\n",
    "# 8 is real number and 4 is the imaginery number"
   ]
  },
  {
   "cell_type": "code",
   "execution_count": 30,
   "metadata": {},
   "outputs": [],
   "source": [
    "# to get the attributes, use period(.) after the variable\n",
    "# These are inbuilt"
   ]
  },
  {
   "cell_type": "code",
   "execution_count": 32,
   "metadata": {},
   "outputs": [
    {
     "data": {
      "text/plain": [
       "(8-4j)"
      ]
     },
     "execution_count": 32,
     "metadata": {},
     "output_type": "execute_result"
    }
   ],
   "source": [
    "complex_variable.conjugate()"
   ]
  },
  {
   "cell_type": "code",
   "execution_count": 34,
   "metadata": {},
   "outputs": [
    {
     "data": {
      "text/plain": [
       "4.0"
      ]
     },
     "execution_count": 34,
     "metadata": {},
     "output_type": "execute_result"
    }
   ],
   "source": [
    "complex_variable.imag"
   ]
  },
  {
   "cell_type": "code",
   "execution_count": 35,
   "metadata": {},
   "outputs": [
    {
     "data": {
      "text/plain": [
       "8.0"
      ]
     },
     "execution_count": 35,
     "metadata": {},
     "output_type": "execute_result"
    }
   ],
   "source": [
    "complex_variable.real"
   ]
  },
  {
   "cell_type": "code",
   "execution_count": 39,
   "metadata": {},
   "outputs": [
    {
     "data": {
      "text/plain": [
       "True"
      ]
     },
     "execution_count": 39,
     "metadata": {},
     "output_type": "execute_result"
    }
   ],
   "source": [
    "n = True\n",
    "n"
   ]
  },
  {
   "cell_type": "code",
   "execution_count": 40,
   "metadata": {},
   "outputs": [
    {
     "data": {
      "text/plain": [
       "bool"
      ]
     },
     "execution_count": 40,
     "metadata": {},
     "output_type": "execute_result"
    }
   ],
   "source": [
    "type(True)\n",
    "\n",
    "# true represents 1 and false represents 0"
   ]
  },
  {
   "cell_type": "code",
   "execution_count": 43,
   "metadata": {},
   "outputs": [
    {
     "ename": "ZeroDivisionError",
     "evalue": "division by zero",
     "output_type": "error",
     "traceback": [
      "\u001b[1;31m---------------------------------------------------------------------------\u001b[0m",
      "\u001b[1;31mZeroDivisionError\u001b[0m                         Traceback (most recent call last)",
      "\u001b[1;32mC:\\Users\\KARTHI~1\\AppData\\Local\\Temp/ipykernel_31936/1999151124.py\u001b[0m in \u001b[0;36m<module>\u001b[1;34m\u001b[0m\n\u001b[1;32m----> 1\u001b[1;33m \u001b[1;36m4\u001b[0m\u001b[1;33m/\u001b[0m\u001b[1;36m0\u001b[0m\u001b[1;33m\u001b[0m\u001b[1;33m\u001b[0m\u001b[0m\n\u001b[0m\u001b[0;32m      2\u001b[0m \u001b[1;33m\u001b[0m\u001b[0m\n\u001b[0;32m      3\u001b[0m \u001b[1;31m# if a value is divided by 0, it will be Division by Zero error\u001b[0m\u001b[1;33m\u001b[0m\u001b[1;33m\u001b[0m\u001b[0m\n\u001b[0;32m      4\u001b[0m \u001b[1;31m# we can use the operation in numpy, it will be inf\u001b[0m\u001b[1;33m\u001b[0m\u001b[1;33m\u001b[0m\u001b[0m\n",
      "\u001b[1;31mZeroDivisionError\u001b[0m: division by zero"
     ]
    }
   ],
   "source": [
    "4/0\n",
    "\n",
    "# if a value is divided by 0, it will be Division by Zero error\n",
    "# we can use the operation in numpy, it will be inf"
   ]
  },
  {
   "cell_type": "code",
   "execution_count": 44,
   "metadata": {},
   "outputs": [
    {
     "data": {
      "text/plain": [
       "1"
      ]
     },
     "execution_count": 44,
     "metadata": {},
     "output_type": "execute_result"
    }
   ],
   "source": [
    "5 % 2 # % gives the reminder of the value"
   ]
  },
  {
   "cell_type": "code",
   "execution_count": 46,
   "metadata": {},
   "outputs": [
    {
     "data": {
      "text/plain": [
       "25"
      ]
     },
     "execution_count": 46,
     "metadata": {},
     "output_type": "execute_result"
    }
   ],
   "source": [
    "5 ** 2 # ** gives the power values"
   ]
  },
  {
   "cell_type": "code",
   "execution_count": 47,
   "metadata": {},
   "outputs": [
    {
     "data": {
      "text/plain": [
       "'AAAAAAAAAAAAAAAAAAAA'"
      ]
     },
     "execution_count": 47,
     "metadata": {},
     "output_type": "execute_result"
    }
   ],
   "source": [
    "# if datatype is string, it will multiply when given a number\n",
    "'A' * 20 "
   ]
  },
  {
   "cell_type": "code",
   "execution_count": 49,
   "metadata": {},
   "outputs": [
    {
     "data": {
      "text/plain": [
       "'Kingpin'"
      ]
     },
     "execution_count": 49,
     "metadata": {},
     "output_type": "execute_result"
    }
   ],
   "source": [
    "'King' + 'pin'"
   ]
  },
  {
   "cell_type": "code",
   "execution_count": 50,
   "metadata": {},
   "outputs": [],
   "source": [
    "# concatenation works when we have same data type"
   ]
  },
  {
   "cell_type": "code",
   "execution_count": 51,
   "metadata": {},
   "outputs": [
    {
     "ename": "TypeError",
     "evalue": "can only concatenate str (not \"int\") to str",
     "output_type": "error",
     "traceback": [
      "\u001b[1;31m---------------------------------------------------------------------------\u001b[0m",
      "\u001b[1;31mTypeError\u001b[0m                                 Traceback (most recent call last)",
      "\u001b[1;32mC:\\Users\\KARTHI~1\\AppData\\Local\\Temp/ipykernel_31936/2400233845.py\u001b[0m in \u001b[0;36m<module>\u001b[1;34m\u001b[0m\n\u001b[1;32m----> 1\u001b[1;33m \u001b[1;34m'A'\u001b[0m \u001b[1;33m+\u001b[0m \u001b[1;36m1\u001b[0m\u001b[1;33m\u001b[0m\u001b[1;33m\u001b[0m\u001b[0m\n\u001b[0m",
      "\u001b[1;31mTypeError\u001b[0m: can only concatenate str (not \"int\") to str"
     ]
    }
   ],
   "source": [
    "'A' + 1"
   ]
  },
  {
   "cell_type": "code",
   "execution_count": 52,
   "metadata": {},
   "outputs": [
    {
     "data": {
      "text/plain": [
       "'A1'"
      ]
     },
     "execution_count": 52,
     "metadata": {},
     "output_type": "execute_result"
    }
   ],
   "source": [
    "'A' + '1'"
   ]
  },
  {
   "cell_type": "code",
   "execution_count": 54,
   "metadata": {},
   "outputs": [
    {
     "data": {
      "text/plain": [
       "'123'"
      ]
     },
     "execution_count": 54,
     "metadata": {},
     "output_type": "execute_result"
    }
   ],
   "source": [
    "# Type Casting\n",
    "\n",
    "str('123') # converted to string"
   ]
  },
  {
   "cell_type": "code",
   "execution_count": 55,
   "metadata": {},
   "outputs": [
    {
     "data": {
      "text/plain": [
       "1"
      ]
     },
     "execution_count": 55,
     "metadata": {},
     "output_type": "execute_result"
    }
   ],
   "source": [
    "int('1') # converted to integer"
   ]
  },
  {
   "cell_type": "code",
   "execution_count": 56,
   "metadata": {},
   "outputs": [
    {
     "data": {
      "text/plain": [
       "7"
      ]
     },
     "execution_count": 56,
     "metadata": {},
     "output_type": "execute_result"
    }
   ],
   "source": [
    "# Bitwise XOR operator\n",
    "\n",
    "5 ^ 2"
   ]
  },
  {
   "cell_type": "code",
   "execution_count": 57,
   "metadata": {},
   "outputs": [
    {
     "name": "stdout",
     "output_type": "stream",
     "text": [
      "Enter the input:123\n"
     ]
    },
    {
     "data": {
      "text/plain": [
       "'123'"
      ]
     },
     "execution_count": 57,
     "metadata": {},
     "output_type": "execute_result"
    }
   ],
   "source": [
    "# input from user\n",
    "# it is an in built function\n",
    "# reads as a string so we have to convert it to the data type we want\n",
    "# we use type casting to convert\n",
    "\n",
    "input('Enter the input:')"
   ]
  },
  {
   "cell_type": "code",
   "execution_count": 58,
   "metadata": {},
   "outputs": [
    {
     "name": "stdout",
     "output_type": "stream",
     "text": [
      "Help on method raw_input in module ipykernel.kernelbase:\n",
      "\n",
      "raw_input(prompt='') method of ipykernel.ipkernel.IPythonKernel instance\n",
      "    Forward raw_input to frontends\n",
      "    \n",
      "    Raises\n",
      "    ------\n",
      "    StdinNotImplementedError if active frontend doesn't support stdin.\n",
      "\n"
     ]
    }
   ],
   "source": [
    "help(input)"
   ]
  },
  {
   "cell_type": "code",
   "execution_count": 59,
   "metadata": {},
   "outputs": [
    {
     "name": "stdout",
     "output_type": "stream",
     "text": [
      "Enter the input:5\n"
     ]
    },
    {
     "data": {
      "text/plain": [
       "5"
      ]
     },
     "execution_count": 59,
     "metadata": {},
     "output_type": "execute_result"
    }
   ],
   "source": [
    "int(input('Enter the input:'))"
   ]
  },
  {
   "cell_type": "markdown",
   "metadata": {},
   "source": [
    "# 16th May Discussion regarding Github,List(Fundamental operations of list),Range"
   ]
  },
  {
   "cell_type": "code",
   "execution_count": 61,
   "metadata": {},
   "outputs": [],
   "source": [
    "# Went through Github process for creating repositories for assignments and projects\n",
    "# Account creation for Github\n",
    "# Assignment instructions"
   ]
  },
  {
   "cell_type": "code",
   "execution_count": 62,
   "metadata": {},
   "outputs": [],
   "source": [
    "# There are different types of Data Structure"
   ]
  },
  {
   "cell_type": "markdown",
   "metadata": {},
   "source": [
    "###### List"
   ]
  },
  {
   "cell_type": "code",
   "execution_count": 63,
   "metadata": {},
   "outputs": [
    {
     "data": {
      "text/plain": [
       "list"
      ]
     },
     "execution_count": 63,
     "metadata": {},
     "output_type": "execute_result"
    }
   ],
   "source": [
    "# list holds values from different data types\n",
    "# there are 2 ways to create lists in python [] or list()\n",
    "\n",
    "l = [1,1.5,'test',True,1+2j] # holds heterogenous datatypes\n",
    "type(l)"
   ]
  },
  {
   "cell_type": "code",
   "execution_count": 65,
   "metadata": {},
   "outputs": [
    {
     "name": "stdout",
     "output_type": "stream",
     "text": [
      "[1, 1.5, 'test', True, (1+2j)]\n"
     ]
    }
   ],
   "source": [
    "print(l)"
   ]
  },
  {
   "cell_type": "code",
   "execution_count": 69,
   "metadata": {},
   "outputs": [
    {
     "data": {
      "text/plain": [
       "[5, 'true']"
      ]
     },
     "execution_count": 69,
     "metadata": {},
     "output_type": "execute_result"
    }
   ],
   "source": [
    "list((5,'true')) # using list()"
   ]
  },
  {
   "cell_type": "code",
   "execution_count": 70,
   "metadata": {},
   "outputs": [],
   "source": [
    "# String is a primitive datatype\n",
    "# list is a collection of the data"
   ]
  },
  {
   "cell_type": "code",
   "execution_count": 72,
   "metadata": {},
   "outputs": [],
   "source": [
    "# list always stores the values using index\n",
    "# The index starts with 0 and ends with n-1\n",
    "# In reverse order, indexing starts with -1 and ends with -n"
   ]
  },
  {
   "cell_type": "code",
   "execution_count": 79,
   "metadata": {},
   "outputs": [
    {
     "data": {
      "text/plain": [
       "4"
      ]
     },
     "execution_count": 79,
     "metadata": {},
     "output_type": "execute_result"
    }
   ],
   "source": [
    "l.index(1+2j) # getting the index value using the elements in the list"
   ]
  },
  {
   "cell_type": "code",
   "execution_count": 81,
   "metadata": {},
   "outputs": [
    {
     "data": {
      "text/plain": [
       "1"
      ]
     },
     "execution_count": 81,
     "metadata": {},
     "output_type": "execute_result"
    }
   ],
   "source": [
    "l[0] # getting the element value using the index of the list"
   ]
  },
  {
   "cell_type": "code",
   "execution_count": 86,
   "metadata": {},
   "outputs": [],
   "source": [
    "# We can also store lists or list of lists within list\n",
    "\n",
    "\n",
    "l.append([1,1.5,'test',True,1+2j,[1,1.5,'test',True,1+2j],[1,1.5,'test',True,1+2j]])"
   ]
  },
  {
   "cell_type": "code",
   "execution_count": 93,
   "metadata": {},
   "outputs": [
    {
     "data": {
      "text/plain": [
       "[34, 34.5, 'test', True, (4+7j), [1, 1.5, 'test', True, (1+2j)]]"
      ]
     },
     "execution_count": 93,
     "metadata": {},
     "output_type": "execute_result"
    }
   ],
   "source": [
    "l1 = [34,34.5,'test',True,4+7j,[1,1.5,'test',True,1+2j]]\n",
    "l1"
   ]
  },
  {
   "cell_type": "code",
   "execution_count": 96,
   "metadata": {},
   "outputs": [
    {
     "data": {
      "text/plain": [
       "1.5"
      ]
     },
     "execution_count": 96,
     "metadata": {},
     "output_type": "execute_result"
    }
   ],
   "source": [
    "l1[5][1]"
   ]
  },
  {
   "cell_type": "code",
   "execution_count": 99,
   "metadata": {},
   "outputs": [
    {
     "data": {
      "text/plain": [
       "True"
      ]
     },
     "execution_count": 99,
     "metadata": {},
     "output_type": "execute_result"
    }
   ],
   "source": [
    "l1[-1][-2]"
   ]
  },
  {
   "cell_type": "code",
   "execution_count": 101,
   "metadata": {},
   "outputs": [
    {
     "ename": "IndexError",
     "evalue": "list index out of range",
     "output_type": "error",
     "traceback": [
      "\u001b[1;31m---------------------------------------------------------------------------\u001b[0m",
      "\u001b[1;31mIndexError\u001b[0m                                Traceback (most recent call last)",
      "\u001b[1;32mC:\\Users\\KARTHI~1\\AppData\\Local\\Temp/ipykernel_31936/1082856662.py\u001b[0m in \u001b[0;36m<module>\u001b[1;34m\u001b[0m\n\u001b[1;32m----> 1\u001b[1;33m \u001b[0ml1\u001b[0m\u001b[1;33m[\u001b[0m\u001b[1;36m6\u001b[0m\u001b[1;33m]\u001b[0m \u001b[1;31m# incase we do not have at 6th location, we will get an error stating index is out of range\u001b[0m\u001b[1;33m\u001b[0m\u001b[1;33m\u001b[0m\u001b[0m\n\u001b[0m",
      "\u001b[1;31mIndexError\u001b[0m: list index out of range"
     ]
    }
   ],
   "source": [
    "l1[6] # incase we do not have at 6th location, we will get an error stating index is out of range"
   ]
  },
  {
   "cell_type": "code",
   "execution_count": 104,
   "metadata": {},
   "outputs": [],
   "source": [
    "# Comparing with String\n",
    "\n",
    "s = \"\"\"GitHub, Inc. is a provider of Internet hosting for software development and version control using Git. It offers the distributed version control and source code management (SCM) functionality of Git, plus its own features. It provides access control and several collaboration features such as bug tracking, feature requests, task management, continuous integration, and wikis for every project.[4] Headquartered in California, it has been a subsidiary of Microsoft since 2018.[5]\n",
    "\n",
    "It is commonly used to host open-source projects.[6] As of June 2022, GitHub reports having over 83 million developers[7] and more than 200 million repositories[8] (including at least 28 million public repositories).[9] It is the largest source code host as of November 2021.\"\"\""
   ]
  },
  {
   "cell_type": "code",
   "execution_count": 108,
   "metadata": {},
   "outputs": [
    {
     "data": {
      "text/plain": [
       "'I'"
      ]
     },
     "execution_count": 108,
     "metadata": {},
     "output_type": "execute_result"
    }
   ],
   "source": [
    "s[8] # We can index in string as well"
   ]
  },
  {
   "cell_type": "code",
   "execution_count": 110,
   "metadata": {},
   "outputs": [
    {
     "ename": "IndexError",
     "evalue": "string index out of range",
     "output_type": "error",
     "traceback": [
      "\u001b[1;31m---------------------------------------------------------------------------\u001b[0m",
      "\u001b[1;31mIndexError\u001b[0m                                Traceback (most recent call last)",
      "\u001b[1;32mC:\\Users\\KARTHI~1\\AppData\\Local\\Temp/ipykernel_31936/3568756693.py\u001b[0m in \u001b[0;36m<module>\u001b[1;34m\u001b[0m\n\u001b[1;32m----> 1\u001b[1;33m \u001b[0ms\u001b[0m\u001b[1;33m[\u001b[0m\u001b[1;36m756\u001b[0m\u001b[1;33m]\u001b[0m\u001b[1;33m\u001b[0m\u001b[1;33m\u001b[0m\u001b[0m\n\u001b[0m",
      "\u001b[1;31mIndexError\u001b[0m: string index out of range"
     ]
    }
   ],
   "source": [
    "s[756] # even for string, if the location is not available we get string index not in range"
   ]
  },
  {
   "cell_type": "code",
   "execution_count": 115,
   "metadata": {},
   "outputs": [
    {
     "name": "stdout",
     "output_type": "stream",
     "text": [
      "[34, 34.5, 'test', True, (4+7j), [1, 1.5, 'test', True, (1+2j)]]\n"
     ]
    },
    {
     "data": {
      "text/plain": [
       "[34, 34.5, 'test']"
      ]
     },
     "execution_count": 115,
     "metadata": {},
     "output_type": "execute_result"
    }
   ],
   "source": [
    "# Slicing\n",
    "\n",
    "print(l1)\n",
    "l1[:3] # the stop value will not be printed, starts from 0 and ends at 3\n",
    "# Excludes upper bound"
   ]
  },
  {
   "cell_type": "code",
   "execution_count": 117,
   "metadata": {},
   "outputs": [
    {
     "data": {
      "text/plain": [
       "[34, 34.5, 'test', True, (4+7j), [1, 1.5, 'test', True, (1+2j)]]"
      ]
     },
     "execution_count": 117,
     "metadata": {},
     "output_type": "execute_result"
    }
   ],
   "source": [
    "l1[0:70] # will print only the available values"
   ]
  },
  {
   "cell_type": "code",
   "execution_count": 118,
   "metadata": {},
   "outputs": [
    {
     "data": {
      "text/plain": [
       "[34, 'test', (4+7j)]"
      ]
     },
     "execution_count": 118,
     "metadata": {},
     "output_type": "execute_result"
    }
   ],
   "source": [
    "# Using stepsize\n",
    "\n",
    "l1[::2] # prints 0,2,4,6,8 as the stepsize is 2"
   ]
  },
  {
   "cell_type": "code",
   "execution_count": 119,
   "metadata": {},
   "outputs": [
    {
     "data": {
      "text/plain": [
       "[]"
      ]
     },
     "execution_count": 119,
     "metadata": {},
     "output_type": "execute_result"
    }
   ],
   "source": [
    "l1[10:0] # if we give in reverse order, we will get 0 results as the direction is positive"
   ]
  },
  {
   "cell_type": "code",
   "execution_count": 120,
   "metadata": {},
   "outputs": [
    {
     "data": {
      "text/plain": [
       "[[1, 1.5, 'test', True, (1+2j)], (4+7j), True, 'test', 34.5]"
      ]
     },
     "execution_count": 120,
     "metadata": {},
     "output_type": "execute_result"
    }
   ],
   "source": [
    "l1[10:0:-1] # we have to give the step size as -1 when going from last to first"
   ]
  },
  {
   "cell_type": "code",
   "execution_count": 133,
   "metadata": {},
   "outputs": [
    {
     "data": {
      "text/plain": [
       "[[1, 1.5, 'test', True, (1+2j)], (4+7j), True, 'test', 34.5, 34]"
      ]
     },
     "execution_count": 133,
     "metadata": {},
     "output_type": "execute_result"
    }
   ],
   "source": [
    "l1[::-1] # prints the reverse of all the elements without giving the lower and upper bounds"
   ]
  },
  {
   "cell_type": "code",
   "execution_count": 134,
   "metadata": {},
   "outputs": [],
   "source": [
    "# list.attributes for other in built functions"
   ]
  },
  {
   "cell_type": "markdown",
   "metadata": {},
   "source": [
    "###### Range"
   ]
  },
  {
   "cell_type": "code",
   "execution_count": 136,
   "metadata": {},
   "outputs": [
    {
     "data": {
      "text/plain": [
       "range(0, 10)"
      ]
     },
     "execution_count": 136,
     "metadata": {},
     "output_type": "execute_result"
    }
   ],
   "source": [
    "range(10) # range is an inbuilt function\n",
    "# It generates data from 0 to 10 with index 0 to 9\n",
    "# Range is a generator"
   ]
  },
  {
   "cell_type": "code",
   "execution_count": 140,
   "metadata": {},
   "outputs": [
    {
     "data": {
      "text/plain": [
       "[0, 1, 2, 3, 4, 5, 6, 7, 8, 9]"
      ]
     },
     "execution_count": 140,
     "metadata": {},
     "output_type": "execute_result"
    }
   ],
   "source": [
    "list(range(10))"
   ]
  },
  {
   "cell_type": "code",
   "execution_count": 144,
   "metadata": {},
   "outputs": [
    {
     "data": {
      "text/plain": [
       "[0, 5, 10, 15, 20, 25, 30, 35, 40, 45]"
      ]
     },
     "execution_count": 144,
     "metadata": {},
     "output_type": "execute_result"
    }
   ],
   "source": [
    "list(range(0,50,5)) # similar to list/string index in step size, lower bound and upper bound"
   ]
  },
  {
   "cell_type": "code",
   "execution_count": 147,
   "metadata": {},
   "outputs": [
    {
     "data": {
      "text/plain": [
       "[50, 43, 36, 29, 22, 15]"
      ]
     },
     "execution_count": 147,
     "metadata": {},
     "output_type": "execute_result"
    }
   ],
   "source": [
    "list(range(50,10,-7))"
   ]
  },
  {
   "cell_type": "code",
   "execution_count": 148,
   "metadata": {},
   "outputs": [
    {
     "name": "stdout",
     "output_type": "stream",
     "text": [
      "Enter the lower bound:7\n",
      "Enter the upper bound:57\n",
      "Enter the step size:3\n"
     ]
    }
   ],
   "source": [
    "lower = int(input('Enter the lower bound:'))\n",
    "upper = int(input('Enter the upper bound:'))\n",
    "step = int(input('Enter the step size:'))"
   ]
  },
  {
   "cell_type": "code",
   "execution_count": 150,
   "metadata": {},
   "outputs": [
    {
     "data": {
      "text/plain": [
       "[7, 10, 13, 16, 19, 22, 25, 28, 31, 34, 37, 40, 43, 46, 49, 52, 55]"
      ]
     },
     "execution_count": 150,
     "metadata": {},
     "output_type": "execute_result"
    }
   ],
   "source": [
    "list(range(lower,upper,step))"
   ]
  },
  {
   "cell_type": "markdown",
   "metadata": {},
   "source": [
    "# 22nd May Set, Tuple, Dict and FOR Loops"
   ]
  },
  {
   "cell_type": "code",
   "execution_count": null,
   "metadata": {},
   "outputs": [],
   "source": []
  },
  {
   "cell_type": "code",
   "execution_count": null,
   "metadata": {},
   "outputs": [],
   "source": []
  },
  {
   "cell_type": "code",
   "execution_count": null,
   "metadata": {},
   "outputs": [],
   "source": []
  },
  {
   "cell_type": "code",
   "execution_count": null,
   "metadata": {},
   "outputs": [],
   "source": []
  },
  {
   "cell_type": "code",
   "execution_count": null,
   "metadata": {},
   "outputs": [],
   "source": []
  },
  {
   "cell_type": "code",
   "execution_count": null,
   "metadata": {},
   "outputs": [],
   "source": []
  }
 ],
 "metadata": {
  "colab": {
   "collapsed_sections": [],
   "name": "Data-Science-Machine-Learning.ipynb",
   "provenance": [],
   "toc_visible": true
  },
  "kernelspec": {
   "display_name": "Python 3 (ipykernel)",
   "language": "python",
   "name": "python3"
  },
  "language_info": {
   "codemirror_mode": {
    "name": "ipython",
    "version": 3
   },
   "file_extension": ".py",
   "mimetype": "text/x-python",
   "name": "python",
   "nbconvert_exporter": "python",
   "pygments_lexer": "ipython3",
   "version": "3.9.7"
  }
 },
 "nbformat": 4,
 "nbformat_minor": 1
}
