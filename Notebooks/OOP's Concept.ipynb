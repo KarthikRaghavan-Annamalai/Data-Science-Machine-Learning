{
 "cells": [
  {
   "cell_type": "markdown",
   "id": "121de37f",
   "metadata": {},
   "source": [
    "# 26th June OOP's Concept I"
   ]
  },
  {
   "cell_type": "raw",
   "id": "a1dd1880",
   "metadata": {},
   "source": [
    "check oops.pdf"
   ]
  },
  {
   "cell_type": "code",
   "execution_count": 1,
   "id": "6fc449c8",
   "metadata": {},
   "outputs": [],
   "source": [
    "# oops --> Object Oriented Paradime\n",
    "\n",
    "# It is a way with which we can develop our software/application"
   ]
  },
  {
   "cell_type": "code",
   "execution_count": 2,
   "id": "dc73d192",
   "metadata": {},
   "outputs": [],
   "source": [
    "# object - real world entity which we map into our software. The object can perform certain things. \n",
    "\n",
    "# In Software, there are multiple objects that collaborate with each other.\n",
    "# Every object have some kind of data and behavior\n",
    "\n",
    "\n",
    "# Eg - Employee, Student are objects that we can map into softwares\n",
    "# Every object will have their attribute and behaviour\n",
    "# Employee attributes name,salary,id,location (collection of data)\n",
    "\n",
    "# Formally, object is a collection of data and associated behaviors."
   ]
  },
  {
   "cell_type": "code",
   "execution_count": 3,
   "id": "47e0c3eb",
   "metadata": {},
   "outputs": [],
   "source": [
    "# object oriented simply means functionality directed towards modeling objects\n",
    "# oriented - directed towards\n",
    "\n",
    "# our software will resolve around our objects"
   ]
  },
  {
   "cell_type": "code",
   "execution_count": 4,
   "id": "df8060f4",
   "metadata": {},
   "outputs": [],
   "source": [
    "# Object Oriented Analysis - we analyse the problem and generate the requirement."
   ]
  },
  {
   "cell_type": "code",
   "execution_count": null,
   "id": "64a7a289",
   "metadata": {},
   "outputs": [],
   "source": [
    "# Object oriented design - we will implement the requirement based on the objects. "
   ]
  },
  {
   "cell_type": "code",
   "execution_count": 5,
   "id": "c15647c8",
   "metadata": {},
   "outputs": [],
   "source": [
    "# Object oriented programming - with the help of OOP Language, we will perform the implementation of a working solution"
   ]
  },
  {
   "cell_type": "code",
   "execution_count": 6,
   "id": "ff846399",
   "metadata": {},
   "outputs": [],
   "source": [
    "# properties and attributes are the same"
   ]
  },
  {
   "cell_type": "code",
   "execution_count": 7,
   "id": "21b36763",
   "metadata": {},
   "outputs": [],
   "source": [
    "# An object is a collection of data with associated behaviors\n",
    "# Classes describe objects. They are like blueprints for creating an object.\n",
    "# an object belongs to a single class\n",
    "# we can create multiple objects from a single class\n",
    "# We cannot create single object from multiple class\n",
    "\n",
    "# Classes are user defined.\n",
    "# different objects can hold different types of data"
   ]
  },
  {
   "cell_type": "code",
   "execution_count": null,
   "id": "70f5eb45",
   "metadata": {},
   "outputs": [],
   "source": [
    "class employee:\n",
    "    def __init__(self):\n",
    "        self.emp_id = \n",
    "        self.emp_name = "
   ]
  },
  {
   "cell_type": "code",
   "execution_count": 11,
   "id": "fba22bcf",
   "metadata": {},
   "outputs": [],
   "source": [
    "# attributes are properties or characteristics of an object\n",
    "# behaviour are the actions that can be performed by the object\n",
    "# objects are created with the help of class\n",
    "# An object is an instance of class"
   ]
  },
  {
   "cell_type": "code",
   "execution_count": null,
   "id": "f2acaeb5",
   "metadata": {},
   "outputs": [],
   "source": [
    "# behaviors are also called as methods"
   ]
  },
  {
   "cell_type": "code",
   "execution_count": null,
   "id": "a5ff0afa",
   "metadata": {},
   "outputs": [],
   "source": [
    "# Interface - we have to define on what objects can interact with each other\n",
    "# The process of hiding the implementation or functonal details of an object is suitably called information hiding,\n",
    "# This is called as encapsulation(binding attributes and behaviour together)"
   ]
  },
  {
   "cell_type": "code",
   "execution_count": null,
   "id": "d897e784",
   "metadata": {},
   "outputs": [],
   "source": [
    "# Abstraction - not showing the details"
   ]
  },
  {
   "cell_type": "code",
   "execution_count": null,
   "id": "0bf8cb32",
   "metadata": {},
   "outputs": [],
   "source": [
    "# Composition - Composition is the act of collecting together several objects to compose a new one."
   ]
  },
  {
   "cell_type": "code",
   "execution_count": null,
   "id": "dca51ef5",
   "metadata": {},
   "outputs": [],
   "source": [
    "# inheritence - Inheritance can be defined as the process where one class acquires the properties (methods and \n",
    "#fields) of another. With the use of inheritance the information is made manageable in a \n",
    "#hierarchical order"
   ]
  },
  {
   "cell_type": "code",
   "execution_count": null,
   "id": "e1a29539",
   "metadata": {},
   "outputs": [],
   "source": [
    "# Aggregation- Aggregation is almost exactly like composition"
   ]
  },
  {
   "cell_type": "code",
   "execution_count": null,
   "id": "7e33c2b2",
   "metadata": {},
   "outputs": [],
   "source": [
    "# __ to represet private \n",
    "# _ to represet protected \n",
    "# protected will be only utilized to the next class that is inheriting and not further\n",
    "# nothing to represent public\n",
    "# In python, we can access the private variable\n",
    "\n",
    "class demo:\n",
    "    def __init__(self,Name):\n",
    "        self.__name = Name"
   ]
  },
  {
   "cell_type": "code",
   "execution_count": 13,
   "id": "16d3e2a3",
   "metadata": {},
   "outputs": [],
   "source": [
    "class demo:\n",
    "    def __init__(self,Name):\n",
    "        self.__name = Name\n",
    "        self.age = 25\n",
    "    def getName(self):\n",
    "        return self.__name"
   ]
  },
  {
   "cell_type": "code",
   "execution_count": 15,
   "id": "509ad615",
   "metadata": {},
   "outputs": [
    {
     "data": {
      "text/plain": [
       "'Karthik'"
      ]
     },
     "execution_count": 15,
     "metadata": {},
     "output_type": "execute_result"
    }
   ],
   "source": [
    "demo('Karthik').getName()"
   ]
  },
  {
   "cell_type": "code",
   "execution_count": 16,
   "id": "16b8730e",
   "metadata": {},
   "outputs": [
    {
     "data": {
      "text/plain": [
       "'Karthik'"
      ]
     },
     "execution_count": 16,
     "metadata": {},
     "output_type": "execute_result"
    }
   ],
   "source": [
    "d = demo('Karthik')\n",
    "d.getName()"
   ]
  },
  {
   "cell_type": "code",
   "execution_count": 18,
   "id": "77f38da7",
   "metadata": {},
   "outputs": [
    {
     "data": {
      "text/plain": [
       "25"
      ]
     },
     "execution_count": 18,
     "metadata": {},
     "output_type": "execute_result"
    }
   ],
   "source": [
    "d.age"
   ]
  },
  {
   "cell_type": "code",
   "execution_count": 12,
   "id": "d9005b11",
   "metadata": {},
   "outputs": [
    {
     "data": {
      "text/plain": [
       "'\\nConstructors are generally used for instantiating an object. The task of constructors is to initialize(assign values) to the data members of the class when an object of the class is created. In Python the __init__() method is called the constructor and is always called when an object is created.\\n'"
      ]
     },
     "execution_count": 12,
     "metadata": {},
     "output_type": "execute_result"
    }
   ],
   "source": [
    "\"\"\"\n",
    "Constructors are generally used for instantiating an object. The task of constructors is to initialize(assign values) to the data members of the class when an object of the class is created. In Python the __init__() method is called the constructor and is always called when an object is created.\n",
    "\"\"\""
   ]
  },
  {
   "cell_type": "markdown",
   "id": "b8097cf2",
   "metadata": {},
   "source": [
    "# 27th June OOP's Concept II"
   ]
  },
  {
   "cell_type": "code",
   "execution_count": 86,
   "id": "cc30ec4c",
   "metadata": {},
   "outputs": [],
   "source": [
    "# We have multiple inheritence where a child interitence from multiple parent class\n",
    "# Multi - level inheritence is also there"
   ]
  },
  {
   "cell_type": "code",
   "execution_count": null,
   "id": "c140bd46",
   "metadata": {},
   "outputs": [],
   "source": [
    "# Everything we derive from in python is an object"
   ]
  },
  {
   "cell_type": "code",
   "execution_count": 87,
   "id": "4f4e555f",
   "metadata": {},
   "outputs": [],
   "source": [
    "class classname(object): # to create a class\n",
    "    pass\n",
    "# the class inherits from the object\n",
    "# even if do not write explicaitly, it takes from object\n"
   ]
  },
  {
   "cell_type": "code",
   "execution_count": null,
   "id": "db760279",
   "metadata": {},
   "outputs": [],
   "source": [
    "c1 = classname() # created object for class name"
   ]
  },
  {
   "cell_type": "markdown",
   "id": "dce7585a",
   "metadata": {},
   "source": [
    "###### Object creation in python"
   ]
  },
  {
   "cell_type": "code",
   "execution_count": 88,
   "id": "c60bb3fd",
   "metadata": {},
   "outputs": [
    {
     "data": {
      "text/plain": [
       "<__main__.classname at 0x278308d8d60>"
      ]
     },
     "execution_count": 88,
     "metadata": {},
     "output_type": "execute_result"
    }
   ],
   "source": [
    "classname()"
   ]
  },
  {
   "cell_type": "code",
   "execution_count": null,
   "id": "350beb0b",
   "metadata": {},
   "outputs": [],
   "source": [
    "# __init__ --> used to initialize the object (Instance level method). This is an initializer\n",
    "# __new__ --> Actual object creation (Class level method). This is a constructor"
   ]
  },
  {
   "cell_type": "code",
   "execution_count": 7,
   "id": "a7aad63d",
   "metadata": {},
   "outputs": [],
   "source": [
    "class ObjectCreationDemo():\n",
    "    def __new__(cls):\n",
    "        print(\"Object is being created..\")\n",
    "        #return object().__new__(cls)\n",
    "    def __init__(self):\n",
    "        print(\"Initialization can be done\")"
   ]
  },
  {
   "cell_type": "code",
   "execution_count": 8,
   "id": "8835bc0a",
   "metadata": {},
   "outputs": [
    {
     "name": "stdout",
     "output_type": "stream",
     "text": [
      "Object is being created..\n"
     ]
    }
   ],
   "source": [
    "ObjectCreationDemo()"
   ]
  },
  {
   "cell_type": "code",
   "execution_count": 9,
   "id": "6b377e10",
   "metadata": {},
   "outputs": [],
   "source": [
    "class ObjectCreationDemo():\n",
    "    def __new__(cls):\n",
    "        print(\"Object is being created..\")\n",
    "        return object().__new__(cls)\n",
    "    def __init__(self):\n",
    "        print(\"Initialization can be done\")"
   ]
  },
  {
   "cell_type": "code",
   "execution_count": 10,
   "id": "5240fb42",
   "metadata": {},
   "outputs": [],
   "source": [
    "# if the new method cannot call the instance of the method then it cannot instantiate the object"
   ]
  },
  {
   "cell_type": "code",
   "execution_count": 11,
   "id": "799cdf8d",
   "metadata": {},
   "outputs": [
    {
     "name": "stdout",
     "output_type": "stream",
     "text": [
      "Object is being created..\n",
      "Initialization can be done\n"
     ]
    },
    {
     "data": {
      "text/plain": [
       "<__main__.ObjectCreationDemo at 0x2779896cf40>"
      ]
     },
     "execution_count": 11,
     "metadata": {},
     "output_type": "execute_result"
    }
   ],
   "source": [
    "ObjectCreationDemo()"
   ]
  },
  {
   "cell_type": "code",
   "execution_count": 12,
   "id": "ab53bd1c",
   "metadata": {},
   "outputs": [],
   "source": [
    "# new returns object\n",
    "# object will be passed to self\n",
    "# self will act as instance"
   ]
  },
  {
   "cell_type": "code",
   "execution_count": 13,
   "id": "33a43897",
   "metadata": {},
   "outputs": [],
   "source": [
    "# with the help of the constructor, we create the object, the memory allocation happens with the help of constructor  \n",
    "# When we work on projects, we will use __init__ a lot and __new__ will not be useful that much"
   ]
  },
  {
   "cell_type": "code",
   "execution_count": 14,
   "id": "8262e5fe",
   "metadata": {},
   "outputs": [],
   "source": [
    "# we can ignore the __int__ and __new__\n",
    "\n",
    "class ObjectCreationDemo2():\n",
    "    def message(self):\n",
    "        return 'Message is called'"
   ]
  },
  {
   "cell_type": "code",
   "execution_count": 15,
   "id": "d4a48cd6",
   "metadata": {},
   "outputs": [
    {
     "data": {
      "text/plain": [
       "'Message is called'"
      ]
     },
     "execution_count": 15,
     "metadata": {},
     "output_type": "execute_result"
    }
   ],
   "source": [
    "ObjectCreationDemo2().message()"
   ]
  },
  {
   "cell_type": "code",
   "execution_count": 16,
   "id": "d640ddea",
   "metadata": {},
   "outputs": [],
   "source": [
    "# Design an e-commerce website\n",
    "# Website is responsible to sell product\n",
    "# Analyse the problem with OOPS\n",
    "\n",
    "# Object\n",
    "\n",
    "# .1. Product\n",
    "# .2. Consumer\n",
    "# .3. Order"
   ]
  },
  {
   "cell_type": "code",
   "execution_count": 17,
   "id": "98b82f85",
   "metadata": {},
   "outputs": [],
   "source": [
    "# <<<------------------ATTRIBUTES---------------------->>>"
   ]
  },
  {
   "cell_type": "code",
   "execution_count": 18,
   "id": "eaad22f6",
   "metadata": {},
   "outputs": [],
   "source": [
    "class product:\n",
    "    def __init__(self,name,price,size,quantity,description,brand,color):\n",
    "        self.name = name\n",
    "        self.price = price\n",
    "        self.size = size\n",
    "        self.quantity = quantity\n",
    "        self.description = description\n",
    "        self.brand = brand\n",
    "        self.color = color"
   ]
  },
  {
   "cell_type": "code",
   "execution_count": 19,
   "id": "2729dc24",
   "metadata": {},
   "outputs": [],
   "source": [
    "p1 = product('p1',890,'Large',890,'This is a product','XYZ','yellow')"
   ]
  },
  {
   "cell_type": "code",
   "execution_count": 20,
   "id": "acd719c7",
   "metadata": {},
   "outputs": [
    {
     "data": {
      "text/plain": [
       "'XYZ'"
      ]
     },
     "execution_count": 20,
     "metadata": {},
     "output_type": "execute_result"
    }
   ],
   "source": [
    "p1.brand"
   ]
  },
  {
   "cell_type": "code",
   "execution_count": 21,
   "id": "707fec76",
   "metadata": {},
   "outputs": [],
   "source": [
    "class product:\n",
    "    def __init__(self,name,price,size,quantity,description,brand,color):\n",
    "        self.name = name\n",
    "        self.price = price\n",
    "        self.size = size\n",
    "        self.quantity = quantity\n",
    "        self.description = description\n",
    "        self.brand = brand\n",
    "        self.color = color\n",
    "    def __repr__(self): #This is for a developer for how we can view the output\n",
    "        return f'Product(name= {self.name}, price= {self.price}, size= {self.size}, quanity = {self.quantity}, desciption = {self.description}, brand ={self.brand}, color = {self.color})'"
   ]
  },
  {
   "cell_type": "code",
   "execution_count": 22,
   "id": "ffc84150",
   "metadata": {},
   "outputs": [],
   "source": [
    "p1 = product('p1',890,'Large',890,'This is a product','XYZ','yellow')"
   ]
  },
  {
   "cell_type": "code",
   "execution_count": 23,
   "id": "60e3c038",
   "metadata": {},
   "outputs": [
    {
     "data": {
      "text/plain": [
       "Product(name= p1, price= 890, size= Large, quanity = 890, desciption = This is a product, brand =XYZ, color = yellow)"
      ]
     },
     "execution_count": 23,
     "metadata": {},
     "output_type": "execute_result"
    }
   ],
   "source": [
    "p1"
   ]
  },
  {
   "cell_type": "code",
   "execution_count": 24,
   "id": "6cf1cbcc",
   "metadata": {},
   "outputs": [],
   "source": [
    "class product:\n",
    "    def __init__(self,name,price,size,quantity,description,brand,color):\n",
    "        self.name = name\n",
    "        self.price = price\n",
    "        self.size = size\n",
    "        self.quantity = quantity\n",
    "        self.description = description\n",
    "        self.brand = brand\n",
    "        self.color = color\n",
    "    def __repr__(self): #This is for a developer for how we can view the output\n",
    "        return f'Product(name= {self.name}, price= {self.price}, size= {self.size}, quanity = {self.quantity}, desciption = {self.description}, brand ={self.brand}, color = {self.color})'\n",
    "    def __str__(self):\n",
    "        return f'This product name is {self.name}'"
   ]
  },
  {
   "cell_type": "code",
   "execution_count": 25,
   "id": "490ae634",
   "metadata": {},
   "outputs": [],
   "source": [
    "p1 = product('p1',890,'Large',890,'This is a product','XYZ','yellow')"
   ]
  },
  {
   "cell_type": "code",
   "execution_count": 26,
   "id": "b3353e1f",
   "metadata": {},
   "outputs": [
    {
     "data": {
      "text/plain": [
       "Product(name= p1, price= 890, size= Large, quanity = 890, desciption = This is a product, brand =XYZ, color = yellow)"
      ]
     },
     "execution_count": 26,
     "metadata": {},
     "output_type": "execute_result"
    }
   ],
   "source": [
    "p1"
   ]
  },
  {
   "cell_type": "code",
   "execution_count": 27,
   "id": "84cad210",
   "metadata": {},
   "outputs": [
    {
     "name": "stdout",
     "output_type": "stream",
     "text": [
      "This product name is p1\n"
     ]
    }
   ],
   "source": [
    "print(p1)"
   ]
  },
  {
   "cell_type": "code",
   "execution_count": 28,
   "id": "31ce6aa0",
   "metadata": {},
   "outputs": [],
   "source": [
    "# <<<------------------BEHAVIOUR---------------------->>>"
   ]
  },
  {
   "cell_type": "code",
   "execution_count": 29,
   "id": "825e689f",
   "metadata": {},
   "outputs": [],
   "source": [
    "class ProductCollection:\n",
    "    def __init__(self):\n",
    "        self.productList = []\n",
    "    \n",
    "    def addProduct(self,product):\n",
    "        self.productList.append(product)\n",
    "    \n",
    "    def getListofProduct(self):\n",
    "        return self.productList"
   ]
  },
  {
   "cell_type": "code",
   "execution_count": 30,
   "id": "d23e3a16",
   "metadata": {},
   "outputs": [],
   "source": [
    "class product:\n",
    "    def __init__(self,name,price,size,quantity,description,brand,color):\n",
    "        self.name = name\n",
    "        self.price = price\n",
    "        self.size = size\n",
    "        self.quantity = quantity\n",
    "        self.description = description\n",
    "        self.brand = brand\n",
    "        self.color = color\n",
    "    def __repr__(self): #This is for a developer for how we can view the output\n",
    "        return f'Product(name= {self.name}, price= {self.price}, size= {self.size}, quanity = {self.quantity}, desciption = {self.description}, brand ={self.brand}, color = {self.color})'\n",
    "    def __str__(self):\n",
    "        return f'This product name is {self.name}'\n",
    "    "
   ]
  },
  {
   "cell_type": "code",
   "execution_count": 31,
   "id": "24adc1d7",
   "metadata": {},
   "outputs": [],
   "source": [
    "p1 = product('p1',890,'Large',890,'This is a product','XYZ','yellow')"
   ]
  },
  {
   "cell_type": "code",
   "execution_count": 32,
   "id": "6d781e17",
   "metadata": {},
   "outputs": [],
   "source": [
    "product_repo = ProductCollection()\n",
    "product_repo.addProduct(p1)"
   ]
  },
  {
   "cell_type": "code",
   "execution_count": 33,
   "id": "216c7424",
   "metadata": {},
   "outputs": [
    {
     "data": {
      "text/plain": [
       "[Product(name= p1, price= 890, size= Large, quanity = 890, desciption = This is a product, brand =XYZ, color = yellow)]"
      ]
     },
     "execution_count": 33,
     "metadata": {},
     "output_type": "execute_result"
    }
   ],
   "source": [
    "product_repo.getListofProduct()"
   ]
  },
  {
   "cell_type": "code",
   "execution_count": 34,
   "id": "d77efdbb",
   "metadata": {},
   "outputs": [],
   "source": [
    "p2 = product('p2',891,'medium',891,'This is another product','ABC','blue')"
   ]
  },
  {
   "cell_type": "code",
   "execution_count": 35,
   "id": "fd895a3a",
   "metadata": {},
   "outputs": [],
   "source": [
    "product_repo.addProduct(p2)"
   ]
  },
  {
   "cell_type": "code",
   "execution_count": 36,
   "id": "11912901",
   "metadata": {},
   "outputs": [
    {
     "data": {
      "text/plain": [
       "[Product(name= p1, price= 890, size= Large, quanity = 890, desciption = This is a product, brand =XYZ, color = yellow),\n",
       " Product(name= p2, price= 891, size= medium, quanity = 891, desciption = This is another product, brand =ABC, color = blue)]"
      ]
     },
     "execution_count": 36,
     "metadata": {},
     "output_type": "execute_result"
    }
   ],
   "source": [
    "product_repo.getListofProduct()"
   ]
  },
  {
   "cell_type": "code",
   "execution_count": 37,
   "id": "0900e30e",
   "metadata": {},
   "outputs": [
    {
     "data": {
      "text/plain": [
       "['__class__',\n",
       " '__delattr__',\n",
       " '__dict__',\n",
       " '__dir__',\n",
       " '__doc__',\n",
       " '__eq__',\n",
       " '__format__',\n",
       " '__ge__',\n",
       " '__getattribute__',\n",
       " '__gt__',\n",
       " '__hash__',\n",
       " '__init__',\n",
       " '__init_subclass__',\n",
       " '__le__',\n",
       " '__lt__',\n",
       " '__module__',\n",
       " '__ne__',\n",
       " '__new__',\n",
       " '__reduce__',\n",
       " '__reduce_ex__',\n",
       " '__repr__',\n",
       " '__setattr__',\n",
       " '__sizeof__',\n",
       " '__str__',\n",
       " '__subclasshook__',\n",
       " '__weakref__',\n",
       " 'addProduct',\n",
       " 'getListofProduct',\n",
       " 'productList']"
      ]
     },
     "execution_count": 37,
     "metadata": {},
     "output_type": "execute_result"
    }
   ],
   "source": [
    "dir(product_repo)"
   ]
  },
  {
   "cell_type": "code",
   "execution_count": 40,
   "id": "edf70d35",
   "metadata": {},
   "outputs": [],
   "source": [
    "class Person:\n",
    "    def __init__(self,name,surname,year_of_birth):\n",
    "        self.name = name\n",
    "        self.surname = surname\n",
    "        self.year_of_birth = year_of_birth\n",
    "        \n",
    "    def age(self,current_year):\n",
    "        return current_year - self.year_of_birth\n",
    "    \n",
    "    def __str__(self):\n",
    "        return f'{self.name} {self.surname} was born in {self.year_of_birth}'"
   ]
  },
  {
   "cell_type": "code",
   "execution_count": 42,
   "id": "0e703742",
   "metadata": {},
   "outputs": [],
   "source": [
    "data = Person('Karthik','Raghavan',1996)"
   ]
  },
  {
   "cell_type": "code",
   "execution_count": 45,
   "id": "bc2ee7d0",
   "metadata": {},
   "outputs": [
    {
     "name": "stdout",
     "output_type": "stream",
     "text": [
      "1996\n",
      "Karthik\n",
      "Raghavan\n"
     ]
    }
   ],
   "source": [
    "print(data.year_of_birth)\n",
    "print(data.name)\n",
    "print(data.surname)"
   ]
  },
  {
   "cell_type": "code",
   "execution_count": 46,
   "id": "e1005f06",
   "metadata": {},
   "outputs": [
    {
     "data": {
      "text/plain": [
       "26"
      ]
     },
     "execution_count": 46,
     "metadata": {},
     "output_type": "execute_result"
    }
   ],
   "source": [
    "data.age(2022)"
   ]
  },
  {
   "cell_type": "code",
   "execution_count": 47,
   "id": "6286282e",
   "metadata": {},
   "outputs": [
    {
     "name": "stdout",
     "output_type": "stream",
     "text": [
      "Karthik Raghavan was born in 1996\n"
     ]
    }
   ],
   "source": [
    "print(data)"
   ]
  },
  {
   "cell_type": "code",
   "execution_count": 51,
   "id": "258fc281",
   "metadata": {},
   "outputs": [
    {
     "data": {
      "text/plain": [
       "['__class__',\n",
       " '__delattr__',\n",
       " '__dict__',\n",
       " '__dir__',\n",
       " '__doc__',\n",
       " '__eq__',\n",
       " '__format__',\n",
       " '__ge__',\n",
       " '__getattribute__',\n",
       " '__gt__',\n",
       " '__hash__',\n",
       " '__init__',\n",
       " '__init_subclass__',\n",
       " '__le__',\n",
       " '__lt__',\n",
       " '__module__',\n",
       " '__ne__',\n",
       " '__new__',\n",
       " '__reduce__',\n",
       " '__reduce_ex__',\n",
       " '__repr__',\n",
       " '__setattr__',\n",
       " '__sizeof__',\n",
       " '__str__',\n",
       " '__subclasshook__',\n",
       " '__weakref__',\n",
       " 'age',\n",
       " 'name',\n",
       " 'surname',\n",
       " 'year_of_birth']"
      ]
     },
     "execution_count": 51,
     "metadata": {},
     "output_type": "execute_result"
    }
   ],
   "source": [
    "dir(data)"
   ]
  },
  {
   "cell_type": "code",
   "execution_count": 48,
   "id": "5e5511cb",
   "metadata": {},
   "outputs": [],
   "source": [
    "# By default all these methods and variables will be public\n",
    "# self.__xyz will be private\n",
    "# self._xyz will be protected\n",
    "# self.xyz will be public"
   ]
  },
  {
   "cell_type": "code",
   "execution_count": 55,
   "id": "2933aaae",
   "metadata": {},
   "outputs": [],
   "source": [
    "class Person:\n",
    "    def __init__(self,name,surname,year_of_birth):\n",
    "        self.name = name\n",
    "        self.surname = surname\n",
    "        self.year_of_birth = year_of_birth\n",
    "        \n",
    "    def age(self,current_year):\n",
    "        return current_year - self.year_of_birth\n",
    "    \n",
    "    def __str__(self):\n",
    "        return f'{self.name} {self.surname} was born in {self.year_of_birth}'"
   ]
  },
  {
   "cell_type": "code",
   "execution_count": 53,
   "id": "d63ad146",
   "metadata": {},
   "outputs": [],
   "source": [
    "data = Person('Karthik','Raghavan',1996)"
   ]
  },
  {
   "cell_type": "code",
   "execution_count": 54,
   "id": "7450070b",
   "metadata": {},
   "outputs": [
    {
     "data": {
      "text/plain": [
       "'Karthik'"
      ]
     },
     "execution_count": 54,
     "metadata": {},
     "output_type": "execute_result"
    }
   ],
   "source": [
    "data._Person__name # not a good habit"
   ]
  },
  {
   "cell_type": "markdown",
   "id": "41ccf148",
   "metadata": {},
   "source": [
    "###### Inheritence\n",
    "\n",
    "###### Multi Level Inheritence"
   ]
  },
  {
   "cell_type": "code",
   "execution_count": 59,
   "id": "de0dff5d",
   "metadata": {},
   "outputs": [],
   "source": [
    "class Student(Person):\n",
    "    def __init__(self,student_id,*args):\n",
    "        super(Student,self).__init__(*args)\n",
    "        self.student_id = student_id"
   ]
  },
  {
   "cell_type": "code",
   "execution_count": 60,
   "id": "72cc46e9",
   "metadata": {},
   "outputs": [],
   "source": [
    "charlie = Student(1,'Charles','Martin',1996)"
   ]
  },
  {
   "cell_type": "code",
   "execution_count": 69,
   "id": "a18bb905",
   "metadata": {},
   "outputs": [],
   "source": [
    "# Parent class passess the ability to their child\n",
    "# Child will have their own functions plus the inherited ability"
   ]
  },
  {
   "cell_type": "code",
   "execution_count": 78,
   "id": "55e178b3",
   "metadata": {},
   "outputs": [],
   "source": [
    "class Employee: #Parent\n",
    "    def __init__(self,emp_name,age):\n",
    "        self.emp_name = emp_name\n",
    "        self.age = age\n",
    "        \n",
    "    def getemployeeDetail(self):\n",
    "        print(f'Employee Name:{self.emp_name}')\n",
    "        print(f'Employee Age:{self.age}')\n",
    "        \n",
    "    def addAttendence(self):\n",
    "        print('Attendence added')"
   ]
  },
  {
   "cell_type": "code",
   "execution_count": 83,
   "id": "fbc0da96",
   "metadata": {},
   "outputs": [],
   "source": [
    "class Manager(Employee):\n",
    "    def __init__(self,emp_name,age,num_of_emp):\n",
    "        super().__init__(emp_name,age) # by super, we are passing the instance to the parent\n",
    "        self.num_of_emp = num_of_emp\n",
    "        \n",
    "    def approveAttendence(self):\n",
    "        print('Attendence Approved')\n",
    "        \n",
    "    def assignTaskToEmployee(self):\n",
    "        print(\"Assign Task\")"
   ]
  },
  {
   "cell_type": "code",
   "execution_count": 84,
   "id": "1a36e1f8",
   "metadata": {},
   "outputs": [],
   "source": [
    "Abi = Manager('Abi',35,6)"
   ]
  },
  {
   "cell_type": "markdown",
   "id": "a433034a",
   "metadata": {},
   "source": [
    "###### Multiple Inheritence"
   ]
  },
  {
   "cell_type": "code",
   "execution_count": 86,
   "id": "22810069",
   "metadata": {},
   "outputs": [],
   "source": [
    "class RightClass:\n",
    "    def __init__(self):\n",
    "        print(\"Right Class Called\")\n",
    "        \n",
    "    def call_me(self):\n",
    "        print(\"Right Class call me called\")\n",
    "        \n"
   ]
  },
  {
   "cell_type": "code",
   "execution_count": 87,
   "id": "e089584e",
   "metadata": {},
   "outputs": [],
   "source": [
    "class LeftClass:\n",
    "    def __init__(self):\n",
    "        print(\"Left Class Called\")\n",
    "        \n",
    "    def call_me(self):\n",
    "        print(\"Left Class call me called\")\n",
    "        \n"
   ]
  },
  {
   "cell_type": "code",
   "execution_count": 92,
   "id": "0073f1ca",
   "metadata": {},
   "outputs": [],
   "source": [
    "class ChildClass(RightClass,LeftClass):\n",
    "    def __init__(self):\n",
    "        super().__init__()\n",
    "        print(\"Child Class Called\")\n",
    "        \n",
    "    def call_me(self):\n",
    "        print(\"Child Class call me called\")\n",
    "        \n"
   ]
  },
  {
   "cell_type": "code",
   "execution_count": 93,
   "id": "ac13e7d4",
   "metadata": {},
   "outputs": [
    {
     "name": "stdout",
     "output_type": "stream",
     "text": [
      "Right Class Called\n",
      "Child Class Called\n"
     ]
    }
   ],
   "source": [
    "c1 = ChildClass()"
   ]
  },
  {
   "cell_type": "code",
   "execution_count": 95,
   "id": "1b378ec6",
   "metadata": {},
   "outputs": [
    {
     "name": "stdout",
     "output_type": "stream",
     "text": [
      "Child Class call me called\n"
     ]
    }
   ],
   "source": [
    "c1.call_me()"
   ]
  },
  {
   "cell_type": "code",
   "execution_count": 96,
   "id": "6a039348",
   "metadata": {},
   "outputs": [],
   "source": [
    "class ChildClass(RightClass,LeftClass):\n",
    "    def __init__(self):\n",
    "        RightClass().__init__()\n",
    "        LeftClass().__init__()\n",
    "        print(\"Child Class Called\")\n",
    "        \n",
    "    def call_me(self):\n",
    "        print(\"Child Class call me called\")\n",
    "        \n"
   ]
  },
  {
   "cell_type": "code",
   "execution_count": 98,
   "id": "e4fe75e0",
   "metadata": {},
   "outputs": [
    {
     "name": "stdout",
     "output_type": "stream",
     "text": [
      "Right Class Called\n",
      "Right Class Called\n",
      "Left Class Called\n",
      "Left Class Called\n",
      "Child Class Called\n"
     ]
    }
   ],
   "source": [
    "c1 = ChildClass()"
   ]
  },
  {
   "cell_type": "code",
   "execution_count": 97,
   "id": "7fffd590",
   "metadata": {},
   "outputs": [
    {
     "name": "stdout",
     "output_type": "stream",
     "text": [
      "Child Class call me called\n"
     ]
    }
   ],
   "source": [
    "c1.call_me()"
   ]
  },
  {
   "cell_type": "markdown",
   "id": "aa86c780",
   "metadata": {},
   "source": [
    "###### Encapsulation"
   ]
  },
  {
   "cell_type": "code",
   "execution_count": 102,
   "id": "5d3329c9",
   "metadata": {},
   "outputs": [],
   "source": [
    "# Encapsulation binds objects\n",
    "# It is the binding up of data along with methods that operate on that data into a single unit"
   ]
  },
  {
   "cell_type": "markdown",
   "id": "f41eeaf8",
   "metadata": {},
   "source": [
    "###### Composition"
   ]
  },
  {
   "cell_type": "code",
   "execution_count": 100,
   "id": "35becf07",
   "metadata": {},
   "outputs": [],
   "source": [
    "# Composition means one object is contained in another object"
   ]
  },
  {
   "cell_type": "markdown",
   "id": "fdc74ee3",
   "metadata": {},
   "source": [
    "###### Aggregation"
   ]
  },
  {
   "cell_type": "code",
   "execution_count": 103,
   "id": "b2ccea31",
   "metadata": {},
   "outputs": [],
   "source": [
    "# Aggregation means one object is the owner of another object"
   ]
  },
  {
   "cell_type": "markdown",
   "id": "88c7b898",
   "metadata": {},
   "source": [
    "###### Abstraction"
   ]
  },
  {
   "cell_type": "code",
   "execution_count": null,
   "id": "eedd6192",
   "metadata": {},
   "outputs": [],
   "source": [
    "# Abstraction is the concept of object oriented programming that shows only essential attributes and hides uncessary information"
   ]
  },
  {
   "cell_type": "markdown",
   "id": "f2f34f68",
   "metadata": {},
   "source": [
    "###### Polymorphism"
   ]
  },
  {
   "cell_type": "code",
   "execution_count": null,
   "id": "efbb9d4b",
   "metadata": {},
   "outputs": [],
   "source": [
    "# Based on the datatype, different results will be given"
   ]
  },
  {
   "cell_type": "markdown",
   "id": "8bda41d3",
   "metadata": {},
   "source": [
    "# 3rd July Inheritence Operator Overloading Polymorphism"
   ]
  },
  {
   "cell_type": "code",
   "execution_count": 1,
   "id": "42a34d52",
   "metadata": {},
   "outputs": [],
   "source": [
    "class Person:\n",
    "    def __init__(self,age):\n",
    "        self.age = 17\n",
    "    def __repr__(self):\n",
    "        return f\"Person(age={self.age})\"\n",
    "    def __str__(self):\n",
    "        return f\"Object\""
   ]
  },
  {
   "cell_type": "code",
   "execution_count": 2,
   "id": "2c496760",
   "metadata": {},
   "outputs": [
    {
     "name": "stdout",
     "output_type": "stream",
     "text": [
      "<class '__main__.Person'>\n"
     ]
    }
   ],
   "source": [
    "print(Person)"
   ]
  },
  {
   "cell_type": "code",
   "execution_count": 3,
   "id": "fce55a7c",
   "metadata": {},
   "outputs": [
    {
     "data": {
      "text/plain": [
       "Person(age=17)"
      ]
     },
     "execution_count": 3,
     "metadata": {},
     "output_type": "execute_result"
    }
   ],
   "source": [
    "Person(5)"
   ]
  },
  {
   "cell_type": "code",
   "execution_count": 4,
   "id": "76256aaf",
   "metadata": {},
   "outputs": [],
   "source": [
    "## <<<----------------------------EXAMPLE 1 ---------------------------->>>"
   ]
  },
  {
   "cell_type": "markdown",
   "id": "fe151a8b",
   "metadata": {},
   "source": [
    "###### Without using existing function of parent class"
   ]
  },
  {
   "cell_type": "code",
   "execution_count": 5,
   "id": "7eab23c3",
   "metadata": {},
   "outputs": [],
   "source": [
    "class BaseClass:\n",
    "    def callMe(self):\n",
    "        print('Base class called')\n",
    "\n",
    "class LeftClass:\n",
    "    def callMe(self):\n",
    "        print('LeftClass class called')\n",
    "        \n",
    "class RightClass:\n",
    "    def callMe(self):\n",
    "        print('RightClass class called')\n",
    "        \n",
    "class ChildClass(LeftClass,RightClass):\n",
    "    def callMe(self):\n",
    "        print('ChildClass class called')"
   ]
  },
  {
   "cell_type": "code",
   "execution_count": 6,
   "id": "0d2061bb",
   "metadata": {},
   "outputs": [],
   "source": [
    "# super(Classname(Parent),object(self)).method(arg) \n",
    "# or\n",
    "# we can use the Parentclass directly"
   ]
  },
  {
   "cell_type": "code",
   "execution_count": 7,
   "id": "5f21e38a",
   "metadata": {},
   "outputs": [],
   "source": [
    "c = ChildClass()"
   ]
  },
  {
   "cell_type": "code",
   "execution_count": 8,
   "id": "9f6feb3d",
   "metadata": {},
   "outputs": [
    {
     "name": "stdout",
     "output_type": "stream",
     "text": [
      "ChildClass class called\n"
     ]
    }
   ],
   "source": [
    "c.callMe()"
   ]
  },
  {
   "cell_type": "code",
   "execution_count": 9,
   "id": "4302bb70",
   "metadata": {},
   "outputs": [],
   "source": [
    "## <<<----------------------------EXAMPLE 2 ---------------------------->>>"
   ]
  },
  {
   "cell_type": "markdown",
   "id": "075c0ad6",
   "metadata": {},
   "source": [
    "###### using existing function of parent class"
   ]
  },
  {
   "cell_type": "code",
   "execution_count": 10,
   "id": "907079a8",
   "metadata": {},
   "outputs": [],
   "source": [
    "class BaseClass:\n",
    "    def callMe(self):\n",
    "        print('Base class called')\n",
    "\n",
    "class LeftClass:\n",
    "    def callMe(self):\n",
    "        BaseClass.callMe(self)\n",
    "        print('LeftClass class called')\n",
    "        \n",
    "class RightClass:\n",
    "    def callMe(self):\n",
    "        BaseClass.callMe(self)\n",
    "        print('RightClass class called')\n",
    "        \n",
    "class ChildClass(LeftClass,RightClass):\n",
    "    def callMe(self):\n",
    "        LeftClass.callMe(self)\n",
    "        RightClass.callMe(self)\n",
    "        print('ChildClass class called')"
   ]
  },
  {
   "cell_type": "code",
   "execution_count": 11,
   "id": "522bbd28",
   "metadata": {},
   "outputs": [
    {
     "name": "stdout",
     "output_type": "stream",
     "text": [
      "Base class called\n",
      "LeftClass class called\n",
      "Base class called\n",
      "RightClass class called\n",
      "ChildClass class called\n"
     ]
    }
   ],
   "source": [
    "ChildClass().callMe()"
   ]
  },
  {
   "cell_type": "code",
   "execution_count": 74,
   "id": "9fe983da",
   "metadata": {},
   "outputs": [],
   "source": [
    "class BaseClass:\n",
    "    def callMe(self):\n",
    "        print('Base class called')\n",
    "\n",
    "class LeftClass:\n",
    "    def callMe(self):\n",
    "        self.callMe()\n",
    "        print('LeftClass class called')\n",
    "        \n",
    "class RightClass:\n",
    "    def callMe(self):\n",
    "        self.callMe()\n",
    "        print('RightClass class called')\n",
    "        \n",
    "class ChildClass(LeftClass,RightClass):\n",
    "    def callMe(self):\n",
    "        self.callMe()\n",
    "        print('ChildClass class called')"
   ]
  },
  {
   "cell_type": "code",
   "execution_count": null,
   "id": "bcbed516",
   "metadata": {},
   "outputs": [],
   "source": [
    "ChildClass().callMe() # Recursion Error: maximum recursion depth exceeded"
   ]
  },
  {
   "cell_type": "markdown",
   "id": "d9dafed0",
   "metadata": {},
   "source": [
    "###### Using Super() - with help of super we can call ancestor or sibling"
   ]
  },
  {
   "cell_type": "code",
   "execution_count": 12,
   "id": "0579483b",
   "metadata": {},
   "outputs": [],
   "source": [
    "class BaseClass:\n",
    "    def callMe(self):\n",
    "        print('Base class called')\n",
    "\n",
    "class LeftClass(BaseClass):\n",
    "    def callMe(self):\n",
    "        super().callMe()\n",
    "        print('LeftClass class called')\n",
    "        \n",
    "class RightClass(BaseClass):\n",
    "    def callMe(self):\n",
    "        super().callMe()\n",
    "        print('RightClass class called')\n",
    "        \n",
    "class ChildClass(LeftClass,RightClass):\n",
    "    def callMe(self):\n",
    "        super().callMe()\n",
    "        print('ChildClass class called')"
   ]
  },
  {
   "cell_type": "code",
   "execution_count": 13,
   "id": "f71309f9",
   "metadata": {},
   "outputs": [],
   "source": [
    "C = ChildClass()"
   ]
  },
  {
   "cell_type": "code",
   "execution_count": 14,
   "id": "2d68df6c",
   "metadata": {},
   "outputs": [
    {
     "name": "stdout",
     "output_type": "stream",
     "text": [
      "Base class called\n",
      "RightClass class called\n",
      "LeftClass class called\n",
      "ChildClass class called\n"
     ]
    }
   ],
   "source": [
    "C.callMe()"
   ]
  },
  {
   "cell_type": "code",
   "execution_count": 15,
   "id": "aeb56a9c",
   "metadata": {},
   "outputs": [],
   "source": [
    "class BaseClass:\n",
    "    def callMe(self):\n",
    "        print('Base class called')\n",
    "\n",
    "class LeftClass(BaseClass):\n",
    "    def callMe(self):\n",
    "        super().callMe()\n",
    "        print('LeftClass class called')\n",
    "        \n",
    "class RightClass(BaseClass):\n",
    "    def callMe(self):\n",
    "        super().callMe()\n",
    "        print('RightClass class called')\n",
    "        \n",
    "class ChildClass(RightClass,LeftClass):\n",
    "    def callMe(self):\n",
    "        super().callMe()\n",
    "        print('ChildClass class called')"
   ]
  },
  {
   "cell_type": "code",
   "execution_count": 16,
   "id": "ae769f08",
   "metadata": {},
   "outputs": [
    {
     "name": "stdout",
     "output_type": "stream",
     "text": [
      "Base class called\n",
      "LeftClass class called\n",
      "RightClass class called\n",
      "ChildClass class called\n"
     ]
    }
   ],
   "source": [
    "ChildClass().callMe()"
   ]
  },
  {
   "cell_type": "code",
   "execution_count": 17,
   "id": "718d8cc5",
   "metadata": {},
   "outputs": [],
   "source": [
    "class BaseClass:\n",
    "    def callMe(self):\n",
    "        print('Base class called')\n",
    "\n",
    "class LeftClass(BaseClass):\n",
    "    def callMe(self):\n",
    "        print('LeftClass class is calling')\n",
    "        super().callMe()\n",
    "        print('LeftClass class called')\n",
    "        \n",
    "class RightClass(BaseClass):\n",
    "    def callMe(self):\n",
    "        print('RightClass class is calling')\n",
    "        super().callMe()\n",
    "        print('RightClass class called')\n",
    "        \n",
    "class ChildClass(RightClass,LeftClass):\n",
    "    def callMe(self):\n",
    "        print('ChildClass class is calling')\n",
    "        super().callMe()\n",
    "        print('ChildClass class called')"
   ]
  },
  {
   "cell_type": "code",
   "execution_count": 18,
   "id": "5026e1cc",
   "metadata": {},
   "outputs": [
    {
     "name": "stdout",
     "output_type": "stream",
     "text": [
      "ChildClass class is calling\n",
      "RightClass class is calling\n",
      "LeftClass class is calling\n",
      "Base class called\n",
      "LeftClass class called\n",
      "RightClass class called\n",
      "ChildClass class called\n"
     ]
    }
   ],
   "source": [
    "ChildClass().callMe()"
   ]
  },
  {
   "cell_type": "code",
   "execution_count": 21,
   "id": "bd012250",
   "metadata": {},
   "outputs": [],
   "source": [
    "class BaseClass:\n",
    "    def callMe(self):\n",
    "        print('Base class called')\n",
    "\n",
    "class LeftClass(BaseClass):\n",
    "    def callMe(self):\n",
    "        print('LeftClass class is calling')\n",
    "        super().callMe()\n",
    "        print('LeftClass class called')\n",
    "        \n",
    "class RightClass(BaseClass):\n",
    "    def callMe(self):\n",
    "        print('RightClass class is calling')\n",
    "        super().callMe()\n",
    "        print('RightClass class called')\n",
    "        \n",
    "class ChildClass(LeftClass,RightClass):\n",
    "    def callMe(self):\n",
    "        print('ChildClass class is calling')\n",
    "        super().callMe()\n",
    "        print('ChildClass class called')"
   ]
  },
  {
   "cell_type": "code",
   "execution_count": 22,
   "id": "19c4cd7e",
   "metadata": {},
   "outputs": [
    {
     "name": "stdout",
     "output_type": "stream",
     "text": [
      "ChildClass class is calling\n",
      "LeftClass class is calling\n",
      "RightClass class is calling\n",
      "Base class called\n",
      "RightClass class called\n",
      "LeftClass class called\n",
      "ChildClass class called\n"
     ]
    }
   ],
   "source": [
    "ChildClass().callMe()"
   ]
  },
  {
   "cell_type": "code",
   "execution_count": 19,
   "id": "5deed77d",
   "metadata": {},
   "outputs": [],
   "source": [
    "class BaseClass:\n",
    "    def callMe(self):\n",
    "        print('Base class called')\n",
    "\n",
    "        \n",
    "class ChildClass(BaseClass):\n",
    "    def callMe(self):\n",
    "        print('ChildClass class is calling')\n",
    "        super().callMe()\n",
    "        print('ChildClass class called')"
   ]
  },
  {
   "cell_type": "code",
   "execution_count": 20,
   "id": "ac894058",
   "metadata": {},
   "outputs": [
    {
     "name": "stdout",
     "output_type": "stream",
     "text": [
      "ChildClass class is calling\n",
      "Base class called\n",
      "ChildClass class called\n"
     ]
    }
   ],
   "source": [
    "ChildClass().callMe()"
   ]
  },
  {
   "cell_type": "code",
   "execution_count": 23,
   "id": "8a016943",
   "metadata": {},
   "outputs": [],
   "source": [
    "class BaseClass:\n",
    "    def callMe(self):\n",
    "        print('Base class called')\n",
    "\n",
    "class LeftClass(BaseClass):\n",
    "    def callMe(self):\n",
    "        print('LeftClass class is calling')\n",
    "        super().callMe()\n",
    "        print('LeftClass class called')\n",
    "        \n",
    "class RightClass(BaseClass):\n",
    "    def callMe(self):\n",
    "        print('RightClass class is calling')\n",
    "        super().callMe()\n",
    "        print('RightClass class called')\n",
    "        \n",
    "class MiddleClass(BaseClass):\n",
    "    def callMe(self):\n",
    "        print('MiddleClass class is calling')\n",
    "        super().callMe()\n",
    "        print('MiddleClass class called')\n",
    "        \n",
    "class ChildClass(LeftClass,MiddleClass,RightClass):\n",
    "    def callMe(self):\n",
    "        print('ChildClass class is calling')\n",
    "        super().callMe()\n",
    "        print('ChildClass class called')"
   ]
  },
  {
   "cell_type": "code",
   "execution_count": 24,
   "id": "354cdc6c",
   "metadata": {},
   "outputs": [
    {
     "name": "stdout",
     "output_type": "stream",
     "text": [
      "ChildClass class is calling\n",
      "LeftClass class is calling\n",
      "MiddleClass class is calling\n",
      "RightClass class is calling\n",
      "Base class called\n",
      "RightClass class called\n",
      "MiddleClass class called\n",
      "LeftClass class called\n",
      "ChildClass class called\n"
     ]
    }
   ],
   "source": [
    "ChildClass().callMe()"
   ]
  },
  {
   "cell_type": "code",
   "execution_count": 27,
   "id": "411173a7",
   "metadata": {},
   "outputs": [],
   "source": [
    "class BaseClass:\n",
    "    def callMe(self):\n",
    "        print('Base class called')\n",
    "\n",
    "class LeftClass(BaseClass):\n",
    "    def callMe(self):\n",
    "        print('LeftClass class is calling')\n",
    "        super().callMe()\n",
    "        print('LeftClass class called')\n",
    "        \n",
    "class RightClass(BaseClass):\n",
    "    def callMe(self):\n",
    "        print('RightClass class is calling')\n",
    "        super().callMe()\n",
    "        print('RightClass class called')\n",
    "        \n",
    "class MiddleClass(BaseClass):\n",
    "    def callMe(self):\n",
    "        print('MiddleClass class is calling')\n",
    "        super().callMe()\n",
    "        print('MiddleClass class called')\n",
    "        \n",
    "class ChildClass(LeftClass,MiddleClass,RightClass):\n",
    "    def callMe(self):\n",
    "        print('ChildClass class is calling')\n",
    "        super(LeftClass,self).callMe()\n",
    "        print('ChildClass class called')"
   ]
  },
  {
   "cell_type": "code",
   "execution_count": 28,
   "id": "21b48274",
   "metadata": {},
   "outputs": [
    {
     "name": "stdout",
     "output_type": "stream",
     "text": [
      "ChildClass class is calling\n",
      "MiddleClass class is calling\n",
      "RightClass class is calling\n",
      "Base class called\n",
      "RightClass class called\n",
      "MiddleClass class called\n",
      "ChildClass class called\n"
     ]
    }
   ],
   "source": [
    "ChildClass().callMe()"
   ]
  },
  {
   "cell_type": "code",
   "execution_count": 31,
   "id": "dd3a3fd8",
   "metadata": {},
   "outputs": [
    {
     "data": {
      "text/plain": [
       "(__main__.ChildClass,\n",
       " __main__.LeftClass,\n",
       " __main__.MiddleClass,\n",
       " __main__.RightClass,\n",
       " __main__.BaseClass,\n",
       " object)"
      ]
     },
     "execution_count": 31,
     "metadata": {},
     "output_type": "execute_result"
    }
   ],
   "source": [
    "ChildClass.__mro__ # to check the execution flow\n",
    "\n",
    "# Mrethod Resolution Order"
   ]
  },
  {
   "cell_type": "code",
   "execution_count": null,
   "id": "219d062a",
   "metadata": {},
   "outputs": [],
   "source": [
    "#in case we give the class name in super, then it will not execute and ignore"
   ]
  },
  {
   "cell_type": "code",
   "execution_count": 32,
   "id": "f87fcbab",
   "metadata": {},
   "outputs": [],
   "source": [
    "class BaseClass:\n",
    "    def callMe(self):\n",
    "        print('Base class called')\n",
    "\n",
    "class LeftClass(BaseClass):\n",
    "    def callMe(self):\n",
    "        print('LeftClass class is calling')\n",
    "        super().callMe()\n",
    "        print('LeftClass class called')\n",
    "        \n",
    "class RightClass(BaseClass):\n",
    "    def callMe(self):\n",
    "        print('RightClass class is calling')\n",
    "        super().callMe()\n",
    "        print('RightClass class called')\n",
    "        \n",
    "class MiddleClass(BaseClass):\n",
    "    def callMe(self):\n",
    "        print('MiddleClass class is calling')\n",
    "        super().callMe()\n",
    "        print('MiddleClass class called')\n",
    "        \n",
    "class ChildClass(LeftClass,MiddleClass,RightClass):\n",
    "    def callMe(self):\n",
    "        print('ChildClass class is calling')\n",
    "        super(RightClass,self).callMe()\n",
    "        print('ChildClass class called')"
   ]
  },
  {
   "cell_type": "code",
   "execution_count": 33,
   "id": "109c947c",
   "metadata": {},
   "outputs": [
    {
     "name": "stdout",
     "output_type": "stream",
     "text": [
      "ChildClass class is calling\n",
      "Base class called\n",
      "ChildClass class called\n"
     ]
    }
   ],
   "source": [
    "ChildClass().callMe()"
   ]
  },
  {
   "cell_type": "code",
   "execution_count": 37,
   "id": "3cb70711",
   "metadata": {},
   "outputs": [],
   "source": [
    "class BaseClass:\n",
    "    def callMe(self):\n",
    "        print('Base class called')\n",
    "\n",
    "class LeftClass(BaseClass):\n",
    "    def callMe(self):\n",
    "        print('LeftClass class is calling')\n",
    "        super().callMe()\n",
    "        print('LeftClass class called')\n",
    "        \n",
    "class RightClass(BaseClass):\n",
    "    def callMe(self):\n",
    "        print('RightClass class is calling')\n",
    "        super().callMe()\n",
    "        print('RightClass class called')\n",
    "        \n",
    "class MiddleClass(BaseClass):\n",
    "    def callMe(self):\n",
    "        print('MiddleClass class is calling')\n",
    "        super().callMe()\n",
    "        print('MiddleClass class called')\n",
    "        \n",
    "class ChildClass(LeftClass,MiddleClass,RightClass):\n",
    "    def callMe(self):\n",
    "        print('ChildClass class is calling')\n",
    "        super(ChildClass,self).callMe()\n",
    "        print('ChildClass class called')"
   ]
  },
  {
   "cell_type": "code",
   "execution_count": 38,
   "id": "a6474dcf",
   "metadata": {},
   "outputs": [
    {
     "name": "stdout",
     "output_type": "stream",
     "text": [
      "ChildClass class is calling\n",
      "LeftClass class is calling\n",
      "MiddleClass class is calling\n",
      "RightClass class is calling\n",
      "Base class called\n",
      "RightClass class called\n",
      "MiddleClass class called\n",
      "LeftClass class called\n",
      "ChildClass class called\n"
     ]
    }
   ],
   "source": [
    "ChildClass().callMe()"
   ]
  },
  {
   "cell_type": "markdown",
   "id": "641302e5",
   "metadata": {},
   "source": [
    "###### Operator Overloading"
   ]
  },
  {
   "cell_type": "code",
   "execution_count": null,
   "id": "3c633beb",
   "metadata": {},
   "outputs": [],
   "source": [
    "# We are trying to change the operation of the operator"
   ]
  },
  {
   "cell_type": "code",
   "execution_count": 76,
   "id": "94977366",
   "metadata": {},
   "outputs": [],
   "source": [
    "class OperatorOverloading:\n",
    "    \n",
    "    def __init__(self, a ):\n",
    "        self.a = a\n",
    "        #self.b = b\n",
    "        \n",
    "    def __add__(self,b):\n",
    "        return f\"Sum of {self.a} + {b} is {self.a+b}\""
   ]
  },
  {
   "cell_type": "code",
   "execution_count": 80,
   "id": "66bae113",
   "metadata": {},
   "outputs": [
    {
     "data": {
      "text/plain": [
       "'Sum of 2 + 5 is 7'"
      ]
     },
     "execution_count": 80,
     "metadata": {},
     "output_type": "execute_result"
    }
   ],
   "source": [
    "OperatorOverloading(2) + 5"
   ]
  },
  {
   "cell_type": "code",
   "execution_count": 81,
   "id": "ebefd835",
   "metadata": {},
   "outputs": [
    {
     "data": {
      "text/plain": [
       "'Sum of 2 + 5 is 7'"
      ]
     },
     "execution_count": 81,
     "metadata": {},
     "output_type": "execute_result"
    }
   ],
   "source": [
    "OperatorOverloading(2).__add__(5)"
   ]
  },
  {
   "cell_type": "markdown",
   "id": "b11c232a",
   "metadata": {},
   "source": [
    "###### Polymorphism"
   ]
  },
  {
   "cell_type": "code",
   "execution_count": 88,
   "id": "2474b373",
   "metadata": {},
   "outputs": [],
   "source": [
    "class AudioFile:\n",
    "    def __init__(self,filename):\n",
    "        if not filename.endswith(self.ext):\n",
    "            raise Exception(\"Invalid File Format\")\n",
    "        self.filename = filename\n",
    "class MP3File(AudioFile):\n",
    "    ext = \"mp3\"\n",
    "    def play(self):\n",
    "        print(f'playing {self.filename} as  mp3')\n",
    "class WAVFile(AudioFile):\n",
    "    ext = \"wav\"\n",
    "    def play(self):\n",
    "        print(f'playing {self.filename} as  wav')\n",
    "class OggFile(AudioFile):\n",
    "    ext = \"ogg\"\n",
    "    def play(self):\n",
    "        print(f'playing {self.filename} as  ogg')"
   ]
  },
  {
   "cell_type": "code",
   "execution_count": 89,
   "id": "90c5c1ff",
   "metadata": {},
   "outputs": [
    {
     "ename": "Exception",
     "evalue": "Invalid File Format",
     "output_type": "error",
     "traceback": [
      "\u001b[1;31m---------------------------------------------------------------------------\u001b[0m",
      "\u001b[1;31mException\u001b[0m                                 Traceback (most recent call last)",
      "\u001b[1;32mC:\\Users\\KARTHI~1\\AppData\\Local\\Temp/ipykernel_15832/198619754.py\u001b[0m in \u001b[0;36m<module>\u001b[1;34m\u001b[0m\n\u001b[1;32m----> 1\u001b[1;33m \u001b[0ma\u001b[0m \u001b[1;33m=\u001b[0m \u001b[0mMP3File\u001b[0m\u001b[1;33m(\u001b[0m\u001b[1;34m\"test.mp4\"\u001b[0m\u001b[1;33m)\u001b[0m\u001b[1;33m\u001b[0m\u001b[1;33m\u001b[0m\u001b[0m\n\u001b[0m",
      "\u001b[1;32mC:\\Users\\KARTHI~1\\AppData\\Local\\Temp/ipykernel_15832/577914300.py\u001b[0m in \u001b[0;36m__init__\u001b[1;34m(self, filename)\u001b[0m\n\u001b[0;32m      2\u001b[0m     \u001b[1;32mdef\u001b[0m \u001b[0m__init__\u001b[0m\u001b[1;33m(\u001b[0m\u001b[0mself\u001b[0m\u001b[1;33m,\u001b[0m\u001b[0mfilename\u001b[0m\u001b[1;33m)\u001b[0m\u001b[1;33m:\u001b[0m\u001b[1;33m\u001b[0m\u001b[1;33m\u001b[0m\u001b[0m\n\u001b[0;32m      3\u001b[0m         \u001b[1;32mif\u001b[0m \u001b[1;32mnot\u001b[0m \u001b[0mfilename\u001b[0m\u001b[1;33m.\u001b[0m\u001b[0mendswith\u001b[0m\u001b[1;33m(\u001b[0m\u001b[0mself\u001b[0m\u001b[1;33m.\u001b[0m\u001b[0mext\u001b[0m\u001b[1;33m)\u001b[0m\u001b[1;33m:\u001b[0m\u001b[1;33m\u001b[0m\u001b[1;33m\u001b[0m\u001b[0m\n\u001b[1;32m----> 4\u001b[1;33m             \u001b[1;32mraise\u001b[0m \u001b[0mException\u001b[0m\u001b[1;33m(\u001b[0m\u001b[1;34m\"Invalid File Format\"\u001b[0m\u001b[1;33m)\u001b[0m\u001b[1;33m\u001b[0m\u001b[1;33m\u001b[0m\u001b[0m\n\u001b[0m\u001b[0;32m      5\u001b[0m         \u001b[0mself\u001b[0m\u001b[1;33m.\u001b[0m\u001b[0mfilename\u001b[0m \u001b[1;33m=\u001b[0m \u001b[0mfilename\u001b[0m\u001b[1;33m\u001b[0m\u001b[1;33m\u001b[0m\u001b[0m\n\u001b[0;32m      6\u001b[0m \u001b[1;32mclass\u001b[0m \u001b[0mMP3File\u001b[0m\u001b[1;33m(\u001b[0m\u001b[0mAudioFile\u001b[0m\u001b[1;33m)\u001b[0m\u001b[1;33m:\u001b[0m\u001b[1;33m\u001b[0m\u001b[1;33m\u001b[0m\u001b[0m\n",
      "\u001b[1;31mException\u001b[0m: Invalid File Format"
     ]
    }
   ],
   "source": [
    "a = MP3File(\"test.mp4\")"
   ]
  },
  {
   "cell_type": "code",
   "execution_count": 90,
   "id": "c8ce5dbf",
   "metadata": {},
   "outputs": [],
   "source": [
    "a = MP3File(\"test.mp3\")"
   ]
  },
  {
   "cell_type": "code",
   "execution_count": 91,
   "id": "d4489436",
   "metadata": {},
   "outputs": [
    {
     "name": "stdout",
     "output_type": "stream",
     "text": [
      "playing test.mp3 as  mp3\n"
     ]
    }
   ],
   "source": [
    "a.play()"
   ]
  },
  {
   "cell_type": "code",
   "execution_count": null,
   "id": "9909897b",
   "metadata": {},
   "outputs": [],
   "source": [
    "# Based on the datatype, different results will be given"
   ]
  },
  {
   "cell_type": "code",
   "execution_count": null,
   "id": "3083d7c1",
   "metadata": {},
   "outputs": [],
   "source": []
  },
  {
   "cell_type": "markdown",
   "id": "205cf66a",
   "metadata": {},
   "source": [
    "###### File handling"
   ]
  },
  {
   "cell_type": "raw",
   "id": "b6f915cb",
   "metadata": {},
   "source": [
    "Modes\tDescription\n",
    "r\tOpens a file for reading only.\n",
    "rb\tOpens a file for reading only in binary format.\n",
    "r+\tOpens a file for both reading and writing.\n",
    "rb+\tOpens a file for both reading and writing in binary format.\n",
    "w\tOpens a file for writing only.\n",
    "wb\tOpens a file for writing only in binary format.\n",
    "w+\tOpens a file for both writing and reading.\n",
    "wb+\tOpens a file for both writing and reading in binary format.\n",
    "a\tOpens a file for appending.\n",
    "ab\tOpens a file for appending in binary format.\n",
    "a+\tOpens a file for both appending and reading.\n",
    "ab+\tOpens a file for both appending and reading in binary format."
   ]
  },
  {
   "cell_type": "code",
   "execution_count": 119,
   "id": "e6b02bce",
   "metadata": {},
   "outputs": [],
   "source": [
    "content = \"We are writing a file.\""
   ]
  },
  {
   "cell_type": "code",
   "execution_count": 94,
   "id": "53a476e5",
   "metadata": {},
   "outputs": [
    {
     "ename": "FileNotFoundError",
     "evalue": "[Errno 2] No such file or directory: 'File Handling.txt'",
     "output_type": "error",
     "traceback": [
      "\u001b[1;31m---------------------------------------------------------------------------\u001b[0m",
      "\u001b[1;31mFileNotFoundError\u001b[0m                         Traceback (most recent call last)",
      "\u001b[1;32mC:\\Users\\KARTHI~1\\AppData\\Local\\Temp/ipykernel_15832/2682764176.py\u001b[0m in \u001b[0;36m<module>\u001b[1;34m\u001b[0m\n\u001b[1;32m----> 1\u001b[1;33m \u001b[0mopen\u001b[0m\u001b[1;33m(\u001b[0m\u001b[1;34m'File Handling.txt'\u001b[0m\u001b[1;33m,\u001b[0m\u001b[1;34m'r'\u001b[0m\u001b[1;33m)\u001b[0m\u001b[1;33m\u001b[0m\u001b[1;33m\u001b[0m\u001b[0m\n\u001b[0m",
      "\u001b[1;31mFileNotFoundError\u001b[0m: [Errno 2] No such file or directory: 'File Handling.txt'"
     ]
    }
   ],
   "source": [
    "open(file='File Handling.txt',mode='r') # read mode \n",
    "\n",
    "# reading a file that is not available"
   ]
  },
  {
   "cell_type": "code",
   "execution_count": 98,
   "id": "5ad57fea",
   "metadata": {},
   "outputs": [],
   "source": [
    "f = open(file='File Handling.txt',mode='a') # write mode \n",
    "\n",
    "# write a file that is not available (create)"
   ]
  },
  {
   "cell_type": "code",
   "execution_count": 112,
   "id": "ad864512",
   "metadata": {},
   "outputs": [],
   "source": [
    "f = open(file='File Handling.txt',mode='w')\n",
    "f.write(content)\n",
    "f.close()"
   ]
  },
  {
   "cell_type": "code",
   "execution_count": 114,
   "id": "70f0b9a9",
   "metadata": {},
   "outputs": [
    {
     "data": {
      "text/plain": [
       "'We are writing a file'"
      ]
     },
     "execution_count": 114,
     "metadata": {},
     "output_type": "execute_result"
    }
   ],
   "source": [
    "f = open(file='File Handling.txt',mode='r')\n",
    "f.read()"
   ]
  },
  {
   "cell_type": "code",
   "execution_count": 117,
   "id": "53e43af1",
   "metadata": {},
   "outputs": [],
   "source": [
    "f = open(file='File Handling.txt',mode='a')\n",
    "f.write('This is the second line')\n",
    "f.close()"
   ]
  },
  {
   "cell_type": "code",
   "execution_count": 118,
   "id": "0dbdf3f5",
   "metadata": {},
   "outputs": [
    {
     "data": {
      "text/plain": [
       "'We are writing a fileThis is the second line'"
      ]
     },
     "execution_count": 118,
     "metadata": {},
     "output_type": "execute_result"
    }
   ],
   "source": [
    "f = open(file='File Handling.txt',mode='r')\n",
    "f.read()"
   ]
  },
  {
   "cell_type": "code",
   "execution_count": 120,
   "id": "cf63fb52",
   "metadata": {},
   "outputs": [],
   "source": [
    "f = open(file='File Handling.txt',mode='w+')\n",
    "f.write(content)\n",
    "f.close()"
   ]
  },
  {
   "cell_type": "code",
   "execution_count": 121,
   "id": "6bc42546",
   "metadata": {},
   "outputs": [
    {
     "data": {
      "text/plain": [
       "'We are writing a file.'"
      ]
     },
     "execution_count": 121,
     "metadata": {},
     "output_type": "execute_result"
    }
   ],
   "source": [
    "f = open(file='File Handling.txt',mode='r')\n",
    "f.read()"
   ]
  },
  {
   "cell_type": "code",
   "execution_count": 124,
   "id": "d213701b",
   "metadata": {},
   "outputs": [],
   "source": [
    "# If we use with in front of open, we do not need to close the file explicitly\n",
    "\n",
    "\n",
    "with open('File Handling.txt','w') as f:\n",
    "    f.write(content)"
   ]
  },
  {
   "cell_type": "code",
   "execution_count": 127,
   "id": "b84c72a1",
   "metadata": {},
   "outputs": [
    {
     "name": "stdout",
     "output_type": "stream",
     "text": [
      "We are writing a file.\n"
     ]
    }
   ],
   "source": [
    "with open('File Handling.txt','r') as f:\n",
    "    print(f.read())"
   ]
  },
  {
   "cell_type": "code",
   "execution_count": null,
   "id": "884b77d3",
   "metadata": {},
   "outputs": [],
   "source": []
  }
 ],
 "metadata": {
  "kernelspec": {
   "display_name": "Python 3 (ipykernel)",
   "language": "python",
   "name": "python3"
  },
  "language_info": {
   "codemirror_mode": {
    "name": "ipython",
    "version": 3
   },
   "file_extension": ".py",
   "mimetype": "text/x-python",
   "name": "python",
   "nbconvert_exporter": "python",
   "pygments_lexer": "ipython3",
   "version": "3.9.7"
  }
 },
 "nbformat": 4,
 "nbformat_minor": 5
}
