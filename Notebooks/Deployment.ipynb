{
 "cells": [
  {
   "cell_type": "markdown",
   "id": "5c123fc5",
   "metadata": {},
   "source": [
    "# 20th June Deployment Discussion"
   ]
  },
  {
   "cell_type": "markdown",
   "id": "488dc180",
   "metadata": {},
   "source": [
    "###### Heroku"
   ]
  },
  {
   "cell_type": "code",
   "execution_count": null,
   "id": "23958b02",
   "metadata": {},
   "outputs": [],
   "source": [
    "# Heroku is a cloud platform where we can deploy any application\n",
    "\n",
    "# we will deploy a Flask application now"
   ]
  },
  {
   "cell_type": "markdown",
   "id": "b59dff52",
   "metadata": {},
   "source": [
    "###### Heroku CLI instructions\n",
    "\n",
    "* We have to create 2 files which are required for deployment in heroku\n",
    "* requirements.txt\n",
    "* PROCFILE"
   ]
  },
  {
   "cell_type": "code",
   "execution_count": null,
   "id": "3e12287a",
   "metadata": {},
   "outputs": [],
   "source": [
    "# To create a requirements. file\n",
    "\n",
    "    # PS C:\\Users\\KARTHIKRAGHAVAN\\Desktop\\Ineuron\\Deployment> pip freeze > requirements.txt\n",
    "\n",
    "    # gunicorn helps us execute in linux\n",
    "    # gunicorn is a server\n",
    "\n",
    "# To Create a PROC File\n",
    "\n",
    "    # File --> New --> File --> Procfile --> Text extension\n",
    "    # web: gunicorn main:app \n",
    "    # 'main' is the name of file and 'app' is the object of 'flask'\n",
    "    "
   ]
  },
  {
   "cell_type": "code",
   "execution_count": null,
   "id": "42288d40",
   "metadata": {},
   "outputs": [],
   "source": [
    "# In Commnad prompt, to check if heroku is installed or not\n",
    "\n",
    "    # C:\\Users\\KARTHIKRAGHAVAN>heroku\n",
    "\n",
    "# Creating a new conda env for projects\n",
    "\n",
    "    # conda create -n \"Env name\" python==\"python version\" \n",
    "\n",
    "# To use the ENV\n",
    "\n",
    "    # conda activate \"Env name\"\n",
    "\n",
    "# To check which env is currently activated\n",
    "    \n",
    "    # conda info --envs"
   ]
  },
  {
   "cell_type": "code",
   "execution_count": 2,
   "id": "e83adf99",
   "metadata": {},
   "outputs": [],
   "source": [
    "# we will store the source code in github\n",
    "\n",
    "#<<<---------------------------GITHUB----------------------------------->>>\n",
    "\n",
    "# To create a new repository on the command line\n",
    "\n",
    "#echo \"# flask_demo_testing\" >> README.md\n",
    "#git init\n",
    "#git add . #--> staging area\n",
    "#git add README.md\n",
    "#git branch -M main  #--> renames our branch name\n",
    "#git remote add origin https://github.com/KarthikRaghavan-Annamalai/flask_demo_testing.git\n",
    "#git commit -m \"heroku deployment testing\"\n",
    "#git push -u origin main #--> to upload all the files that are staged\n",
    "\n",
    "# To push anexisting repository from the command line\n",
    "\n",
    "#git remote add origin https://github.com/KarthikRaghavan-Annamalai/flask_demo_testing.git\n",
    "#git commit -m \"heroku deployment testing\"\n",
    "#git push -u origin main"
   ]
  },
  {
   "cell_type": "code",
   "execution_count": null,
   "id": "e5b03951",
   "metadata": {},
   "outputs": [],
   "source": [
    "# we have to deploy in heroku\n",
    "\n",
    "#<<<---------------------------HEROKU----------------------------------->>>\n",
    "\n",
    "# Create New App\n",
    "# flask-heroku-test-akr-001\n",
    "\n",
    "# open pycharm terminal \n",
    "# heroku login -i\n",
    "    # -i opens browser for credentials if not specified else will prompt in terminal itself\n",
    "    \n",
    "# Create a new Git repository\n",
    "#Initialize a git repository in a new or existing directory\n",
    "\n",
    "# $ cd my-project/\n",
    "# $ git init\n",
    "# $ heroku git:remote -a flask-heroku-test-akr-001\n",
    "\n",
    "# Deploy your application\n",
    "# Commit your code to the repository and deploy it to Heroku using Git.\n",
    "\n",
    "# $ git add .\n",
    "# $ git commit -am \"make it better\"\n",
    "# $ git push heroku <branch name>\n",
    "\n",
    "\n",
    "\n",
    "# Existing Git repository\n",
    "# For existing repositories, simply add the heroku remote\n",
    "\n",
    "# $ heroku git:remote -a flask-heroku-test-akr-001"
   ]
  },
  {
   "cell_type": "raw",
   "id": "f69b8faf",
   "metadata": {},
   "source": [
    "Check your package --> conda list (I used conda env)\n",
    "Edit the package in requirements.txt match that I've checked\n",
    "ex.psycopg2 @ file:///tmp/build/80754af9/psycopg2_1594305108220/work --> psycopg2==2.8.5\n",
    "Then commit all changes\n",
    "-push to heroku (I used heroku)"
   ]
  },
  {
   "cell_type": "code",
   "execution_count": null,
   "id": "ee7cca58",
   "metadata": {},
   "outputs": [],
   "source": [
    "# ! [rejected] main -> main (fetch first) error: failed to push some refs to code example\n",
    "\n",
    "#git pull\n",
    "# git add .\n",
    "# git push commit -m \"updated\"\n",
    "# git push"
   ]
  }
 ],
 "metadata": {
  "kernelspec": {
   "display_name": "Python 3 (ipykernel)",
   "language": "python",
   "name": "python3"
  },
  "language_info": {
   "codemirror_mode": {
    "name": "ipython",
    "version": 3
   },
   "file_extension": ".py",
   "mimetype": "text/x-python",
   "name": "python",
   "nbconvert_exporter": "python",
   "pygments_lexer": "ipython3",
   "version": "3.9.7"
  }
 },
 "nbformat": 4,
 "nbformat_minor": 5
}
