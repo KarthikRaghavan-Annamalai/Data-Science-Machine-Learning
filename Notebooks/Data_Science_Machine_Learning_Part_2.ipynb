{
 "cells": [
  {
   "cell_type": "markdown",
   "metadata": {
    "id": "rFtVvuyBkc1J"
   },
   "source": [
    "# 30th May Function"
   ]
  },
  {
   "cell_type": "code",
   "execution_count": null,
   "metadata": {
    "id": "aF_Y9qrTk6jW"
   },
   "outputs": [],
   "source": [
    "# Passing multiple arguments in a function"
   ]
  },
  {
   "cell_type": "code",
   "execution_count": null,
   "metadata": {
    "id": "Lf0fQV3zk9QJ"
   },
   "outputs": [],
   "source": [
    "def test_function(a,b,c,d,e):\n",
    "  return a+b"
   ]
  },
  {
   "cell_type": "code",
   "execution_count": null,
   "metadata": {
    "id": "nsKOpeRKk9TB"
   },
   "outputs": [],
   "source": [
    "def test_function_demo(*args):\n",
    "  return args"
   ]
  },
  {
   "cell_type": "code",
   "execution_count": null,
   "metadata": {
    "id": "qXVkV9i0k9W5"
   },
   "outputs": [],
   "source": [
    "# *args - if we have to pass multiple arguments, it will take any number of paramaters at any point of time\n",
    "# where ever we have to pass unknown number of paramaters, we can use *args"
   ]
  },
  {
   "cell_type": "code",
   "execution_count": null,
   "metadata": {
    "colab": {
     "base_uri": "https://localhost:8080/"
    },
    "executionInfo": {
     "elapsed": 7,
     "status": "ok",
     "timestamp": 1657252118949,
     "user": {
      "displayName": "Raghav AK",
      "userId": "00754895325531397942"
     },
     "user_tz": 240
    },
    "id": "XEmYLh4Tk9Zy",
    "outputId": "2b2e4693-6a8a-49ca-dcb5-4adf5c8bb5c7"
   },
   "outputs": [
    {
     "data": {
      "text/plain": [
       "()"
      ]
     },
     "execution_count": 6,
     "metadata": {},
     "output_type": "execute_result"
    }
   ],
   "source": [
    "test_function_demo()"
   ]
  },
  {
   "cell_type": "code",
   "execution_count": null,
   "metadata": {
    "colab": {
     "base_uri": "https://localhost:8080/"
    },
    "executionInfo": {
     "elapsed": 6,
     "status": "ok",
     "timestamp": 1657252142607,
     "user": {
      "displayName": "Raghav AK",
      "userId": "00754895325531397942"
     },
     "user_tz": 240
    },
    "id": "CRtLn9x5k9cZ",
    "outputId": "fa63ba14-2f0a-4d8d-cde0-4dde76423e8d"
   },
   "outputs": [
    {
     "data": {
      "text/plain": [
       "(2, 3)"
      ]
     },
     "execution_count": 7,
     "metadata": {},
     "output_type": "execute_result"
    }
   ],
   "source": [
    "test_function_demo(2,3)"
   ]
  },
  {
   "cell_type": "code",
   "execution_count": null,
   "metadata": {
    "id": "_DPAadEgk9ft"
   },
   "outputs": [],
   "source": [
    "def test_function_demo(*args,a,b):\n",
    "  return a+b\n",
    "\n",
    "  # here we can pass any number of arguments and a,b are mandatory"
   ]
  },
  {
   "cell_type": "code",
   "execution_count": null,
   "metadata": {
    "colab": {
     "base_uri": "https://localhost:8080/"
    },
    "executionInfo": {
     "elapsed": 5,
     "status": "ok",
     "timestamp": 1657252732594,
     "user": {
      "displayName": "Raghav AK",
      "userId": "00754895325531397942"
     },
     "user_tz": 240
    },
    "id": "naOvrMT4k9ih",
    "outputId": "88caee08-615f-46dd-c559-02c6883dbbbe"
   },
   "outputs": [
    {
     "data": {
      "text/plain": [
       "3"
      ]
     },
     "execution_count": 15,
     "metadata": {},
     "output_type": "execute_result"
    }
   ],
   "source": [
    "test_function_demo(a = 1,b=2)"
   ]
  },
  {
   "cell_type": "code",
   "execution_count": null,
   "metadata": {
    "id": "Auaolguuk9lF"
   },
   "outputs": [],
   "source": [
    "def test_function(*args):\n",
    "  if len(args) > 0:\n",
    "    for i in args:\n",
    "      print(i)"
   ]
  },
  {
   "cell_type": "code",
   "execution_count": null,
   "metadata": {
    "id": "zAzQTOLU-CPB"
   },
   "outputs": [],
   "source": [
    "test_function()"
   ]
  },
  {
   "cell_type": "code",
   "execution_count": null,
   "metadata": {
    "colab": {
     "base_uri": "https://localhost:8080/"
    },
    "executionInfo": {
     "elapsed": 6,
     "status": "ok",
     "timestamp": 1657252959418,
     "user": {
      "displayName": "Raghav AK",
      "userId": "00754895325531397942"
     },
     "user_tz": 240
    },
    "id": "UVeNslH0-FR_",
    "outputId": "116d61f1-f531-40b3-f302-09ae8424ad8c"
   },
   "outputs": [
    {
     "name": "stdout",
     "output_type": "stream",
     "text": [
      "45\n",
      "0\n",
      "23\n"
     ]
    }
   ],
   "source": [
    "test_function(45,0,23)\n",
    "\n",
    "# data gets stored in a tuple so they are iterable"
   ]
  },
  {
   "cell_type": "code",
   "execution_count": null,
   "metadata": {
    "id": "3L48KHs--IET"
   },
   "outputs": [],
   "source": [
    "# args is not a keyword, we can replace with any word. we just need an asterisk in front of the word\n",
    "\n",
    "def demo(*boom):\n",
    "  return boom"
   ]
  },
  {
   "cell_type": "code",
   "execution_count": null,
   "metadata": {
    "colab": {
     "base_uri": "https://localhost:8080/"
    },
    "executionInfo": {
     "elapsed": 6,
     "status": "ok",
     "timestamp": 1657253484453,
     "user": {
      "displayName": "Raghav AK",
      "userId": "00754895325531397942"
     },
     "user_tz": 240
    },
    "id": "aqdPR9k9AT39",
    "outputId": "57a11c09-63ec-41ff-ab3d-c38a83855961"
   },
   "outputs": [
    {
     "data": {
      "text/plain": [
       "()"
      ]
     },
     "execution_count": 23,
     "metadata": {},
     "output_type": "execute_result"
    }
   ],
   "source": [
    "demo()"
   ]
  },
  {
   "cell_type": "code",
   "execution_count": null,
   "metadata": {
    "id": "jQQ3nJXuAVMA"
   },
   "outputs": [],
   "source": [
    "def test_demo(**kwargs):\n",
    "  return kwargs"
   ]
  },
  {
   "cell_type": "code",
   "execution_count": null,
   "metadata": {
    "colab": {
     "base_uri": "https://localhost:8080/"
    },
    "executionInfo": {
     "elapsed": 7,
     "status": "ok",
     "timestamp": 1657255380372,
     "user": {
      "displayName": "Raghav AK",
      "userId": "00754895325531397942"
     },
     "user_tz": 240
    },
    "id": "upde2ZQUHdJm",
    "outputId": "be7438d1-b213-461d-fd10-20b61c104fe3"
   },
   "outputs": [
    {
     "data": {
      "text/plain": [
       "{}"
      ]
     },
     "execution_count": 26,
     "metadata": {},
     "output_type": "execute_result"
    }
   ],
   "source": [
    "test_demo()"
   ]
  },
  {
   "cell_type": "code",
   "execution_count": null,
   "metadata": {
    "colab": {
     "base_uri": "https://localhost:8080/"
    },
    "executionInfo": {
     "elapsed": 4,
     "status": "ok",
     "timestamp": 1657255416740,
     "user": {
      "displayName": "Raghav AK",
      "userId": "00754895325531397942"
     },
     "user_tz": 240
    },
    "id": "TMTwBgAfHf7Z",
    "outputId": "d91dfab2-fced-4d70-9751-c1767c6f3f92"
   },
   "outputs": [
    {
     "data": {
      "text/plain": [
       "dict"
      ]
     },
     "execution_count": 27,
     "metadata": {},
     "output_type": "execute_result"
    }
   ],
   "source": [
    "type(test_demo())"
   ]
  },
  {
   "cell_type": "code",
   "execution_count": null,
   "metadata": {
    "id": "ogqJEJqGHs2E"
   },
   "outputs": [],
   "source": [
    "# kwargs is a dictionary type so we have to pass as key:value pair\n",
    "# kwargs is not a keyword, we can replace with any word. we just need a double asterisk in front of the word"
   ]
  },
  {
   "cell_type": "code",
   "execution_count": null,
   "metadata": {
    "colab": {
     "base_uri": "https://localhost:8080/"
    },
    "executionInfo": {
     "elapsed": 427,
     "status": "ok",
     "timestamp": 1657255542203,
     "user": {
      "displayName": "Raghav AK",
      "userId": "00754895325531397942"
     },
     "user_tz": 240
    },
    "id": "p8QQsWAkHzU4",
    "outputId": "ce11bc63-3102-437b-8b6b-18401f9a031f"
   },
   "outputs": [
    {
     "data": {
      "text/plain": [
       "{'a': 34}"
      ]
     },
     "execution_count": 33,
     "metadata": {},
     "output_type": "execute_result"
    }
   ],
   "source": [
    "test_demo(a=34)"
   ]
  },
  {
   "cell_type": "markdown",
   "metadata": {
    "id": "H1lWxV7JP-tB"
   },
   "source": [
    "###### Lambda"
   ]
  },
  {
   "cell_type": "code",
   "execution_count": null,
   "metadata": {
    "id": "gEfDXbvYH0li"
   },
   "outputs": [],
   "source": [
    "s = lambda a,b: a+b"
   ]
  },
  {
   "cell_type": "code",
   "execution_count": null,
   "metadata": {
    "colab": {
     "base_uri": "https://localhost:8080/"
    },
    "executionInfo": {
     "elapsed": 5,
     "status": "ok",
     "timestamp": 1657257224960,
     "user": {
      "displayName": "Raghav AK",
      "userId": "00754895325531397942"
     },
     "user_tz": 240
    },
    "id": "cPowEHmVOfZZ",
    "outputId": "6ad19a6e-844a-4777-ed31-7660e028b0b0"
   },
   "outputs": [
    {
     "data": {
      "text/plain": [
       "3"
      ]
     },
     "execution_count": 38,
     "metadata": {},
     "output_type": "execute_result"
    }
   ],
   "source": [
    "s(1,2)"
   ]
  },
  {
   "cell_type": "code",
   "execution_count": null,
   "metadata": {
    "id": "PPIZXYwMOg22"
   },
   "outputs": [],
   "source": [
    "# lambda are anonymous functions with no name"
   ]
  },
  {
   "cell_type": "code",
   "execution_count": null,
   "metadata": {
    "id": "65Jx0aq4Ot32"
   },
   "outputs": [],
   "source": [
    "c = lambda *args : args"
   ]
  },
  {
   "cell_type": "code",
   "execution_count": null,
   "metadata": {
    "colab": {
     "base_uri": "https://localhost:8080/"
    },
    "executionInfo": {
     "elapsed": 6,
     "status": "ok",
     "timestamp": 1657257630111,
     "user": {
      "displayName": "Raghav AK",
      "userId": "00754895325531397942"
     },
     "user_tz": 240
    },
    "id": "LwxKwmVvPt2X",
    "outputId": "f8d6def3-7200-4948-9f6a-d522f7283d83"
   },
   "outputs": [
    {
     "data": {
      "text/plain": [
       "(1, 2, 3, 4)"
      ]
     },
     "execution_count": 43,
     "metadata": {},
     "output_type": "execute_result"
    }
   ],
   "source": [
    "c(1,2,3,4)"
   ]
  },
  {
   "cell_type": "code",
   "execution_count": null,
   "metadata": {
    "id": "MmiuT2iGQJIh"
   },
   "outputs": [],
   "source": [
    "# For loop in lambda function"
   ]
  },
  {
   "cell_type": "code",
   "execution_count": null,
   "metadata": {
    "id": "qntGi4OuRVJC"
   },
   "outputs": [],
   "source": [
    "c = lambda *args : [i**2  for i in args]"
   ]
  },
  {
   "cell_type": "code",
   "execution_count": null,
   "metadata": {
    "colab": {
     "base_uri": "https://localhost:8080/"
    },
    "executionInfo": {
     "elapsed": 5,
     "status": "ok",
     "timestamp": 1657258285918,
     "user": {
      "displayName": "Raghav AK",
      "userId": "00754895325531397942"
     },
     "user_tz": 240
    },
    "id": "f0ZWLfsXRu1b",
    "outputId": "c1b0298a-c832-4a99-9e43-4c7b6fb0aace"
   },
   "outputs": [
    {
     "data": {
      "text/plain": [
       "[1, 4, 9, 16, 25]"
      ]
     },
     "execution_count": 59,
     "metadata": {},
     "output_type": "execute_result"
    }
   ],
   "source": [
    "c(1,2,3,4,5)"
   ]
  },
  {
   "cell_type": "markdown",
   "metadata": {
    "id": "5SysJr_vUDAE"
   },
   "source": [
    "###### List Comprehension"
   ]
  },
  {
   "cell_type": "code",
   "execution_count": null,
   "metadata": {
    "colab": {
     "base_uri": "https://localhost:8080/"
    },
    "executionInfo": {
     "elapsed": 4,
     "status": "ok",
     "timestamp": 1657258671390,
     "user": {
      "displayName": "Raghav AK",
      "userId": "00754895325531397942"
     },
     "user_tz": 240
    },
    "id": "KblSTKCDSZEV",
    "outputId": "6219542e-68c1-4829-d99c-1796b68c3cc7"
   },
   "outputs": [
    {
     "data": {
      "text/plain": [
       "[0, 1, 2, 3, 4, 5, 6, 7, 8, 9]"
      ]
     },
     "execution_count": 60,
     "metadata": {},
     "output_type": "execute_result"
    }
   ],
   "source": [
    "[i for i in range(10)] "
   ]
  },
  {
   "cell_type": "code",
   "execution_count": null,
   "metadata": {
    "id": "ju1QyrGeUHjO"
   },
   "outputs": [],
   "source": [
    "c = lambda n:[i for i in range(n)]"
   ]
  },
  {
   "cell_type": "code",
   "execution_count": null,
   "metadata": {
    "colab": {
     "base_uri": "https://localhost:8080/"
    },
    "executionInfo": {
     "elapsed": 4,
     "status": "ok",
     "timestamp": 1657258751780,
     "user": {
      "displayName": "Raghav AK",
      "userId": "00754895325531397942"
     },
     "user_tz": 240
    },
    "id": "d1ozZ17oUaKu",
    "outputId": "968366d8-7cfe-4dc6-a265-6e89eb384d34"
   },
   "outputs": [
    {
     "data": {
      "text/plain": [
       "[0, 1, 2, 3, 4]"
      ]
     },
     "execution_count": 62,
     "metadata": {},
     "output_type": "execute_result"
    }
   ],
   "source": [
    "c(5)"
   ]
  },
  {
   "cell_type": "markdown",
   "metadata": {
    "id": "M9wRLUgdWx1s"
   },
   "source": [
    "###### Zip"
   ]
  },
  {
   "cell_type": "code",
   "execution_count": null,
   "metadata": {
    "id": "LF708MkHWzs4"
   },
   "outputs": [],
   "source": [
    "a = ['A','B','C']\n",
    "b = [1,2,3]"
   ]
  },
  {
   "cell_type": "code",
   "execution_count": null,
   "metadata": {
    "colab": {
     "base_uri": "https://localhost:8080/"
    },
    "executionInfo": {
     "elapsed": 6,
     "status": "ok",
     "timestamp": 1657259402477,
     "user": {
      "displayName": "Raghav AK",
      "userId": "00754895325531397942"
     },
     "user_tz": 240
    },
    "id": "SygCgLPUUbL1",
    "outputId": "c9ada06b-90d4-4f31-f648-445bc7428b10"
   },
   "outputs": [
    {
     "name": "stdout",
     "output_type": "stream",
     "text": [
      "('A', 1)\n",
      "('B', 2)\n",
      "('C', 3)\n"
     ]
    }
   ],
   "source": [
    "for i in zip(a,b):\n",
    "  print(i)"
   ]
  },
  {
   "cell_type": "markdown",
   "metadata": {
    "id": "2J3oW42fZMa_"
   },
   "source": [
    "# 5th June Function"
   ]
  },
  {
   "cell_type": "markdown",
   "metadata": {
    "id": "_Sca4iTlMzfJ"
   },
   "source": [
    "###### Arguments"
   ]
  },
  {
   "cell_type": "code",
   "execution_count": null,
   "metadata": {
    "id": "A6FkkRBvZUDE"
   },
   "outputs": [],
   "source": [
    "# Function creation with arguments\n",
    "\n",
    "def test_demo(a,b):\n",
    "  return a+b"
   ]
  },
  {
   "cell_type": "code",
   "execution_count": null,
   "metadata": {
    "colab": {
     "base_uri": "https://localhost:8080/"
    },
    "executionInfo": {
     "elapsed": 7,
     "status": "ok",
     "timestamp": 1657289784889,
     "user": {
      "displayName": "Raghav AK",
      "userId": "00754895325531397942"
     },
     "user_tz": 240
    },
    "id": "1TG1VI6oKC4Z",
    "outputId": "1183dd3c-5f3f-4df6-dfb7-a174cef85f52"
   },
   "outputs": [
    {
     "data": {
      "text/plain": [
       "90"
      ]
     },
     "execution_count": 2,
     "metadata": {},
     "output_type": "execute_result"
    }
   ],
   "source": [
    "test_demo(45,45)"
   ]
  },
  {
   "cell_type": "code",
   "execution_count": null,
   "metadata": {
    "id": "sg8XV2QFKC7N"
   },
   "outputs": [],
   "source": [
    "# in some cases, instead of providing a variable, we might need to pass series or sequence\n",
    "\n",
    "def test_series(*args):\n",
    "  return args"
   ]
  },
  {
   "cell_type": "code",
   "execution_count": null,
   "metadata": {
    "colab": {
     "base_uri": "https://localhost:8080/"
    },
    "executionInfo": {
     "elapsed": 11,
     "status": "ok",
     "timestamp": 1657289881851,
     "user": {
      "displayName": "Raghav AK",
      "userId": "00754895325531397942"
     },
     "user_tz": 240
    },
    "id": "YsZj1wX2KC97",
    "outputId": "fb38eabd-a7ad-489d-f45f-8b41673b960f"
   },
   "outputs": [
    {
     "data": {
      "text/plain": [
       "()"
      ]
     },
     "execution_count": 4,
     "metadata": {},
     "output_type": "execute_result"
    }
   ],
   "source": [
    "test_series()"
   ]
  },
  {
   "cell_type": "code",
   "execution_count": null,
   "metadata": {
    "colab": {
     "base_uri": "https://localhost:8080/"
    },
    "executionInfo": {
     "elapsed": 8,
     "status": "ok",
     "timestamp": 1657289948330,
     "user": {
      "displayName": "Raghav AK",
      "userId": "00754895325531397942"
     },
     "user_tz": 240
    },
    "id": "euDInuQHKDAg",
    "outputId": "f795dd35-fc8c-4b9f-89f4-8969f431d00a"
   },
   "outputs": [
    {
     "data": {
      "text/plain": [
       "(34, 12, 23)"
      ]
     },
     "execution_count": 5,
     "metadata": {},
     "output_type": "execute_result"
    }
   ],
   "source": [
    "test_series(34,12,23)"
   ]
  },
  {
   "cell_type": "code",
   "execution_count": null,
   "metadata": {
    "colab": {
     "base_uri": "https://localhost:8080/"
    },
    "executionInfo": {
     "elapsed": 6,
     "status": "ok",
     "timestamp": 1657289968936,
     "user": {
      "displayName": "Raghav AK",
      "userId": "00754895325531397942"
     },
     "user_tz": 240
    },
    "id": "AxIWWIw965IH",
    "outputId": "ee914057-8301-4091-93c4-bfb27555cd0c"
   },
   "outputs": [
    {
     "data": {
      "text/plain": [
       "([1, 2, 3, 4], 12, 'TEST')"
      ]
     },
     "execution_count": 6,
     "metadata": {},
     "output_type": "execute_result"
    }
   ],
   "source": [
    "test_series([1,2,3,4],12,'TEST')"
   ]
  },
  {
   "cell_type": "code",
   "execution_count": null,
   "metadata": {
    "id": "wuYBS7DZLgVd"
   },
   "outputs": [],
   "source": [
    "# we are able to pass multiple arguments (*args) when we are trying to pass a function and stores output to tuples\n",
    "# we can also parse and do any kind of operation"
   ]
  },
  {
   "cell_type": "code",
   "execution_count": null,
   "metadata": {
    "id": "6kqQIUA3LwOo"
   },
   "outputs": [],
   "source": [
    "def test_demo_2(*akr):\n",
    "  return akr"
   ]
  },
  {
   "cell_type": "code",
   "execution_count": null,
   "metadata": {
    "colab": {
     "base_uri": "https://localhost:8080/"
    },
    "executionInfo": {
     "elapsed": 8,
     "status": "ok",
     "timestamp": 1657290077254,
     "user": {
      "displayName": "Raghav AK",
      "userId": "00754895325531397942"
     },
     "user_tz": 240
    },
    "id": "dLUCwIjJL2r6",
    "outputId": "9bac346d-1444-4f68-da89-1abe826ce89b"
   },
   "outputs": [
    {
     "data": {
      "text/plain": [
       "(12, 23, 34, 45)"
      ]
     },
     "execution_count": 9,
     "metadata": {},
     "output_type": "execute_result"
    }
   ],
   "source": [
    "test_demo_2(12,23,34,45)"
   ]
  },
  {
   "cell_type": "code",
   "execution_count": null,
   "metadata": {
    "id": "j86UfZXkL63C"
   },
   "outputs": [],
   "source": [
    "def test_demo_2(*akr):\n",
    "  for i in akr:\n",
    "    print(i)"
   ]
  },
  {
   "cell_type": "code",
   "execution_count": null,
   "metadata": {
    "colab": {
     "base_uri": "https://localhost:8080/"
    },
    "executionInfo": {
     "elapsed": 10,
     "status": "ok",
     "timestamp": 1657290169965,
     "user": {
      "displayName": "Raghav AK",
      "userId": "00754895325531397942"
     },
     "user_tz": 240
    },
    "id": "E1N0TXM1MO_W",
    "outputId": "5dd45f4a-d1e0-49c2-9567-bed44974ae52"
   },
   "outputs": [
    {
     "name": "stdout",
     "output_type": "stream",
     "text": [
      "12\n",
      "23\n",
      "34\n",
      "45\n"
     ]
    }
   ],
   "source": [
    "test_demo_2(12,23,34,45)"
   ]
  },
  {
   "cell_type": "markdown",
   "metadata": {
    "id": "YByI_6U0M397"
   },
   "source": [
    "###### Keyword Arguments"
   ]
  },
  {
   "cell_type": "code",
   "execution_count": null,
   "metadata": {
    "id": "Zu5_IbOhMRm8"
   },
   "outputs": [],
   "source": [
    "# when we pass the data in terms key values pairs in multiple variables"
   ]
  },
  {
   "cell_type": "code",
   "execution_count": null,
   "metadata": {
    "id": "hJn9gjQkZSKg"
   },
   "outputs": [],
   "source": [
    "def test_demo(**kwargs):\n",
    "  return kwargs"
   ]
  },
  {
   "cell_type": "code",
   "execution_count": null,
   "metadata": {
    "colab": {
     "base_uri": "https://localhost:8080/"
    },
    "executionInfo": {
     "elapsed": 10,
     "status": "ok",
     "timestamp": 1657293615092,
     "user": {
      "displayName": "Raghav AK",
      "userId": "00754895325531397942"
     },
     "user_tz": 240
    },
    "id": "PiL8Xq0-ZXQO",
    "outputId": "4e798a0d-939a-485d-88a6-ed761fd215d7"
   },
   "outputs": [
    {
     "data": {
      "text/plain": [
       "{'a': 5}"
      ]
     },
     "execution_count": 14,
     "metadata": {},
     "output_type": "execute_result"
    }
   ],
   "source": [
    "test_demo(a=5)"
   ]
  },
  {
   "cell_type": "code",
   "execution_count": null,
   "metadata": {
    "id": "ETCtUktLZao8"
   },
   "outputs": [],
   "source": [
    "def test(**kwargs):\n",
    "  return kwargs.values()"
   ]
  },
  {
   "cell_type": "code",
   "execution_count": null,
   "metadata": {
    "colab": {
     "base_uri": "https://localhost:8080/"
    },
    "executionInfo": {
     "elapsed": 8,
     "status": "ok",
     "timestamp": 1657295962268,
     "user": {
      "displayName": "Raghav AK",
      "userId": "00754895325531397942"
     },
     "user_tz": 240
    },
    "id": "9WrqDQm1iKsf",
    "outputId": "c1d2d953-bb37-4877-ee8b-45e4531e289d"
   },
   "outputs": [
    {
     "data": {
      "text/plain": [
       "dict_values([5])"
      ]
     },
     "execution_count": 18,
     "metadata": {},
     "output_type": "execute_result"
    }
   ],
   "source": [
    "test(a = 5)"
   ]
  },
  {
   "cell_type": "code",
   "execution_count": null,
   "metadata": {
    "id": "e2qVwJf6iMUK"
   },
   "outputs": [],
   "source": [
    "l = [12,23,34,45,56,67,78]"
   ]
  },
  {
   "cell_type": "code",
   "execution_count": null,
   "metadata": {
    "id": "E_HL0n1BsVdx"
   },
   "outputs": [],
   "source": [
    "output = []"
   ]
  },
  {
   "cell_type": "code",
   "execution_count": null,
   "metadata": {
    "colab": {
     "base_uri": "https://localhost:8080/"
    },
    "executionInfo": {
     "elapsed": 474,
     "status": "ok",
     "timestamp": 1657305528604,
     "user": {
      "displayName": "Raghav AK",
      "userId": "00754895325531397942"
     },
     "user_tz": 240
    },
    "id": "V8Ou58gTsaON",
    "outputId": "1fba5974-9636-43a0-fd93-0016746721b5"
   },
   "outputs": [
    {
     "data": {
      "text/plain": [
       "[14, 25, 36, 47, 58]"
      ]
     },
     "execution_count": 21,
     "metadata": {},
     "output_type": "execute_result"
    }
   ],
   "source": [
    "[i+2 for i in [12,23,34,45,56]]"
   ]
  },
  {
   "cell_type": "markdown",
   "metadata": {
    "id": "QZXWbul4G56E"
   },
   "source": [
    "###### Map"
   ]
  },
  {
   "cell_type": "code",
   "execution_count": null,
   "metadata": {
    "id": "gf765xrGHWeD"
   },
   "outputs": [],
   "source": [
    "def add_num(n):\n",
    "  return n+2"
   ]
  },
  {
   "cell_type": "code",
   "execution_count": null,
   "metadata": {
    "colab": {
     "base_uri": "https://localhost:8080/"
    },
    "executionInfo": {
     "elapsed": 679,
     "status": "ok",
     "timestamp": 1657305731956,
     "user": {
      "displayName": "Raghav AK",
      "userId": "00754895325531397942"
     },
     "user_tz": 240
    },
    "id": "04s7odfsG3OG",
    "outputId": "4e9a146f-edf4-408f-dc65-c1786d9224cc"
   },
   "outputs": [
    {
     "data": {
      "text/plain": [
       "[14, 25, 36, 47, 58]"
      ]
     },
     "execution_count": 28,
     "metadata": {},
     "output_type": "execute_result"
    }
   ],
   "source": [
    "list(map(add_num,[12,23,34,45,56]))"
   ]
  },
  {
   "cell_type": "code",
   "execution_count": null,
   "metadata": {
    "colab": {
     "base_uri": "https://localhost:8080/"
    },
    "executionInfo": {
     "elapsed": 537,
     "status": "ok",
     "timestamp": 1657305769546,
     "user": {
      "displayName": "Raghav AK",
      "userId": "00754895325531397942"
     },
     "user_tz": 240
    },
    "id": "kjQi-k8SHERq",
    "outputId": "6dccf1fe-b1ee-4294-c045-838af1e21543"
   },
   "outputs": [
    {
     "data": {
      "text/plain": [
       "[14, 25, 36, 47, 58]"
      ]
     },
     "execution_count": 30,
     "metadata": {},
     "output_type": "execute_result"
    }
   ],
   "source": [
    "list(map(lambda a:a +2 ,[12,23,34,45,56]))"
   ]
  },
  {
   "cell_type": "code",
   "execution_count": null,
   "metadata": {
    "id": "liJuhuoEHstN"
   },
   "outputs": [],
   "source": [
    "l = [2,3,4,'test',6,'demo']\n",
    "\n",
    "# try to write a map function which will convert all the data inside a list to str format\n",
    "\n",
    "# use map to all data, if int then add data +2 and if if string then append or concat + ok"
   ]
  },
  {
   "cell_type": "code",
   "execution_count": null,
   "metadata": {
    "colab": {
     "base_uri": "https://localhost:8080/"
    },
    "executionInfo": {
     "elapsed": 631,
     "status": "ok",
     "timestamp": 1657305996765,
     "user": {
      "displayName": "Raghav AK",
      "userId": "00754895325531397942"
     },
     "user_tz": 240
    },
    "id": "Nd-rT0FmH07H",
    "outputId": "48f7ae5a-f480-4cc7-82a9-974c9316a7d9"
   },
   "outputs": [
    {
     "data": {
      "text/plain": [
       "['2', '3', '4', 'test', '6', 'demo']"
      ]
     },
     "execution_count": 32,
     "metadata": {},
     "output_type": "execute_result"
    }
   ],
   "source": [
    "list(map(lambda a : str(a),l))"
   ]
  },
  {
   "cell_type": "code",
   "execution_count": null,
   "metadata": {
    "id": "CrO3d40uH1N1"
   },
   "outputs": [],
   "source": [
    "def exercise(i):\n",
    "    if type(i) == int:\n",
    "      return i + 2\n",
    "    elif type(i) == str:\n",
    "      return i +'OK'"
   ]
  },
  {
   "cell_type": "code",
   "execution_count": null,
   "metadata": {
    "colab": {
     "base_uri": "https://localhost:8080/"
    },
    "executionInfo": {
     "elapsed": 5,
     "status": "ok",
     "timestamp": 1657306696896,
     "user": {
      "displayName": "Raghav AK",
      "userId": "00754895325531397942"
     },
     "user_tz": 240
    },
    "id": "kV_yLBc0H1ZI",
    "outputId": "8045c7d5-ec1a-47f2-c9ce-ed83c6f5b047"
   },
   "outputs": [
    {
     "data": {
      "text/plain": [
       "[4, 5, 6, 'testOK', 8, 'demoOK']"
      ]
     },
     "execution_count": 53,
     "metadata": {},
     "output_type": "execute_result"
    }
   ],
   "source": [
    "list(map(exercise,l))"
   ]
  },
  {
   "cell_type": "code",
   "execution_count": null,
   "metadata": {
    "colab": {
     "base_uri": "https://localhost:8080/"
    },
    "executionInfo": {
     "elapsed": 470,
     "status": "ok",
     "timestamp": 1657306941222,
     "user": {
      "displayName": "Raghav AK",
      "userId": "00754895325531397942"
     },
     "user_tz": 240
    },
    "id": "pEhWaYNuKhrJ",
    "outputId": "e513d4e6-4f69-4353-d95d-9ba604decd1e"
   },
   "outputs": [
    {
     "data": {
      "text/plain": [
       "[4, 5, 6, 'testOK', 8, 'demoOK']"
      ]
     },
     "execution_count": 55,
     "metadata": {},
     "output_type": "execute_result"
    }
   ],
   "source": [
    "list(map(lambda a:a+'OK' if type(a) == str else a+2,l))"
   ]
  },
  {
   "cell_type": "markdown",
   "metadata": {
    "id": "qo-ncjlAM6nO"
   },
   "source": [
    "###### Reduce"
   ]
  },
  {
   "cell_type": "code",
   "execution_count": null,
   "metadata": {
    "id": "1h1Pzc-uKjiE"
   },
   "outputs": [],
   "source": [
    "l = [12,23,34,45,56,67,78]"
   ]
  },
  {
   "cell_type": "code",
   "execution_count": null,
   "metadata": {
    "colab": {
     "base_uri": "https://localhost:8080/"
    },
    "executionInfo": {
     "elapsed": 442,
     "status": "ok",
     "timestamp": 1657307225129,
     "user": {
      "displayName": "Raghav AK",
      "userId": "00754895325531397942"
     },
     "user_tz": 240
    },
    "id": "eDblfpYqNC00",
    "outputId": "ed930caf-eef5-476e-deec-bdb7d13b87b7"
   },
   "outputs": [
    {
     "name": "stdout",
     "output_type": "stream",
     "text": [
      "315\n"
     ]
    }
   ],
   "source": [
    "a = 0\n",
    "for i in l:\n",
    "  a = a +i\n",
    "print(a)"
   ]
  },
  {
   "cell_type": "code",
   "execution_count": null,
   "metadata": {
    "id": "KmUtAt4GNEcD"
   },
   "outputs": [],
   "source": [
    "import functools"
   ]
  },
  {
   "cell_type": "code",
   "execution_count": null,
   "metadata": {
    "colab": {
     "base_uri": "https://localhost:8080/"
    },
    "executionInfo": {
     "elapsed": 441,
     "status": "ok",
     "timestamp": 1657307312508,
     "user": {
      "displayName": "Raghav AK",
      "userId": "00754895325531397942"
     },
     "user_tz": 240
    },
    "id": "maYEGHd6Nbth",
    "outputId": "96571370-3469-492a-e00e-d2836adae1d0"
   },
   "outputs": [
    {
     "data": {
      "text/plain": [
       "315"
      ]
     },
     "execution_count": 64,
     "metadata": {},
     "output_type": "execute_result"
    }
   ],
   "source": [
    "functools.reduce(lambda  c,b: c+b,l)"
   ]
  },
  {
   "cell_type": "code",
   "execution_count": null,
   "metadata": {
    "id": "0sAIU_4vNmxU"
   },
   "outputs": [],
   "source": [
    "# Reuce works on commulative operations\n",
    "# returns one value"
   ]
  },
  {
   "cell_type": "code",
   "execution_count": null,
   "metadata": {
    "colab": {
     "base_uri": "https://localhost:8080/"
    },
    "executionInfo": {
     "elapsed": 442,
     "status": "ok",
     "timestamp": 1657307463071,
     "user": {
      "displayName": "Raghav AK",
      "userId": "00754895325531397942"
     },
     "user_tz": 240
    },
    "id": "wJcPlBoAOAI4",
    "outputId": "5da7d09f-3ed2-40f9-9f7d-5444fa4c8b0a"
   },
   "outputs": [
    {
     "data": {
      "text/plain": [
       "1047"
      ]
     },
     "execution_count": 66,
     "metadata": {},
     "output_type": "execute_result"
    }
   ],
   "source": [
    "functools.reduce(lambda  c,b: c+b,[34,56,56,778,89,34])"
   ]
  },
  {
   "cell_type": "code",
   "execution_count": null,
   "metadata": {
    "colab": {
     "base_uri": "https://localhost:8080/"
    },
    "executionInfo": {
     "elapsed": 459,
     "status": "ok",
     "timestamp": 1657307749030,
     "user": {
      "displayName": "Raghav AK",
      "userId": "00754895325531397942"
     },
     "user_tz": 240
    },
    "id": "HoTVg_vLPNMx",
    "outputId": "dadcee46-7963-422a-8dce-a3318b30af6d"
   },
   "outputs": [
    {
     "data": {
      "text/plain": [
       "89"
      ]
     },
     "execution_count": 67,
     "metadata": {},
     "output_type": "execute_result"
    }
   ],
   "source": [
    "functools.reduce(lambda  c,b: c if c>b else b,[4,5,6,7,7,89,9])"
   ]
  },
  {
   "cell_type": "markdown",
   "metadata": {
    "id": "bL2hexcOOtgQ"
   },
   "source": [
    "###### Filter"
   ]
  },
  {
   "cell_type": "code",
   "execution_count": null,
   "metadata": {
    "id": "i1gW9eWLOvI-"
   },
   "outputs": [],
   "source": [
    "l = [4,5,6,7,8,9]"
   ]
  },
  {
   "cell_type": "code",
   "execution_count": null,
   "metadata": {
    "colab": {
     "base_uri": "https://localhost:8080/"
    },
    "executionInfo": {
     "elapsed": 514,
     "status": "ok",
     "timestamp": 1657310082098,
     "user": {
      "displayName": "Raghav AK",
      "userId": "00754895325531397942"
     },
     "user_tz": 240
    },
    "id": "nLvMWcplXjm_",
    "outputId": "b5b904ef-bf68-4241-9fb4-7a1d44b9c3f7"
   },
   "outputs": [
    {
     "data": {
      "text/plain": [
       "[4, 5, 6, 7, 8, 9]"
      ]
     },
     "execution_count": 76,
     "metadata": {},
     "output_type": "execute_result"
    }
   ],
   "source": [
    "list(filter(lambda a:a if type(a) == str else 'OK',l))"
   ]
  },
  {
   "cell_type": "code",
   "execution_count": null,
   "metadata": {
    "colab": {
     "base_uri": "https://localhost:8080/"
    },
    "executionInfo": {
     "elapsed": 582,
     "status": "ok",
     "timestamp": 1657310345448,
     "user": {
      "displayName": "Raghav AK",
      "userId": "00754895325531397942"
     },
     "user_tz": 240
    },
    "id": "QK453048XsPs",
    "outputId": "806062b0-edce-4e66-bc9f-ac53dc9f8901"
   },
   "outputs": [
    {
     "data": {
      "text/plain": [
       "[7, 8, 9]"
      ]
     },
     "execution_count": 80,
     "metadata": {},
     "output_type": "execute_result"
    }
   ],
   "source": [
    "list(filter(lambda a:a if a > 6 else False,l))"
   ]
  },
  {
   "cell_type": "code",
   "execution_count": null,
   "metadata": {
    "id": "OAhc5SmoY2hk"
   },
   "outputs": [],
   "source": [
    "# Filter is just trying to check a true condition and returns the value where ever it is true"
   ]
  },
  {
   "cell_type": "code",
   "execution_count": null,
   "metadata": {
    "id": "hU65Ki-taz3F"
   },
   "outputs": [],
   "source": [
    "## Task\n",
    "\n",
    "# Take a list [1,2,3,5,8,1,'test','demo'], we have to reduce function to perform concat operation of all the data available in the list\n",
    "# Filter all the string starting with character t"
   ]
  },
  {
   "cell_type": "code",
   "execution_count": 24,
   "metadata": {
    "executionInfo": {
     "elapsed": 4,
     "status": "ok",
     "timestamp": 1657338507989,
     "user": {
      "displayName": "Raghav AK",
      "userId": "00754895325531397942"
     },
     "user_tz": 240
    },
    "id": "j-WLTqLJaz6n"
   },
   "outputs": [],
   "source": [
    "lst = [1,2,3,5,8,1,'test','demo','tangle']"
   ]
  },
  {
   "cell_type": "code",
   "execution_count": 25,
   "metadata": {
    "executionInfo": {
     "elapsed": 2,
     "status": "ok",
     "timestamp": 1657338508787,
     "user": {
      "displayName": "Raghav AK",
      "userId": "00754895325531397942"
     },
     "user_tz": 240
    },
    "id": "SKfdA-PDDXGo"
   },
   "outputs": [],
   "source": [
    "from functools import reduce"
   ]
  },
  {
   "cell_type": "code",
   "execution_count": 26,
   "metadata": {
    "colab": {
     "base_uri": "https://localhost:8080/"
    },
    "executionInfo": {
     "elapsed": 3,
     "status": "ok",
     "timestamp": 1657338510039,
     "user": {
      "displayName": "Raghav AK",
      "userId": "00754895325531397942"
     },
     "user_tz": 240
    },
    "id": "-GSo6bF1az9o",
    "outputId": "60faa24c-90dd-4650-eb68-d917775119f1"
   },
   "outputs": [
    {
     "name": "stdout",
     "output_type": "stream",
     "text": [
      "123581testdemotangle\n"
     ]
    }
   ],
   "source": [
    "print(reduce(lambda a,b:str(a) + str(b),lst))"
   ]
  },
  {
   "cell_type": "code",
   "execution_count": 27,
   "metadata": {
    "executionInfo": {
     "elapsed": 2,
     "status": "ok",
     "timestamp": 1657338510718,
     "user": {
      "displayName": "Raghav AK",
      "userId": "00754895325531397942"
     },
     "user_tz": 240
    },
    "id": "YSfOmSTqa0Aq"
   },
   "outputs": [],
   "source": [
    "def filter_word(t):\n",
    "  if type(t) == str:\n",
    "    if t[0] == 't':\n",
    "      return t"
   ]
  },
  {
   "cell_type": "code",
   "execution_count": 28,
   "metadata": {
    "colab": {
     "base_uri": "https://localhost:8080/"
    },
    "executionInfo": {
     "elapsed": 4,
     "status": "ok",
     "timestamp": 1657338511140,
     "user": {
      "displayName": "Raghav AK",
      "userId": "00754895325531397942"
     },
     "user_tz": 240
    },
    "id": "30vUWvs1CS4S",
    "outputId": "f452c064-9bc5-4d27-8cf7-159de7d88f69"
   },
   "outputs": [
    {
     "data": {
      "text/plain": [
       "['test', 'tangle']"
      ]
     },
     "execution_count": 28,
     "metadata": {},
     "output_type": "execute_result"
    }
   ],
   "source": [
    "list(filter(filter_word,lst))"
   ]
  },
  {
   "cell_type": "code",
   "execution_count": 32,
   "metadata": {
    "colab": {
     "base_uri": "https://localhost:8080/"
    },
    "executionInfo": {
     "elapsed": 5,
     "status": "ok",
     "timestamp": 1657339091094,
     "user": {
      "displayName": "Raghav AK",
      "userId": "00754895325531397942"
     },
     "user_tz": 240
    },
    "id": "rQxJvxAwCS7T",
    "outputId": "7e7d1af5-e62e-4ff8-d450-a2d2c4de4066"
   },
   "outputs": [
    {
     "data": {
      "text/plain": [
       "[]"
      ]
     },
     "execution_count": 32,
     "metadata": {},
     "output_type": "execute_result"
    }
   ],
   "source": [
    "list(filter(lambda a : True if type(a) == str and a.startswith('s') else False,lst))"
   ]
  },
  {
   "cell_type": "markdown",
   "metadata": {
    "id": "cvNnRQHkarqr"
   },
   "source": [
    "# 6th June Exception Handling"
   ]
  },
  {
   "cell_type": "code",
   "execution_count": 2,
   "metadata": {
    "executionInfo": {
     "elapsed": 5,
     "status": "ok",
     "timestamp": 1657360897786,
     "user": {
      "displayName": "Raghav AK",
      "userId": "00754895325531397942"
     },
     "user_tz": 240
    },
    "id": "nmZK5iEWayMx"
   },
   "outputs": [],
   "source": [
    "a = 10 "
   ]
  },
  {
   "cell_type": "code",
   "execution_count": 4,
   "metadata": {
    "colab": {
     "base_uri": "https://localhost:8080/",
     "height": 183
    },
    "executionInfo": {
     "elapsed": 12,
     "status": "error",
     "timestamp": 1657361494921,
     "user": {
      "displayName": "Raghav AK",
      "userId": "00754895325531397942"
     },
     "user_tz": 240
    },
    "id": "82UH6zIvHKI7",
    "outputId": "5a38774d-d94f-4677-d139-d177d4342e8f"
   },
   "outputs": [
    {
     "ename": "ZeroDivisionError",
     "evalue": "ignored",
     "output_type": "error",
     "traceback": [
      "\u001b[0;31m---------------------------------------------------------------------------\u001b[0m",
      "\u001b[0;31mZeroDivisionError\u001b[0m                         Traceback (most recent call last)",
      "\u001b[0;32m<ipython-input-4-8d49e5ac7e7b>\u001b[0m in \u001b[0;36m<module>\u001b[0;34m()\u001b[0m\n\u001b[0;32m----> 1\u001b[0;31m \u001b[0ma\u001b[0m\u001b[0;34m/\u001b[0m\u001b[0;36m0\u001b[0m\u001b[0;34m\u001b[0m\u001b[0;34m\u001b[0m\u001b[0m\n\u001b[0m\u001b[1;32m      2\u001b[0m \u001b[0mprint\u001b[0m\u001b[0;34m(\u001b[0m\u001b[0;34m'test statement'\u001b[0m\u001b[0;34m)\u001b[0m\u001b[0;34m\u001b[0m\u001b[0;34m\u001b[0m\u001b[0m\n",
      "\u001b[0;31mZeroDivisionError\u001b[0m: division by zero"
     ]
    }
   ],
   "source": [
    "a/0\n",
    "print('test statement')\n",
    "\n",
    "# before of the error, the code will be terminated and will not proceed.\n",
    "# This is where exception handling comes into play"
   ]
  },
  {
   "cell_type": "code",
   "execution_count": null,
   "metadata": {
    "id": "GESO5XOyHKLu"
   },
   "outputs": [],
   "source": [
    "# infinity does not exist in core python \n",
    "# inf exists in libraries such as numpy"
   ]
  },
  {
   "cell_type": "code",
   "execution_count": 6,
   "metadata": {
    "colab": {
     "base_uri": "https://localhost:8080/"
    },
    "executionInfo": {
     "elapsed": 6066,
     "status": "ok",
     "timestamp": 1657361912107,
     "user": {
      "displayName": "Raghav AK",
      "userId": "00754895325531397942"
     },
     "user_tz": 240
    },
    "id": "-JZ4hDVoHKOY",
    "outputId": "2b6b58fc-42b2-4fc7-e0d0-02f142ac75b3"
   },
   "outputs": [
    {
     "name": "stdout",
     "output_type": "stream",
     "text": [
      "Enter input: 45\n"
     ]
    },
    {
     "data": {
      "text/plain": [
       "0.2222222222222222"
      ]
     },
     "execution_count": 6,
     "metadata": {},
     "output_type": "execute_result"
    }
   ],
   "source": [
    "a = 10\n",
    "b = int(input('Enter input: '))\n",
    "\n",
    "a/b"
   ]
  },
  {
   "cell_type": "code",
   "execution_count": 11,
   "metadata": {
    "colab": {
     "base_uri": "https://localhost:8080/"
    },
    "executionInfo": {
     "elapsed": 3027,
     "status": "ok",
     "timestamp": 1657362132507,
     "user": {
      "displayName": "Raghav AK",
      "userId": "00754895325531397942"
     },
     "user_tz": 240
    },
    "id": "WZkUEMw2HKQ6",
    "outputId": "1d88efcf-e96f-4f92-a160-213b66ca80d1"
   },
   "outputs": [
    {
     "name": "stdout",
     "output_type": "stream",
     "text": [
      "Enter the input: 4\n"
     ]
    }
   ],
   "source": [
    "try:\n",
    "  a = 10\n",
    "  b = int(input('Enter the input: '))\n",
    "  c = a/b\n",
    "except:\n",
    "  pass\n",
    "\n",
    "\n",
    "# TRY block will try to observe if there are any errors and control the next block\n",
    "# Whenever we use a try block, we have to use except block as well\n"
   ]
  },
  {
   "cell_type": "code",
   "execution_count": null,
   "metadata": {
    "id": "Z-Al8sTEHKTt"
   },
   "outputs": [],
   "source": [
    "# Get inside try block and executes lines \n",
    "# When we get an error, the control will go to the next block(except)\n",
    "# The lines of code in except block will be executed\n",
    "# Except block is used to catch an exception\n"
   ]
  },
  {
   "cell_type": "code",
   "execution_count": 14,
   "metadata": {
    "colab": {
     "base_uri": "https://localhost:8080/"
    },
    "executionInfo": {
     "elapsed": 3626,
     "status": "ok",
     "timestamp": 1657362463549,
     "user": {
      "displayName": "Raghav AK",
      "userId": "00754895325531397942"
     },
     "user_tz": 240
    },
    "id": "VS2oXBgiHKWp",
    "outputId": "263fde10-b5c7-4165-e805-7c799a17df17"
   },
   "outputs": [
    {
     "name": "stdout",
     "output_type": "stream",
     "text": [
      "Enter the input: asd\n",
      "invalid literal for int() with base 10: 'asd'\n"
     ]
    }
   ],
   "source": [
    "try:\n",
    "  a = 10\n",
    "  b = int(input('Enter the input: '))\n",
    "  c = a/b\n",
    "  print(c)\n",
    "except Exception as e:\n",
    "  print(e)\n",
    "\n",
    "# To capture the exception"
   ]
  },
  {
   "cell_type": "code",
   "execution_count": 15,
   "metadata": {
    "colab": {
     "base_uri": "https://localhost:8080/"
    },
    "executionInfo": {
     "elapsed": 2062,
     "status": "ok",
     "timestamp": 1657362474968,
     "user": {
      "displayName": "Raghav AK",
      "userId": "00754895325531397942"
     },
     "user_tz": 240
    },
    "id": "xeFVbHeGHKZe",
    "outputId": "32c73011-286b-4844-d5e9-a738f614dfcb"
   },
   "outputs": [
    {
     "name": "stdout",
     "output_type": "stream",
     "text": [
      "Enter the input: 0\n",
      "division by zero\n"
     ]
    }
   ],
   "source": [
    "try:\n",
    "  a = 10\n",
    "  b = int(input('Enter the input: '))\n",
    "  c = a/b\n",
    "  print(c)\n",
    "except Exception as e:\n",
    "  print(e)\n"
   ]
  },
  {
   "cell_type": "code",
   "execution_count": 16,
   "metadata": {
    "colab": {
     "base_uri": "https://localhost:8080/"
    },
    "executionInfo": {
     "elapsed": 2931,
     "status": "ok",
     "timestamp": 1657362487957,
     "user": {
      "displayName": "Raghav AK",
      "userId": "00754895325531397942"
     },
     "user_tz": 240
    },
    "id": "EXXJL0P8HKcK",
    "outputId": "e260d64b-784d-4e6a-a48a-a836dafa3ab7"
   },
   "outputs": [
    {
     "name": "stdout",
     "output_type": "stream",
     "text": [
      "Enter the input: 2\n",
      "5.0\n"
     ]
    }
   ],
   "source": [
    "try:\n",
    "  a = 10\n",
    "  b = int(input('Enter the input: '))\n",
    "  c = a/b\n",
    "  print(c)\n",
    "except Exception as e:\n",
    "  print(e)\n"
   ]
  },
  {
   "cell_type": "code",
   "execution_count": 17,
   "metadata": {
    "colab": {
     "base_uri": "https://localhost:8080/"
    },
    "executionInfo": {
     "elapsed": 3285,
     "status": "ok",
     "timestamp": 1657362521264,
     "user": {
      "displayName": "Raghav AK",
      "userId": "00754895325531397942"
     },
     "user_tz": 240
    },
    "id": "5B81qgN6HKfe",
    "outputId": "e640c7c8-6092-4e46-961a-a6f458fb9b51"
   },
   "outputs": [
    {
     "name": "stdout",
     "output_type": "stream",
     "text": [
      "Enter the input: sad\n",
      "There was an issue with the b variable\n",
      "invalid literal for int() with base 10: 'sad'\n"
     ]
    }
   ],
   "source": [
    "try:\n",
    "  a = 10\n",
    "  b = int(input('Enter the input: '))\n",
    "  c = a/b\n",
    "  print(c)\n",
    "except Exception as e:\n",
    "  print('There was an issue with the b variable')\n",
    "  print(e)\n",
    "\n",
    "# To give messages"
   ]
  },
  {
   "cell_type": "code",
   "execution_count": null,
   "metadata": {
    "id": "9sLPfVYjHKiI"
   },
   "outputs": [],
   "source": [
    "try:\n",
    "  a = 10\n",
    "  b = int(input('Enter the input: '))\n",
    "  c = a/b\n",
    "  print(c)\n",
    "except Exception as e:\n",
    "  print('There was an issue with the b variable')\n",
    "  print(e)\n",
    "\n",
    "# in other languages, it is try catch\n",
    "# In python, it is try except"
   ]
  },
  {
   "cell_type": "code",
   "execution_count": 18,
   "metadata": {
    "colab": {
     "base_uri": "https://localhost:8080/"
    },
    "executionInfo": {
     "elapsed": 4106,
     "status": "ok",
     "timestamp": 1657362760132,
     "user": {
      "displayName": "Raghav AK",
      "userId": "00754895325531397942"
     },
     "user_tz": 240
    },
    "id": "-H6Ke_PCgi97",
    "outputId": "e26986e3-2066-497f-8383-ba46b6e1f668"
   },
   "outputs": [
    {
     "name": "stdout",
     "output_type": "stream",
     "text": [
      "Enter the input: sad\n",
      "invalid literal for int() with base 10: 'sad'\n"
     ]
    }
   ],
   "source": [
    "try:\n",
    "  a = input('Enter the input: ')\n",
    "  b = int(a)\n",
    "  print(b)\n",
    "except Exception as e:\n",
    "  print(e)\n",
    "else:\n",
    "  print('This will be executed once try finishes otherwise it will not execute')\n",
    "\n",
    "# Else Block"
   ]
  },
  {
   "cell_type": "code",
   "execution_count": 21,
   "metadata": {
    "colab": {
     "base_uri": "https://localhost:8080/"
    },
    "executionInfo": {
     "elapsed": 4226,
     "status": "ok",
     "timestamp": 1657362851009,
     "user": {
      "displayName": "Raghav AK",
      "userId": "00754895325531397942"
     },
     "user_tz": 240
    },
    "id": "J4Nw3Zo7gjAn",
    "outputId": "99515ef3-39ec-4eda-b50b-549e6f6f9646"
   },
   "outputs": [
    {
     "name": "stdout",
     "output_type": "stream",
     "text": [
      "Enter the input: sad\n",
      "Code will come to except block if there are any errors in TRY BLOCK\n",
      "invalid literal for int() with base 10: 'sad'\n"
     ]
    }
   ],
   "source": [
    "try:\n",
    "  a = input('Enter the input: ')\n",
    "  b = int(a)\n",
    "  print(b)\n",
    "except Exception as e:\n",
    "  print('Code will come to except block if there are any errors in TRY BLOCK')\n",
    "  print(e)\n",
    "else:\n",
    "  print('This will be executed once TRY finishes otherwise it will not execute')\n",
    "\n",
    "# Else Block"
   ]
  },
  {
   "cell_type": "code",
   "execution_count": 22,
   "metadata": {
    "colab": {
     "base_uri": "https://localhost:8080/"
    },
    "executionInfo": {
     "elapsed": 3921,
     "status": "ok",
     "timestamp": 1657362858835,
     "user": {
      "displayName": "Raghav AK",
      "userId": "00754895325531397942"
     },
     "user_tz": 240
    },
    "id": "JAMidwKxgjDj",
    "outputId": "075e39ce-154c-458b-fb4d-55bd20f7270a"
   },
   "outputs": [
    {
     "name": "stdout",
     "output_type": "stream",
     "text": [
      "Enter the input: 2\n",
      "2\n",
      "This will be executed once TRY finishes otherwise it will not execute\n"
     ]
    }
   ],
   "source": [
    "try:\n",
    "  a = input('Enter the input: ')\n",
    "  b = int(a)\n",
    "  print(b)\n",
    "except Exception as e:\n",
    "  print('Code will come to except block if there are any errors in TRY BLOCK')\n",
    "  print(e)\n",
    "else:\n",
    "  print('This will be executed once TRY finishes otherwise it will not execute')\n",
    "\n",
    "# Else Block"
   ]
  },
  {
   "cell_type": "code",
   "execution_count": 23,
   "metadata": {
    "colab": {
     "base_uri": "https://localhost:8080/"
    },
    "executionInfo": {
     "elapsed": 10,
     "status": "ok",
     "timestamp": 1657362858836,
     "user": {
      "displayName": "Raghav AK",
      "userId": "00754895325531397942"
     },
     "user_tz": 240
    },
    "id": "2LcZwt5NgjIM",
    "outputId": "6f2f20d3-627e-4fe2-96bb-330f6d7eb2b1"
   },
   "outputs": [
    {
     "data": {
      "text/plain": [
       "2"
      ]
     },
     "execution_count": 23,
     "metadata": {},
     "output_type": "execute_result"
    }
   ],
   "source": [
    "# Else is not a mandatory block but except is a mandatory block"
   ]
  },
  {
   "cell_type": "code",
   "execution_count": 24,
   "metadata": {
    "colab": {
     "base_uri": "https://localhost:8080/"
    },
    "executionInfo": {
     "elapsed": 4447,
     "status": "ok",
     "timestamp": 1657363225462,
     "user": {
      "displayName": "Raghav AK",
      "userId": "00754895325531397942"
     },
     "user_tz": 240
    },
    "id": "wQ8C6Vx8gjLM",
    "outputId": "62fcc612-1340-4010-b7ca-bfda5b5ab771"
   },
   "outputs": [
    {
     "name": "stdout",
     "output_type": "stream",
     "text": [
      "sad\n",
      "In case of failure, it will come to EXCEPT Block\n",
      "invalid literal for int() with base 10: 'sad'\n",
      "It will execute itself in all situations\n"
     ]
    }
   ],
   "source": [
    "try:\n",
    "  a = int(input())\n",
    "  b = int(input())\n",
    "  c = a+b\n",
    "  print(c)\n",
    "except Exception as e:\n",
    "  print('In case of failure, it will come to EXCEPT Block')\n",
    "  print(e)\n",
    "finally:\n",
    "  print('It will execute itself in all situations')\n",
    "\n",
    "# Finally - will execute itself in all situations"
   ]
  },
  {
   "cell_type": "code",
   "execution_count": null,
   "metadata": {
    "id": "hD33Cl6ngjOx"
   },
   "outputs": [],
   "source": [
    "try:\n",
    "  a = int(input())\n",
    "  b = int(input())\n",
    "  c = a/0\n",
    "except Exception as e:\n",
    "  print('In case of failure, it will come to EXCEPT Block')\n",
    "  print(e)\n",
    "else:\n",
    "  print(c)\n",
    "finally:\n",
    "  print('It will execute itself in all situations')\n",
    "\n",
    "# else and finally are not mandatory"
   ]
  },
  {
   "cell_type": "code",
   "execution_count": null,
   "metadata": {
    "id": "GTSiqvungjRD"
   },
   "outputs": [],
   "source": [
    "# There are so many exceptions which are available\n",
    "# We can define the exceptions we want to handle\n",
    "# Putting Exception is not a good practise"
   ]
  },
  {
   "cell_type": "code",
   "execution_count": 27,
   "metadata": {
    "colab": {
     "base_uri": "https://localhost:8080/"
    },
    "executionInfo": {
     "elapsed": 3433,
     "status": "ok",
     "timestamp": 1657363851226,
     "user": {
      "displayName": "Raghav AK",
      "userId": "00754895325531397942"
     },
     "user_tz": 240
    },
    "id": "hsy_lxNDgjT7",
    "outputId": "22c9c902-6aca-444e-9523-985b09067ce7"
   },
   "outputs": [
    {
     "name": "stdout",
     "output_type": "stream",
     "text": [
      "sad\n",
      "In case of failure, it will come to EXCEPT Block\n",
      "invalid literal for int() with base 10: 'sad'\n",
      "It will execute itself in all situations\n"
     ]
    }
   ],
   "source": [
    "try:\n",
    "  a = int(input())\n",
    "  b = int(input())\n",
    "  c = a/b\n",
    "except ValueError as e:\n",
    "  print('In case of failure, it will come to EXCEPT Block')\n",
    "  print(e)\n",
    "else:\n",
    "  print(c)\n",
    "finally:\n",
    "  print('It will execute itself in all situations')"
   ]
  },
  {
   "cell_type": "code",
   "execution_count": 28,
   "metadata": {
    "colab": {
     "base_uri": "https://localhost:8080/",
     "height": 269
    },
    "executionInfo": {
     "elapsed": 2851,
     "status": "error",
     "timestamp": 1657363896536,
     "user": {
      "displayName": "Raghav AK",
      "userId": "00754895325531397942"
     },
     "user_tz": 240
    },
    "id": "yYywDYSzkx0z",
    "outputId": "f86db31e-02dd-4dc0-d073-3e937c86f013"
   },
   "outputs": [
    {
     "name": "stdout",
     "output_type": "stream",
     "text": [
      "sad\n",
      "It will execute itself in all situations\n"
     ]
    },
    {
     "ename": "ValueError",
     "evalue": "ignored",
     "output_type": "error",
     "traceback": [
      "\u001b[0;31m---------------------------------------------------------------------------\u001b[0m",
      "\u001b[0;31mValueError\u001b[0m                                Traceback (most recent call last)",
      "\u001b[0;32m<ipython-input-28-8e38b7e5ed54>\u001b[0m in \u001b[0;36m<module>\u001b[0;34m()\u001b[0m\n\u001b[1;32m      1\u001b[0m \u001b[0;32mtry\u001b[0m\u001b[0;34m:\u001b[0m\u001b[0;34m\u001b[0m\u001b[0;34m\u001b[0m\u001b[0m\n\u001b[0;32m----> 2\u001b[0;31m   \u001b[0ma\u001b[0m \u001b[0;34m=\u001b[0m \u001b[0mint\u001b[0m\u001b[0;34m(\u001b[0m\u001b[0minput\u001b[0m\u001b[0;34m(\u001b[0m\u001b[0;34m)\u001b[0m\u001b[0;34m)\u001b[0m\u001b[0;34m\u001b[0m\u001b[0;34m\u001b[0m\u001b[0m\n\u001b[0m\u001b[1;32m      3\u001b[0m   \u001b[0mb\u001b[0m \u001b[0;34m=\u001b[0m \u001b[0mint\u001b[0m\u001b[0;34m(\u001b[0m\u001b[0minput\u001b[0m\u001b[0;34m(\u001b[0m\u001b[0;34m)\u001b[0m\u001b[0;34m)\u001b[0m\u001b[0;34m\u001b[0m\u001b[0;34m\u001b[0m\u001b[0m\n\u001b[1;32m      4\u001b[0m   \u001b[0mc\u001b[0m \u001b[0;34m=\u001b[0m \u001b[0ma\u001b[0m\u001b[0;34m/\u001b[0m\u001b[0mb\u001b[0m\u001b[0;34m\u001b[0m\u001b[0;34m\u001b[0m\u001b[0m\n\u001b[1;32m      5\u001b[0m \u001b[0;32mexcept\u001b[0m \u001b[0mArithmeticError\u001b[0m \u001b[0;32mas\u001b[0m \u001b[0me\u001b[0m\u001b[0;34m:\u001b[0m\u001b[0;34m\u001b[0m\u001b[0;34m\u001b[0m\u001b[0m\n",
      "\u001b[0;31mValueError\u001b[0m: invalid literal for int() with base 10: 'sad'"
     ]
    }
   ],
   "source": [
    "try:\n",
    "  a = int(input())\n",
    "  b = int(input())\n",
    "  c = a/b\n",
    "except ArithmeticError as e:\n",
    "  print('In case of failure, it will come to EXCEPT Block')\n",
    "  print(e)\n",
    "else:\n",
    "  print(c)\n",
    "finally:\n",
    "  print('It will execute itself in all situations')"
   ]
  },
  {
   "cell_type": "code",
   "execution_count": 32,
   "metadata": {
    "colab": {
     "base_uri": "https://localhost:8080/"
    },
    "executionInfo": {
     "elapsed": 2065,
     "status": "ok",
     "timestamp": 1657364138222,
     "user": {
      "displayName": "Raghav AK",
      "userId": "00754895325531397942"
     },
     "user_tz": 240
    },
    "id": "g0LVKN47lgg5",
    "outputId": "b7ae4c55-bcf4-4886-f931-c05411624dc6"
   },
   "outputs": [
    {
     "name": "stdout",
     "output_type": "stream",
     "text": [
      "sasd\n",
      "ValueError\n",
      "invalid literal for int() with base 10: 'sasd'\n",
      "It will execute itself in all situations\n"
     ]
    }
   ],
   "source": [
    "# We can have multiple except \n",
    "\n",
    "try:\n",
    "  a = int(input())\n",
    "  b = int(input())\n",
    "  c = a/b\n",
    "except IOError as e:\n",
    "  print('IOError')\n",
    "  print(e)\n",
    "except FileNotFoundError as e:\n",
    "  print('FileNotFoundError')\n",
    "  print(e)\n",
    "except ArithmeticError as e:\n",
    "  print('ArithmeticError')\n",
    "  print(e)\n",
    "except ValueError as e:\n",
    "  print('ValueError')\n",
    "  print(e)\n",
    "except Exception as e:\n",
    "  print('ExceptionError')\n",
    "  print(e)\n",
    "else:\n",
    "  print(c)\n",
    "finally:\n",
    "  print('It will execute itself in all situations')"
   ]
  },
  {
   "cell_type": "code",
   "execution_count": 33,
   "metadata": {
    "colab": {
     "base_uri": "https://localhost:8080/"
    },
    "executionInfo": {
     "elapsed": 3016,
     "status": "ok",
     "timestamp": 1657364278181,
     "user": {
      "displayName": "Raghav AK",
      "userId": "00754895325531397942"
     },
     "user_tz": 240
    },
    "id": "ZPeTqMKAl9kd",
    "outputId": "11fd50f3-a0be-41bc-e2e1-124284f70530"
   },
   "outputs": [
    {
     "name": "stdout",
     "output_type": "stream",
     "text": [
      "sad\n",
      "ExceptionError\n",
      "invalid literal for int() with base 10: 'sad'\n",
      "It will execute itself in all situations\n"
     ]
    }
   ],
   "source": [
    "# We can have multiple EXCEPT Block\n",
    "# If we use the super class Exception at the top, that will handle all the exceptions without going to the next exception block.\n",
    "\n",
    "try:\n",
    "  a = int(input())\n",
    "  b = int(input())\n",
    "  c = a/b\n",
    "except IOError as e:\n",
    "  print('IOError')\n",
    "  print(e)\n",
    "except FileNotFoundError as e:\n",
    "  print('FileNotFoundError')\n",
    "  print(e)\n",
    "except ArithmeticError as e:\n",
    "  print('ArithmeticError')\n",
    "  print(e)\n",
    "except Exception as e:\n",
    "  print('ExceptionError')\n",
    "  print(e)\n",
    "except ValueError as e:\n",
    "  print('ValueError')\n",
    "  print(e)\n",
    "\n",
    "else:\n",
    "  print(c)\n",
    "finally:\n",
    "  print('It will execute itself in all situations')"
   ]
  },
  {
   "cell_type": "code",
   "execution_count": 34,
   "metadata": {
    "executionInfo": {
     "elapsed": 4,
     "status": "ok",
     "timestamp": 1657364449221,
     "user": {
      "displayName": "Raghav AK",
      "userId": "00754895325531397942"
     },
     "user_tz": 240
    },
    "id": "6qNASkP-m9r-"
   },
   "outputs": [],
   "source": [
    "def demo_function():\n",
    "  a = int(input('Enter an integer:'))\n",
    "  return a"
   ]
  },
  {
   "cell_type": "code",
   "execution_count": 36,
   "metadata": {
    "colab": {
     "base_uri": "https://localhost:8080/",
     "height": 269
    },
    "executionInfo": {
     "elapsed": 4078,
     "status": "error",
     "timestamp": 1657364476571,
     "user": {
      "displayName": "Raghav AK",
      "userId": "00754895325531397942"
     },
     "user_tz": 240
    },
    "id": "v-i-VlChnd3V",
    "outputId": "f3778574-6269-4485-bd81-8d64dde3dcbe"
   },
   "outputs": [
    {
     "name": "stdout",
     "output_type": "stream",
     "text": [
      "Enter an integer:\n"
     ]
    },
    {
     "ename": "ValueError",
     "evalue": "ignored",
     "output_type": "error",
     "traceback": [
      "\u001b[0;31m---------------------------------------------------------------------------\u001b[0m",
      "\u001b[0;31mValueError\u001b[0m                                Traceback (most recent call last)",
      "\u001b[0;32m<ipython-input-36-5c2d2e67c44d>\u001b[0m in \u001b[0;36m<module>\u001b[0;34m()\u001b[0m\n\u001b[0;32m----> 1\u001b[0;31m \u001b[0mdemo_function\u001b[0m\u001b[0;34m(\u001b[0m\u001b[0;34m)\u001b[0m\u001b[0;34m\u001b[0m\u001b[0;34m\u001b[0m\u001b[0m\n\u001b[0m",
      "\u001b[0;32m<ipython-input-34-178a348a8911>\u001b[0m in \u001b[0;36mdemo_function\u001b[0;34m()\u001b[0m\n\u001b[1;32m      1\u001b[0m \u001b[0;32mdef\u001b[0m \u001b[0mdemo_function\u001b[0m\u001b[0;34m(\u001b[0m\u001b[0;34m)\u001b[0m\u001b[0;34m:\u001b[0m\u001b[0;34m\u001b[0m\u001b[0;34m\u001b[0m\u001b[0m\n\u001b[0;32m----> 2\u001b[0;31m   \u001b[0ma\u001b[0m \u001b[0;34m=\u001b[0m \u001b[0mint\u001b[0m\u001b[0;34m(\u001b[0m\u001b[0minput\u001b[0m\u001b[0;34m(\u001b[0m\u001b[0;34m'Enter an integer:'\u001b[0m\u001b[0;34m)\u001b[0m\u001b[0;34m)\u001b[0m\u001b[0;34m\u001b[0m\u001b[0;34m\u001b[0m\u001b[0m\n\u001b[0m\u001b[1;32m      3\u001b[0m   \u001b[0;32mreturn\u001b[0m \u001b[0ma\u001b[0m\u001b[0;34m\u001b[0m\u001b[0;34m\u001b[0m\u001b[0m\n",
      "\u001b[0;31mValueError\u001b[0m: invalid literal for int() with base 10: ''"
     ]
    }
   ],
   "source": [
    "demo_function()"
   ]
  },
  {
   "cell_type": "code",
   "execution_count": null,
   "metadata": {
    "id": "Q99JAj4uolID"
   },
   "outputs": [],
   "source": [
    "# We can have nested try except blocks\n",
    "# We cannnot add else block after finally"
   ]
  },
  {
   "cell_type": "code",
   "execution_count": 39,
   "metadata": {
    "colab": {
     "base_uri": "https://localhost:8080/",
     "height": 130
    },
    "executionInfo": {
     "elapsed": 399,
     "status": "error",
     "timestamp": 1657364872873,
     "user": {
      "displayName": "Raghav AK",
      "userId": "00754895325531397942"
     },
     "user_tz": 240
    },
    "id": "ZRdGfM3rnd54",
    "outputId": "6edc9787-f9dc-4b1c-a75f-88cad71af0e3"
   },
   "outputs": [
    {
     "ename": "SyntaxError",
     "evalue": "ignored",
     "output_type": "error",
     "traceback": [
      "\u001b[0;36m  File \u001b[0;32m\"<ipython-input-39-c5e79c474125>\"\u001b[0;36m, line \u001b[0;32m13\u001b[0m\n\u001b[0;31m    else:\u001b[0m\n\u001b[0m       ^\u001b[0m\n\u001b[0;31mSyntaxError\u001b[0m\u001b[0;31m:\u001b[0m invalid syntax\n"
     ]
    }
   ],
   "source": [
    "def demo_function():\n",
    "  try:\n",
    "    a = int(input('Enter an integer:'))\n",
    "    return a\n",
    "  except :\n",
    "    print('Enter the integer again')\n",
    "    try:\n",
    "      a = int(input('Enter an integer:'))\n",
    "    except:\n",
    "      print('Second error made for input')\n",
    "  finally:\n",
    "    print('****Final Execution****')\n",
    "  else:\n",
    "    print('Else Block after finally')"
   ]
  },
  {
   "cell_type": "code",
   "execution_count": 38,
   "metadata": {
    "colab": {
     "base_uri": "https://localhost:8080/"
    },
    "executionInfo": {
     "elapsed": 4767,
     "status": "ok",
     "timestamp": 1657364757649,
     "user": {
      "displayName": "Raghav AK",
      "userId": "00754895325531397942"
     },
     "user_tz": 240
    },
    "id": "yzG0PdUXnd8z",
    "outputId": "827ffa04-9440-4c74-b31b-f7ea2dcb5a94"
   },
   "outputs": [
    {
     "name": "stdout",
     "output_type": "stream",
     "text": [
      "Enter an integer:s\n",
      "Enter the integer again\n",
      "Enter an integer:d\n",
      "Second error made for input\n"
     ]
    }
   ],
   "source": [
    "demo_function()"
   ]
  },
  {
   "cell_type": "code",
   "execution_count": 40,
   "metadata": {
    "executionInfo": {
     "elapsed": 3,
     "status": "ok",
     "timestamp": 1657364906540,
     "user": {
      "displayName": "Raghav AK",
      "userId": "00754895325531397942"
     },
     "user_tz": 240
    },
    "id": "7FS3UYSCpWqx"
   },
   "outputs": [],
   "source": [
    "def demo_function():\n",
    "  try:\n",
    "    a = int(input('Enter an integer:'))\n",
    "    return a\n",
    "  except :\n",
    "    print('Enter the integer again')\n",
    "    try:\n",
    "      a = int(input('Enter an integer:'))\n",
    "    except:\n",
    "      print('Second error made for input')\n",
    "  finally:\n",
    "    print('****Final Execution****')\n"
   ]
  },
  {
   "cell_type": "code",
   "execution_count": 41,
   "metadata": {
    "colab": {
     "base_uri": "https://localhost:8080/"
    },
    "executionInfo": {
     "elapsed": 6316,
     "status": "ok",
     "timestamp": 1657364926823,
     "user": {
      "displayName": "Raghav AK",
      "userId": "00754895325531397942"
     },
     "user_tz": 240
    },
    "id": "YBwYiWWPnd_n",
    "outputId": "9709c414-1b84-4ec1-a2e7-db281dc11f11"
   },
   "outputs": [
    {
     "name": "stdout",
     "output_type": "stream",
     "text": [
      "Enter an integer:s\n",
      "Enter the integer again\n",
      "Enter an integer:s\n",
      "Second error made for input\n",
      "****Final Execution****\n"
     ]
    }
   ],
   "source": [
    "demo_function()"
   ]
  },
  {
   "cell_type": "code",
   "execution_count": 46,
   "metadata": {
    "executionInfo": {
     "elapsed": 4,
     "status": "ok",
     "timestamp": 1657365250487,
     "user": {
      "displayName": "Raghav AK",
      "userId": "00754895325531397942"
     },
     "user_tz": 240
    },
    "id": "R92RE8UuneCS"
   },
   "outputs": [],
   "source": [
    "def integer_input():\n",
    "  while True:\n",
    "    try:\n",
    "      a = int(input('Enter the data: '))\n",
    "    except Exception as e:\n",
    "      print('There is an issue',e)\n",
    "      continue\n",
    "    else:\n",
    "      print('The input is :',a)\n",
    "      break\n",
    "    #finally:\n",
    "      #print('***End of Function***')"
   ]
  },
  {
   "cell_type": "code",
   "execution_count": 47,
   "metadata": {
    "colab": {
     "base_uri": "https://localhost:8080/"
    },
    "executionInfo": {
     "elapsed": 7205,
     "status": "ok",
     "timestamp": 1657365259939,
     "user": {
      "displayName": "Raghav AK",
      "userId": "00754895325531397942"
     },
     "user_tz": 240
    },
    "id": "is3njwDJneFd",
    "outputId": "9d4f3109-2910-4c43-fbad-739b19dce62a"
   },
   "outputs": [
    {
     "name": "stdout",
     "output_type": "stream",
     "text": [
      "Enter the data: d\n",
      "There is an issue invalid literal for int() with base 10: 'd'\n",
      "Enter the data: s\n",
      "There is an issue invalid literal for int() with base 10: 's'\n",
      "Enter the data: 1\n",
      "The input is : 1\n"
     ]
    }
   ],
   "source": [
    "integer_input()"
   ]
  },
  {
   "cell_type": "markdown",
   "metadata": {
    "id": "QiXlFa3mtHf_"
   },
   "source": [
    "###### Creating Own Exceptions"
   ]
  },
  {
   "cell_type": "code",
   "execution_count": 48,
   "metadata": {
    "colab": {
     "base_uri": "https://localhost:8080/"
    },
    "executionInfo": {
     "elapsed": 394,
     "status": "ok",
     "timestamp": 1657365966683,
     "user": {
      "displayName": "Raghav AK",
      "userId": "00754895325531397942"
     },
     "user_tz": 240
    },
    "id": "p6_JpkHvtG_N",
    "outputId": "da1f1cc0-7d7c-43d8-c05f-b1fca0890767"
   },
   "outputs": [
    {
     "data": {
      "text/plain": [
       "2.0"
      ]
     },
     "execution_count": 48,
     "metadata": {},
     "output_type": "execute_result"
    }
   ],
   "source": [
    "a = 10\n",
    "b = 5\n",
    "c = a/b\n",
    "c"
   ]
  },
  {
   "cell_type": "code",
   "execution_count": 49,
   "metadata": {
    "executionInfo": {
     "elapsed": 4,
     "status": "ok",
     "timestamp": 1657365990103,
     "user": {
      "displayName": "Raghav AK",
      "userId": "00754895325531397942"
     },
     "user_tz": 240
    },
    "id": "yvpQmOG1qB1s"
   },
   "outputs": [],
   "source": [
    "# Suppose user should not input 5"
   ]
  },
  {
   "cell_type": "code",
   "execution_count": 50,
   "metadata": {
    "executionInfo": {
     "elapsed": 5,
     "status": "ok",
     "timestamp": 1657366080447,
     "user": {
      "displayName": "Raghav AK",
      "userId": "00754895325531397942"
     },
     "user_tz": 240
    },
    "id": "4Ls08-8ktgP4"
   },
   "outputs": [],
   "source": [
    "FiveDivisionError\n",
    "'Division by five'"
   ]
  },
  {
   "cell_type": "code",
   "execution_count": 69,
   "metadata": {
    "executionInfo": {
     "elapsed": 4,
     "status": "ok",
     "timestamp": 1657366749355,
     "user": {
      "displayName": "Raghav AK",
      "userId": "00754895325531397942"
     },
     "user_tz": 240
    },
    "id": "E_r6WFistwIQ"
   },
   "outputs": [],
   "source": [
    "def custom_exception(a):\n",
    "  if a < 5:\n",
    "    raise Exception('Error - Less by five')\n"
   ]
  },
  {
   "cell_type": "code",
   "execution_count": 70,
   "metadata": {
    "colab": {
     "base_uri": "https://localhost:8080/"
    },
    "executionInfo": {
     "elapsed": 2300,
     "status": "ok",
     "timestamp": 1657366752752,
     "user": {
      "displayName": "Raghav AK",
      "userId": "00754895325531397942"
     },
     "user_tz": 240
    },
    "id": "qHgLHCjHuLLQ",
    "outputId": "39dc33a3-993d-4f83-c01c-c4e7f782e035"
   },
   "outputs": [
    {
     "name": "stdout",
     "output_type": "stream",
     "text": [
      "3\n",
      "Error - Less by five\n"
     ]
    }
   ],
   "source": [
    "try:\n",
    "  a = int(input())\n",
    "  custom_exception(a)\n",
    "  \n",
    "\n",
    "except Exception as e:\n",
    "  print(e) "
   ]
  },
  {
   "cell_type": "code",
   "execution_count": 67,
   "metadata": {
    "colab": {
     "base_uri": "https://localhost:8080/",
     "height": 252
    },
    "executionInfo": {
     "elapsed": 10,
     "status": "error",
     "timestamp": 1657366706425,
     "user": {
      "displayName": "Raghav AK",
      "userId": "00754895325531397942"
     },
     "user_tz": 240
    },
    "id": "FWZkcdT6uLUl",
    "outputId": "3af8c10a-792b-4a23-cf52-9855d48930ab"
   },
   "outputs": [
    {
     "ename": "Exception",
     "evalue": "ignored",
     "output_type": "error",
     "traceback": [
      "\u001b[0;31m---------------------------------------------------------------------------\u001b[0m",
      "\u001b[0;31mException\u001b[0m                                 Traceback (most recent call last)",
      "\u001b[0;32m<ipython-input-67-c2602c560d35>\u001b[0m in \u001b[0;36m<module>\u001b[0;34m()\u001b[0m\n\u001b[0;32m----> 1\u001b[0;31m \u001b[0mcustom_exception\u001b[0m\u001b[0;34m(\u001b[0m\u001b[0;36m3\u001b[0m\u001b[0;34m)\u001b[0m\u001b[0;34m\u001b[0m\u001b[0;34m\u001b[0m\u001b[0m\n\u001b[0m",
      "\u001b[0;32m<ipython-input-66-5fb2740205e1>\u001b[0m in \u001b[0;36mcustom_exception\u001b[0;34m(a)\u001b[0m\n\u001b[1;32m      1\u001b[0m \u001b[0;32mdef\u001b[0m \u001b[0mcustom_exception\u001b[0m\u001b[0;34m(\u001b[0m\u001b[0ma\u001b[0m\u001b[0;34m)\u001b[0m\u001b[0;34m:\u001b[0m\u001b[0;34m\u001b[0m\u001b[0;34m\u001b[0m\u001b[0m\n\u001b[1;32m      2\u001b[0m   \u001b[0;32mif\u001b[0m \u001b[0ma\u001b[0m \u001b[0;34m<\u001b[0m \u001b[0;36m5\u001b[0m\u001b[0;34m:\u001b[0m\u001b[0;34m\u001b[0m\u001b[0;34m\u001b[0m\u001b[0m\n\u001b[0;32m----> 3\u001b[0;31m     \u001b[0;32mraise\u001b[0m \u001b[0mException\u001b[0m\u001b[0;34m(\u001b[0m\u001b[0;34m'Less by five'\u001b[0m\u001b[0;34m)\u001b[0m\u001b[0;34m\u001b[0m\u001b[0;34m\u001b[0m\u001b[0m\n\u001b[0m",
      "\u001b[0;31mException\u001b[0m: Less by five"
     ]
    }
   ],
   "source": [
    "custom_exception(3)"
   ]
  },
  {
   "cell_type": "code",
   "execution_count": 71,
   "metadata": {
    "colab": {
     "base_uri": "https://localhost:8080/"
    },
    "executionInfo": {
     "elapsed": 4,
     "status": "ok",
     "timestamp": 1657367463791,
     "user": {
      "displayName": "Raghav AK",
      "userId": "00754895325531397942"
     },
     "user_tz": 240
    },
    "id": "H5KdLylOuLfW",
    "outputId": "f618f982-55a3-43bc-e331-bfce27653737"
   },
   "outputs": [
    {
     "name": "stdout",
     "output_type": "stream",
     "text": [
      "invalid literal for int() with base 10: 'test'\n",
      "1.0\n",
      "1.0\n"
     ]
    }
   ],
   "source": [
    "l = ['test',5,6]\n",
    "\n",
    "for i in l:\n",
    "  try:\n",
    "    div = int(i) / int(i)\n",
    "  except Exception as e:\n",
    "    print(e)\n",
    "  else:\n",
    "    print(div)"
   ]
  },
  {
   "cell_type": "code",
   "execution_count": 81,
   "metadata": {
    "colab": {
     "base_uri": "https://localhost:8080/"
    },
    "executionInfo": {
     "elapsed": 3388,
     "status": "ok",
     "timestamp": 1657367754809,
     "user": {
      "displayName": "Raghav AK",
      "userId": "00754895325531397942"
     },
     "user_tz": 240
    },
    "id": "7LDmIBPAuLtx",
    "outputId": "5ddffea2-2382-45b4-df60-8a174a64f3d4"
   },
   "outputs": [
    {
     "name": "stdout",
     "output_type": "stream",
     "text": [
      "Enter an integer: -1\n",
      "ValueError ('ValueError - This is not a positive integer', -1)\n"
     ]
    }
   ],
   "source": [
    "try:\n",
    "  a = int(input('Enter an integer: '))\n",
    "  if a < 0:\n",
    "    raise ValueError('ValueError - This is not a positive integer',a)\n",
    "except ValueError as e:\n",
    "  print('ValueError',e)\n",
    "else:\n",
    "  print('The value is :',a)"
   ]
  },
  {
   "cell_type": "code",
   "execution_count": 82,
   "metadata": {
    "executionInfo": {
     "elapsed": 407,
     "status": "ok",
     "timestamp": 1657368036745,
     "user": {
      "displayName": "Raghav AK",
      "userId": "00754895325531397942"
     },
     "user_tz": 240
    },
    "id": "us05oOeTzboG"
   },
   "outputs": [],
   "source": [
    "import math\n",
    "\n",
    "def demo_math_function(a):\n",
    "  if type(a) != int:\n",
    "    raise TypeError('This is a typing mistake',a)\n",
    "  elif a<0:\n",
    "    raise Exception('This is a negative value',a)\n",
    "  else:\n",
    "    print(math.sqrt(a))"
   ]
  },
  {
   "cell_type": "code",
   "execution_count": 87,
   "metadata": {
    "colab": {
     "base_uri": "https://localhost:8080/"
    },
    "executionInfo": {
     "elapsed": 6,
     "status": "ok",
     "timestamp": 1657368077001,
     "user": {
      "displayName": "Raghav AK",
      "userId": "00754895325531397942"
     },
     "user_tz": 240
    },
    "id": "qKUSRECq1T3o",
    "outputId": "9b2247d3-a450-44df-e0a2-c86f95cf2c36"
   },
   "outputs": [
    {
     "name": "stdout",
     "output_type": "stream",
     "text": [
      "1.4142135623730951\n"
     ]
    }
   ],
   "source": [
    "demo_math_function(2)"
   ]
  },
  {
   "cell_type": "code",
   "execution_count": null,
   "metadata": {
    "id": "tzFMX6r81XwW"
   },
   "outputs": [],
   "source": []
  }
 ],
 "metadata": {
  "colab": {
   "authorship_tag": "ABX9TyPHHcVmamVJ9E9Wt4J8Mv7x",
   "collapsed_sections": [],
   "name": "Data_Science_Machine_Learning_Part_2.ipynb",
   "provenance": [],
   "toc_visible": true
  },
  "kernelspec": {
   "display_name": "Python 3 (ipykernel)",
   "language": "python",
   "name": "python3"
  },
  "language_info": {
   "codemirror_mode": {
    "name": "ipython",
    "version": 3
   },
   "file_extension": ".py",
   "mimetype": "text/x-python",
   "name": "python",
   "nbconvert_exporter": "python",
   "pygments_lexer": "ipython3",
   "version": "3.9.7"
  }
 },
 "nbformat": 4,
 "nbformat_minor": 1
}
