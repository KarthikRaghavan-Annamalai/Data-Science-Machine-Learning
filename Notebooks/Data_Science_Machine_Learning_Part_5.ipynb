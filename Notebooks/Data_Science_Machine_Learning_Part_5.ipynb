{
 "cells": [
  {
   "cell_type": "markdown",
   "id": "121de37f",
   "metadata": {},
   "source": [
    "# 26th June OOP's Concept I"
   ]
  },
  {
   "cell_type": "raw",
   "id": "a1dd1880",
   "metadata": {},
   "source": [
    "check oops.pdf"
   ]
  },
  {
   "cell_type": "code",
   "execution_count": 1,
   "id": "6fc449c8",
   "metadata": {},
   "outputs": [],
   "source": [
    "# oops --> Object Oriented Paradime\n",
    "\n",
    "# It is a way with which we can develop our software/application"
   ]
  },
  {
   "cell_type": "code",
   "execution_count": 2,
   "id": "dc73d192",
   "metadata": {},
   "outputs": [],
   "source": [
    "# object - real world entity which we map into our software. The object can perform certain things. \n",
    "\n",
    "# In Software, there are multiple objects that collaborate with each other.\n",
    "# Every object have some kind of data and behavior\n",
    "\n",
    "\n",
    "# Eg - Employee, Student are objects that we can map into softwares\n",
    "# Every object will have their attribute and behaviour\n",
    "# Employee attributes name,salary,id,location (collection of data)\n",
    "\n",
    "# Formally, object is a collection of data and associated behaviors."
   ]
  },
  {
   "cell_type": "code",
   "execution_count": 3,
   "id": "47e0c3eb",
   "metadata": {},
   "outputs": [],
   "source": [
    "# object oriented simply means functionality directed towards modeling objects\n",
    "# oriented - directed towards\n",
    "\n",
    "# our software will resolve around our objects"
   ]
  },
  {
   "cell_type": "code",
   "execution_count": 4,
   "id": "df8060f4",
   "metadata": {},
   "outputs": [],
   "source": [
    "# Object Oriented Analysis - we analyse the problem and generate the requirement."
   ]
  },
  {
   "cell_type": "code",
   "execution_count": null,
   "id": "64a7a289",
   "metadata": {},
   "outputs": [],
   "source": [
    "# Object oriented design - we will implement the requirement based on the objects. "
   ]
  },
  {
   "cell_type": "code",
   "execution_count": 5,
   "id": "c15647c8",
   "metadata": {},
   "outputs": [],
   "source": [
    "# Object oriented programming - with the help of OOP Language, we will perform the implementation of a working solution"
   ]
  },
  {
   "cell_type": "code",
   "execution_count": 6,
   "id": "ff846399",
   "metadata": {},
   "outputs": [],
   "source": [
    "# properties and attributes are the same"
   ]
  },
  {
   "cell_type": "code",
   "execution_count": 7,
   "id": "21b36763",
   "metadata": {},
   "outputs": [],
   "source": [
    "# An object is a collection of data with associated behaviors\n",
    "# Classes describe objects. They are like blueprints for creating an object.\n",
    "# an object belongs to a single class\n",
    "# we can create multiple objects from a single class\n",
    "# We cannot create single object from multiple class\n",
    "\n",
    "# Classes are user defined.\n",
    "# different objects can hold different types of data"
   ]
  },
  {
   "cell_type": "code",
   "execution_count": null,
   "id": "70f5eb45",
   "metadata": {},
   "outputs": [],
   "source": [
    "class employee:\n",
    "    def __init__(self):\n",
    "        self.emp_id = \n",
    "        self.emp_name = "
   ]
  },
  {
   "cell_type": "code",
   "execution_count": 11,
   "id": "fba22bcf",
   "metadata": {},
   "outputs": [],
   "source": [
    "# attributes are properties or characteristics of an object\n",
    "# behaviour are the actions that can be performed by the object\n",
    "# objects are created with the help of class\n",
    "# An object is an instance of class"
   ]
  },
  {
   "cell_type": "code",
   "execution_count": null,
   "id": "f2acaeb5",
   "metadata": {},
   "outputs": [],
   "source": [
    "# behaviors are also called as methods"
   ]
  },
  {
   "cell_type": "code",
   "execution_count": null,
   "id": "a5ff0afa",
   "metadata": {},
   "outputs": [],
   "source": [
    "# Interface - we have to define on what objects can interact with each other\n",
    "# The process of hiding the implementation or functonal details of an object is suitably called information hiding,\n",
    "# This is called as encapsulation(binding attributes and behaviour together)"
   ]
  },
  {
   "cell_type": "code",
   "execution_count": null,
   "id": "d897e784",
   "metadata": {},
   "outputs": [],
   "source": [
    "# Abstraction - not showing the details"
   ]
  },
  {
   "cell_type": "code",
   "execution_count": null,
   "id": "0bf8cb32",
   "metadata": {},
   "outputs": [],
   "source": [
    "# Composition - Composition is the act of collecting together several objects to compose a new one."
   ]
  },
  {
   "cell_type": "code",
   "execution_count": null,
   "id": "dca51ef5",
   "metadata": {},
   "outputs": [],
   "source": [
    "# inheritence - Inheritance can be defined as the process where one class acquires the properties (methods and \n",
    "#fields) of another. With the use of inheritance the information is made manageable in a \n",
    "#hierarchical order"
   ]
  },
  {
   "cell_type": "code",
   "execution_count": null,
   "id": "e1a29539",
   "metadata": {},
   "outputs": [],
   "source": [
    "# Aggregation- Aggregation is almost exactly like composition"
   ]
  },
  {
   "cell_type": "code",
   "execution_count": null,
   "id": "7e33c2b2",
   "metadata": {},
   "outputs": [],
   "source": [
    "# __ to represet private \n",
    "# _ to represet protected \n",
    "# protected will be only utilized to the next class that is inheriting and not further\n",
    "# nothing to represent public\n",
    "# In python, we can access the private variable\n",
    "\n",
    "class demo:\n",
    "    def __init__(self,Name):\n",
    "        self.__name = Name"
   ]
  },
  {
   "cell_type": "code",
   "execution_count": 13,
   "id": "16d3e2a3",
   "metadata": {},
   "outputs": [],
   "source": [
    "class demo:\n",
    "    def __init__(self,Name):\n",
    "        self.__name = Name\n",
    "        self.age = 25\n",
    "    def getName(self):\n",
    "        return self.__name"
   ]
  },
  {
   "cell_type": "code",
   "execution_count": 15,
   "id": "509ad615",
   "metadata": {},
   "outputs": [
    {
     "data": {
      "text/plain": [
       "'Karthik'"
      ]
     },
     "execution_count": 15,
     "metadata": {},
     "output_type": "execute_result"
    }
   ],
   "source": [
    "demo('Karthik').getName()"
   ]
  },
  {
   "cell_type": "code",
   "execution_count": 16,
   "id": "16b8730e",
   "metadata": {},
   "outputs": [
    {
     "data": {
      "text/plain": [
       "'Karthik'"
      ]
     },
     "execution_count": 16,
     "metadata": {},
     "output_type": "execute_result"
    }
   ],
   "source": [
    "d = demo('Karthik')\n",
    "d.getName()"
   ]
  },
  {
   "cell_type": "code",
   "execution_count": 18,
   "id": "77f38da7",
   "metadata": {},
   "outputs": [
    {
     "data": {
      "text/plain": [
       "25"
      ]
     },
     "execution_count": 18,
     "metadata": {},
     "output_type": "execute_result"
    }
   ],
   "source": [
    "d.age"
   ]
  },
  {
   "cell_type": "code",
   "execution_count": 12,
   "id": "d9005b11",
   "metadata": {},
   "outputs": [
    {
     "data": {
      "text/plain": [
       "'\\nConstructors are generally used for instantiating an object. The task of constructors is to initialize(assign values) to the data members of the class when an object of the class is created. In Python the __init__() method is called the constructor and is always called when an object is created.\\n'"
      ]
     },
     "execution_count": 12,
     "metadata": {},
     "output_type": "execute_result"
    }
   ],
   "source": [
    "\"\"\"\n",
    "Constructors are generally used for instantiating an object. The task of constructors is to initialize(assign values) to the data members of the class when an object of the class is created. In Python the __init__() method is called the constructor and is always called when an object is created.\n",
    "\"\"\""
   ]
  },
  {
   "cell_type": "markdown",
   "id": "495c6d64",
   "metadata": {},
   "source": [
    "# 27th June OOP's Concept II"
   ]
  },
  {
   "cell_type": "code",
   "execution_count": null,
   "id": "6426ef9f",
   "metadata": {},
   "outputs": [],
   "source": []
  },
  {
   "cell_type": "code",
   "execution_count": null,
   "id": "530e05ef",
   "metadata": {},
   "outputs": [],
   "source": []
  },
  {
   "cell_type": "code",
   "execution_count": null,
   "id": "6bf62c48",
   "metadata": {},
   "outputs": [],
   "source": []
  },
  {
   "cell_type": "code",
   "execution_count": null,
   "id": "0ef540f7",
   "metadata": {},
   "outputs": [],
   "source": []
  },
  {
   "cell_type": "code",
   "execution_count": null,
   "id": "e229ca24",
   "metadata": {},
   "outputs": [],
   "source": []
  },
  {
   "cell_type": "code",
   "execution_count": null,
   "id": "1d3f27b0",
   "metadata": {},
   "outputs": [],
   "source": []
  }
 ],
 "metadata": {
  "kernelspec": {
   "display_name": "Python 3 (ipykernel)",
   "language": "python",
   "name": "python3"
  },
  "language_info": {
   "codemirror_mode": {
    "name": "ipython",
    "version": 3
   },
   "file_extension": ".py",
   "mimetype": "text/x-python",
   "name": "python",
   "nbconvert_exporter": "python",
   "pygments_lexer": "ipython3",
   "version": "3.9.7"
  }
 },
 "nbformat": 4,
 "nbformat_minor": 5
}
