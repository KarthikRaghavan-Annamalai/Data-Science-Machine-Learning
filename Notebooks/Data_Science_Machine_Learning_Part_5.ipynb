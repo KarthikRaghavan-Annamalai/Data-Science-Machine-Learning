{
 "cells": [
  {
   "cell_type": "markdown",
   "id": "121de37f",
   "metadata": {},
   "source": [
    "# 26th June OOP's Concept I"
   ]
  },
  {
   "cell_type": "raw",
   "id": "a1dd1880",
   "metadata": {},
   "source": [
    "check oops.pdf"
   ]
  },
  {
   "cell_type": "code",
   "execution_count": 1,
   "id": "6fc449c8",
   "metadata": {},
   "outputs": [],
   "source": [
    "# oops --> Object Oriented Paradime\n",
    "\n",
    "# It is a way with which we can develop our software/application"
   ]
  },
  {
   "cell_type": "code",
   "execution_count": 2,
   "id": "dc73d192",
   "metadata": {},
   "outputs": [],
   "source": [
    "# object - real world entity which we map into our software. The object can perform certain things. \n",
    "\n",
    "# In Software, there are multiple objects that collaborate with each other.\n",
    "# Every object have some kind of data and behavior\n",
    "\n",
    "\n",
    "# Eg - Employee, Student are objects that we can map into softwares\n",
    "# Every object will have their attribute and behaviour\n",
    "# Employee attributes name,salary,id,location (collection of data)\n",
    "\n",
    "# Formally, object is a collection of data and associated behaviors."
   ]
  },
  {
   "cell_type": "code",
   "execution_count": 3,
   "id": "47e0c3eb",
   "metadata": {},
   "outputs": [],
   "source": [
    "# object oriented simply means functionality directed towards modeling objects\n",
    "# oriented - directed towards\n",
    "\n",
    "# our software will resolve around our objects"
   ]
  },
  {
   "cell_type": "code",
   "execution_count": 4,
   "id": "df8060f4",
   "metadata": {},
   "outputs": [],
   "source": [
    "# Object Oriented Analysis - we analyse the problem and generate the requirement."
   ]
  },
  {
   "cell_type": "code",
   "execution_count": null,
   "id": "64a7a289",
   "metadata": {},
   "outputs": [],
   "source": [
    "# Object oriented design - we will implement the requirement based on the objects. "
   ]
  },
  {
   "cell_type": "code",
   "execution_count": 5,
   "id": "c15647c8",
   "metadata": {},
   "outputs": [],
   "source": [
    "# Object oriented programming - with the help of OOP Language, we will perform the implementation of a working solution"
   ]
  },
  {
   "cell_type": "code",
   "execution_count": 6,
   "id": "ff846399",
   "metadata": {},
   "outputs": [],
   "source": [
    "# properties and attributes are the same"
   ]
  },
  {
   "cell_type": "code",
   "execution_count": 7,
   "id": "21b36763",
   "metadata": {},
   "outputs": [],
   "source": [
    "# An object is a collection of data with associated behaviors\n",
    "# Classes describe objects. They are like blueprints for creating an object.\n",
    "# an object belongs to a single class\n",
    "# we can create multiple objects from a single class\n",
    "# We cannot create single object from multiple class\n",
    "\n",
    "# Classes are user defined.\n",
    "# different objects can hold different types of data"
   ]
  },
  {
   "cell_type": "code",
   "execution_count": null,
   "id": "70f5eb45",
   "metadata": {},
   "outputs": [],
   "source": [
    "class employee:\n",
    "    def __init__(self):\n",
    "        self.emp_id = \n",
    "        self.emp_name = "
   ]
  },
  {
   "cell_type": "code",
   "execution_count": 11,
   "id": "fba22bcf",
   "metadata": {},
   "outputs": [],
   "source": [
    "# attributes are properties or characteristics of an object\n",
    "# behaviour are the actions that can be performed by the object\n",
    "# objects are created with the help of class\n",
    "# An object is an instance of class"
   ]
  },
  {
   "cell_type": "code",
   "execution_count": null,
   "id": "f2acaeb5",
   "metadata": {},
   "outputs": [],
   "source": [
    "# behaviors are also called as methods"
   ]
  },
  {
   "cell_type": "code",
   "execution_count": null,
   "id": "a5ff0afa",
   "metadata": {},
   "outputs": [],
   "source": [
    "# Interface - we have to define on what objects can interact with each other\n",
    "# The process of hiding the implementation or functonal details of an object is suitably called information hiding,\n",
    "# This is called as encapsulation(binding attributes and behaviour together)"
   ]
  },
  {
   "cell_type": "code",
   "execution_count": null,
   "id": "d897e784",
   "metadata": {},
   "outputs": [],
   "source": [
    "# Abstraction - not showing the details"
   ]
  },
  {
   "cell_type": "code",
   "execution_count": null,
   "id": "0bf8cb32",
   "metadata": {},
   "outputs": [],
   "source": [
    "# Composition - Composition is the act of collecting together several objects to compose a new one."
   ]
  },
  {
   "cell_type": "code",
   "execution_count": null,
   "id": "dca51ef5",
   "metadata": {},
   "outputs": [],
   "source": [
    "# inheritence - Inheritance can be defined as the process where one class acquires the properties (methods and \n",
    "#fields) of another. With the use of inheritance the information is made manageable in a \n",
    "#hierarchical order"
   ]
  },
  {
   "cell_type": "code",
   "execution_count": null,
   "id": "e1a29539",
   "metadata": {},
   "outputs": [],
   "source": [
    "# Aggregation- Aggregation is almost exactly like composition"
   ]
  },
  {
   "cell_type": "code",
   "execution_count": null,
   "id": "7e33c2b2",
   "metadata": {},
   "outputs": [],
   "source": [
    "# __ to represet private \n",
    "# _ to represet protected \n",
    "# protected will be only utilized to the next class that is inheriting and not further\n",
    "# nothing to represent public\n",
    "# In python, we can access the private variable\n",
    "\n",
    "class demo:\n",
    "    def __init__(self,Name):\n",
    "        self.__name = Name"
   ]
  },
  {
   "cell_type": "code",
   "execution_count": 13,
   "id": "16d3e2a3",
   "metadata": {},
   "outputs": [],
   "source": [
    "class demo:\n",
    "    def __init__(self,Name):\n",
    "        self.__name = Name\n",
    "        self.age = 25\n",
    "    def getName(self):\n",
    "        return self.__name"
   ]
  },
  {
   "cell_type": "code",
   "execution_count": 15,
   "id": "509ad615",
   "metadata": {},
   "outputs": [
    {
     "data": {
      "text/plain": [
       "'Karthik'"
      ]
     },
     "execution_count": 15,
     "metadata": {},
     "output_type": "execute_result"
    }
   ],
   "source": [
    "demo('Karthik').getName()"
   ]
  },
  {
   "cell_type": "code",
   "execution_count": 16,
   "id": "16b8730e",
   "metadata": {},
   "outputs": [
    {
     "data": {
      "text/plain": [
       "'Karthik'"
      ]
     },
     "execution_count": 16,
     "metadata": {},
     "output_type": "execute_result"
    }
   ],
   "source": [
    "d = demo('Karthik')\n",
    "d.getName()"
   ]
  },
  {
   "cell_type": "code",
   "execution_count": 18,
   "id": "77f38da7",
   "metadata": {},
   "outputs": [
    {
     "data": {
      "text/plain": [
       "25"
      ]
     },
     "execution_count": 18,
     "metadata": {},
     "output_type": "execute_result"
    }
   ],
   "source": [
    "d.age"
   ]
  },
  {
   "cell_type": "code",
   "execution_count": 12,
   "id": "d9005b11",
   "metadata": {},
   "outputs": [
    {
     "data": {
      "text/plain": [
       "'\\nConstructors are generally used for instantiating an object. The task of constructors is to initialize(assign values) to the data members of the class when an object of the class is created. In Python the __init__() method is called the constructor and is always called when an object is created.\\n'"
      ]
     },
     "execution_count": 12,
     "metadata": {},
     "output_type": "execute_result"
    }
   ],
   "source": [
    "\"\"\"\n",
    "Constructors are generally used for instantiating an object. The task of constructors is to initialize(assign values) to the data members of the class when an object of the class is created. In Python the __init__() method is called the constructor and is always called when an object is created.\n",
    "\"\"\""
   ]
  },
  {
   "cell_type": "markdown",
   "id": "b8097cf2",
   "metadata": {},
   "source": [
    "# 27th June OOP's Concept II"
   ]
  },
  {
   "cell_type": "code",
   "execution_count": 86,
   "id": "cc30ec4c",
   "metadata": {},
   "outputs": [],
   "source": [
    "# We have multiple inheritence where a child interitence from multiple parent class\n",
    "# Multi - level inheritence is also there"
   ]
  },
  {
   "cell_type": "code",
   "execution_count": null,
   "id": "c140bd46",
   "metadata": {},
   "outputs": [],
   "source": [
    "# Everything we derive from in python is an object"
   ]
  },
  {
   "cell_type": "code",
   "execution_count": 87,
   "id": "4f4e555f",
   "metadata": {},
   "outputs": [],
   "source": [
    "class classname(object): # to create a class\n",
    "    pass\n",
    "# the class inherits from the object\n",
    "# even if do not write explicaitly, it takes from object\n"
   ]
  },
  {
   "cell_type": "code",
   "execution_count": null,
   "id": "db760279",
   "metadata": {},
   "outputs": [],
   "source": [
    "c1 = classname() # created object for class name"
   ]
  },
  {
   "cell_type": "markdown",
   "id": "dce7585a",
   "metadata": {},
   "source": [
    "###### Object creation in python"
   ]
  },
  {
   "cell_type": "code",
   "execution_count": 88,
   "id": "c60bb3fd",
   "metadata": {},
   "outputs": [
    {
     "data": {
      "text/plain": [
       "<__main__.classname at 0x278308d8d60>"
      ]
     },
     "execution_count": 88,
     "metadata": {},
     "output_type": "execute_result"
    }
   ],
   "source": [
    "classname()"
   ]
  },
  {
   "cell_type": "code",
   "execution_count": null,
   "id": "350beb0b",
   "metadata": {},
   "outputs": [],
   "source": [
    "# __init__ --> used to initialize the object (Instance level method). This is an initializer\n",
    "# __new__ --> Actual object creation (Class level method). This is a constructor"
   ]
  },
  {
   "cell_type": "code",
   "execution_count": 97,
   "id": "a7aad63d",
   "metadata": {},
   "outputs": [],
   "source": [
    "class ObjectCreationDemo():\n",
    "    def __new__(cls):\n",
    "        print(\"Object is being created..\")\n",
    "        #return object().__new__(cls)\n",
    "    def __init__(self):\n",
    "        print(\"Initialization can be done\")"
   ]
  },
  {
   "cell_type": "code",
   "execution_count": 98,
   "id": "8835bc0a",
   "metadata": {},
   "outputs": [
    {
     "name": "stdout",
     "output_type": "stream",
     "text": [
      "Object is being created..\n"
     ]
    }
   ],
   "source": [
    "ObjectCreationDemo()"
   ]
  },
  {
   "cell_type": "code",
   "execution_count": 94,
   "id": "6b377e10",
   "metadata": {},
   "outputs": [],
   "source": [
    "class ObjectCreationDemo():\n",
    "    def __new__(cls):\n",
    "        print(\"Object is being created..\")\n",
    "        return object().__new__(cls)\n",
    "    def __init__(self):\n",
    "        print(\"Initialization can be done\")"
   ]
  },
  {
   "cell_type": "code",
   "execution_count": 95,
   "id": "5240fb42",
   "metadata": {},
   "outputs": [],
   "source": [
    "# if the new method cannot call the instance of the method then it cannot instantiate the object"
   ]
  },
  {
   "cell_type": "code",
   "execution_count": 96,
   "id": "799cdf8d",
   "metadata": {},
   "outputs": [
    {
     "name": "stdout",
     "output_type": "stream",
     "text": [
      "Object is being created..\n",
      "Initialization can be done\n"
     ]
    },
    {
     "data": {
      "text/plain": [
       "<__main__.ObjectCreationDemo at 0x27830bff910>"
      ]
     },
     "execution_count": 96,
     "metadata": {},
     "output_type": "execute_result"
    }
   ],
   "source": [
    "ObjectCreationDemo()"
   ]
  },
  {
   "cell_type": "code",
   "execution_count": 100,
   "id": "ab53bd1c",
   "metadata": {},
   "outputs": [],
   "source": [
    "# new returns object\n",
    "# object will be passed to self\n",
    "# self will act as instance"
   ]
  },
  {
   "cell_type": "code",
   "execution_count": 99,
   "id": "33a43897",
   "metadata": {},
   "outputs": [],
   "source": [
    "# with the help of the constructor, we create the object, the memory allocation happens with the help of constructor  \n",
    "# When we work on projects, we will use __init__ a lot and __new__ will not be useful that much"
   ]
  },
  {
   "cell_type": "code",
   "execution_count": 101,
   "id": "8262e5fe",
   "metadata": {},
   "outputs": [],
   "source": [
    "# we can ignore the __int__ and __new__\n",
    "\n",
    "class ObjectCreationDemo2():\n",
    "    def message(self):\n",
    "        return 'Message is called'"
   ]
  },
  {
   "cell_type": "code",
   "execution_count": 104,
   "id": "d4a48cd6",
   "metadata": {},
   "outputs": [
    {
     "data": {
      "text/plain": [
       "'Message is called'"
      ]
     },
     "execution_count": 104,
     "metadata": {},
     "output_type": "execute_result"
    }
   ],
   "source": [
    "ObjectCreationDemo2().message()"
   ]
  },
  {
   "cell_type": "code",
   "execution_count": 105,
   "id": "d640ddea",
   "metadata": {},
   "outputs": [],
   "source": [
    "# Design an e-commerce website\n",
    "# Website is responsible to sell product\n",
    "# Analyse the problem with OOPS\n",
    "\n",
    "# Object\n",
    "\n",
    "# .1. Product\n",
    "# .2. Consumer\n",
    "# .3. Order"
   ]
  },
  {
   "cell_type": "code",
   "execution_count": 133,
   "id": "98b82f85",
   "metadata": {},
   "outputs": [],
   "source": [
    "# <<<------------------ATTRIBUTES---------------------->>>"
   ]
  },
  {
   "cell_type": "code",
   "execution_count": 106,
   "id": "eaad22f6",
   "metadata": {},
   "outputs": [],
   "source": [
    "class product:\n",
    "    def __init__(self,name,price,size,quantity,description,brand,color):\n",
    "        self.name = name\n",
    "        self.price = price\n",
    "        self.size = size\n",
    "        self.quantity = quantity\n",
    "        self.description = description\n",
    "        self.brand = brand\n",
    "        self.color = color"
   ]
  },
  {
   "cell_type": "code",
   "execution_count": 108,
   "id": "2729dc24",
   "metadata": {},
   "outputs": [],
   "source": [
    "p1 = product('p1',890,'Large',890,'This is a product','XYZ','yellow')"
   ]
  },
  {
   "cell_type": "code",
   "execution_count": 111,
   "id": "acd719c7",
   "metadata": {},
   "outputs": [
    {
     "data": {
      "text/plain": [
       "'XYZ'"
      ]
     },
     "execution_count": 111,
     "metadata": {},
     "output_type": "execute_result"
    }
   ],
   "source": [
    "p1.brand"
   ]
  },
  {
   "cell_type": "code",
   "execution_count": 118,
   "id": "707fec76",
   "metadata": {},
   "outputs": [],
   "source": [
    "class product:\n",
    "    def __init__(self,name,price,size,quantity,description,brand,color):\n",
    "        self.name = name\n",
    "        self.price = price\n",
    "        self.size = size\n",
    "        self.quantity = quantity\n",
    "        self.description = description\n",
    "        self.brand = brand\n",
    "        self.color = color\n",
    "    def __repr__(self): #This is for a developer for how we can view the output\n",
    "        return f'Product(name= {self.name}, price= {self.price}, size= {self.size}, quanity = {self.quantity}, desciption = {self.description}, brand ={self.brand}, color = {self.color})'"
   ]
  },
  {
   "cell_type": "code",
   "execution_count": 119,
   "id": "ffc84150",
   "metadata": {},
   "outputs": [],
   "source": [
    "p1 = product('p1',890,'Large',890,'This is a product','XYZ','yellow')"
   ]
  },
  {
   "cell_type": "code",
   "execution_count": 120,
   "id": "60e3c038",
   "metadata": {},
   "outputs": [
    {
     "data": {
      "text/plain": [
       "Product(name= p1, price= 890, size= Large, quanity = 890, desciption = This is a product, brand =XYZ, color = yellow)"
      ]
     },
     "execution_count": 120,
     "metadata": {},
     "output_type": "execute_result"
    }
   ],
   "source": [
    "p1"
   ]
  },
  {
   "cell_type": "code",
   "execution_count": 128,
   "id": "6cf1cbcc",
   "metadata": {},
   "outputs": [],
   "source": [
    "class product:\n",
    "    def __init__(self,name,price,size,quantity,description,brand,color):\n",
    "        self.name = name\n",
    "        self.price = price\n",
    "        self.size = size\n",
    "        self.quantity = quantity\n",
    "        self.description = description\n",
    "        self.brand = brand\n",
    "        self.color = color\n",
    "    def __repr__(self): #This is for a developer for how we can view the output\n",
    "        return f'Product(name= {self.name}, price= {self.price}, size= {self.size}, quanity = {self.quantity}, desciption = {self.description}, brand ={self.brand}, color = {self.color})'\n",
    "    def __str__(self):\n",
    "        return f'This product name is {self.name}'"
   ]
  },
  {
   "cell_type": "code",
   "execution_count": 129,
   "id": "490ae634",
   "metadata": {},
   "outputs": [],
   "source": [
    "p1 = product('p1',890,'Large',890,'This is a product','XYZ','yellow')"
   ]
  },
  {
   "cell_type": "code",
   "execution_count": 130,
   "id": "b3353e1f",
   "metadata": {},
   "outputs": [
    {
     "data": {
      "text/plain": [
       "Product(name= p1, price= 890, size= Large, quanity = 890, desciption = This is a product, brand =XYZ, color = yellow)"
      ]
     },
     "execution_count": 130,
     "metadata": {},
     "output_type": "execute_result"
    }
   ],
   "source": [
    "p1"
   ]
  },
  {
   "cell_type": "code",
   "execution_count": 131,
   "id": "84cad210",
   "metadata": {},
   "outputs": [
    {
     "name": "stdout",
     "output_type": "stream",
     "text": [
      "This product name is p1\n"
     ]
    }
   ],
   "source": [
    "print(p1)"
   ]
  },
  {
   "cell_type": "code",
   "execution_count": null,
   "id": "31ce6aa0",
   "metadata": {},
   "outputs": [],
   "source": [
    "# <<<------------------BEHAVIOUR---------------------->>>"
   ]
  },
  {
   "cell_type": "code",
   "execution_count": 138,
   "id": "825e689f",
   "metadata": {},
   "outputs": [],
   "source": [
    "class ProductCollection:\n",
    "    def __init__(self):\n",
    "        self.productList = []\n",
    "    \n",
    "    def addProduct(self,product):\n",
    "        self.productList.append(product)\n",
    "    \n",
    "    def getListofProduct(self):\n",
    "        return self.productList"
   ]
  },
  {
   "cell_type": "code",
   "execution_count": 135,
   "id": "d23e3a16",
   "metadata": {},
   "outputs": [],
   "source": [
    "class product:\n",
    "    def __init__(self,name,price,size,quantity,description,brand,color):\n",
    "        self.name = name\n",
    "        self.price = price\n",
    "        self.size = size\n",
    "        self.quantity = quantity\n",
    "        self.description = description\n",
    "        self.brand = brand\n",
    "        self.color = color\n",
    "    def __repr__(self): #This is for a developer for how we can view the output\n",
    "        return f'Product(name= {self.name}, price= {self.price}, size= {self.size}, quanity = {self.quantity}, desciption = {self.description}, brand ={self.brand}, color = {self.color})'\n",
    "    def __str__(self):\n",
    "        return f'This product name is {self.name}'\n",
    "    "
   ]
  },
  {
   "cell_type": "code",
   "execution_count": 136,
   "id": "24adc1d7",
   "metadata": {},
   "outputs": [],
   "source": [
    "p1 = product('p1',890,'Large',890,'This is a product','XYZ','yellow')"
   ]
  },
  {
   "cell_type": "code",
   "execution_count": 139,
   "id": "6d781e17",
   "metadata": {},
   "outputs": [],
   "source": [
    "product_repo = ProductCollection()\n",
    "product_repo.addProduct(p1)"
   ]
  },
  {
   "cell_type": "code",
   "execution_count": 142,
   "id": "216c7424",
   "metadata": {},
   "outputs": [
    {
     "data": {
      "text/plain": [
       "[Product(name= p1, price= 890, size= Large, quanity = 890, desciption = This is a product, brand =XYZ, color = yellow)]"
      ]
     },
     "execution_count": 142,
     "metadata": {},
     "output_type": "execute_result"
    }
   ],
   "source": [
    "product_repo.getListofProduct()"
   ]
  },
  {
   "cell_type": "code",
   "execution_count": 143,
   "id": "d77efdbb",
   "metadata": {},
   "outputs": [],
   "source": [
    "p2 = product('p2',891,'medium',891,'This is another product','ABC','blue')"
   ]
  },
  {
   "cell_type": "code",
   "execution_count": 144,
   "id": "fd895a3a",
   "metadata": {},
   "outputs": [],
   "source": [
    "product_repo.addProduct(p2)"
   ]
  },
  {
   "cell_type": "code",
   "execution_count": 145,
   "id": "11912901",
   "metadata": {},
   "outputs": [
    {
     "data": {
      "text/plain": [
       "[Product(name= p1, price= 890, size= Large, quanity = 890, desciption = This is a product, brand =XYZ, color = yellow),\n",
       " Product(name= p2, price= 891, size= medium, quanity = 891, desciption = This is another product, brand =ABC, color = blue)]"
      ]
     },
     "execution_count": 145,
     "metadata": {},
     "output_type": "execute_result"
    }
   ],
   "source": [
    "product_repo.getListofProduct()"
   ]
  },
  {
   "cell_type": "markdown",
   "id": "41ccf148",
   "metadata": {},
   "source": [
    "###### Inheritence"
   ]
  },
  {
   "cell_type": "code",
   "execution_count": null,
   "id": "de0dff5d",
   "metadata": {},
   "outputs": [],
   "source": []
  },
  {
   "cell_type": "code",
   "execution_count": null,
   "id": "72cc46e9",
   "metadata": {},
   "outputs": [],
   "source": []
  },
  {
   "cell_type": "code",
   "execution_count": null,
   "id": "a18bb905",
   "metadata": {},
   "outputs": [],
   "source": []
  },
  {
   "cell_type": "code",
   "execution_count": null,
   "id": "55e178b3",
   "metadata": {},
   "outputs": [],
   "source": []
  },
  {
   "cell_type": "code",
   "execution_count": null,
   "id": "fbc0da96",
   "metadata": {},
   "outputs": [],
   "source": []
  },
  {
   "cell_type": "code",
   "execution_count": null,
   "id": "1a36e1f8",
   "metadata": {},
   "outputs": [],
   "source": []
  },
  {
   "cell_type": "code",
   "execution_count": null,
   "id": "1857c31c",
   "metadata": {},
   "outputs": [],
   "source": []
  }
 ],
 "metadata": {
  "kernelspec": {
   "display_name": "Python 3 (ipykernel)",
   "language": "python",
   "name": "python3"
  },
  "language_info": {
   "codemirror_mode": {
    "name": "ipython",
    "version": 3
   },
   "file_extension": ".py",
   "mimetype": "text/x-python",
   "name": "python",
   "nbconvert_exporter": "python",
   "pygments_lexer": "ipython3",
   "version": "3.9.7"
  }
 },
 "nbformat": 4,
 "nbformat_minor": 5
}
