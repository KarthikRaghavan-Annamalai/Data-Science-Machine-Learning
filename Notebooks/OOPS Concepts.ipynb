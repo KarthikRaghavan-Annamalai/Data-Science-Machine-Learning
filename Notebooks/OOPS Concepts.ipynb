{
 "cells": [
  {
   "cell_type": "code",
   "execution_count": null,
   "id": "ac82f535",
   "metadata": {},
   "outputs": [],
   "source": [
    "# https://www.youtube.com/c/Coreyms \n",
    "\n",
    "# Python OOP Tutorials"
   ]
  },
  {
   "cell_type": "markdown",
   "id": "26a1f468",
   "metadata": {},
   "source": [
    "###### Python OOP 1 - Classes and Instances"
   ]
  },
  {
   "cell_type": "code",
   "execution_count": null,
   "id": "ea4fb0c8",
   "metadata": {},
   "outputs": [],
   "source": [
    "# Creating and instantiating simple classes\n",
    "\n",
    "# why should we use classes ?\n",
    "# They allow us to logivally group our data and functions in a way thats easy to reuse and also easy to build upon if need be\n",
    "# methods- a function that is associated with a class\n"
   ]
  },
  {
   "cell_type": "code",
   "execution_count": 2,
   "id": "2c49a861",
   "metadata": {},
   "outputs": [
    {
     "name": "stdout",
     "output_type": "stream",
     "text": [
      "<__main__.Employee object at 0x000002783066AD90> <__main__.Employee object at 0x0000027830BD9040>\n"
     ]
    }
   ],
   "source": [
    "class Employee:\n",
    "    pass\n",
    "\n",
    "emp_1 = Employee() # each instance of the class\n",
    "emp_2 = Employee()\n",
    "\n",
    "print(emp_1,emp_2) # both have different locations "
   ]
  },
  {
   "cell_type": "code",
   "execution_count": null,
   "id": "61575569",
   "metadata": {},
   "outputs": [],
   "source": [
    "# instance variables contain data that is unique to each instance"
   ]
  },
  {
   "cell_type": "code",
   "execution_count": 4,
   "id": "b8f2dfde",
   "metadata": {},
   "outputs": [],
   "source": [
    "emp_1.first = 'Corey'\n",
    "emp_1.last = 'Schafer'\n",
    "emp_1.email = 'Corey.Schafer@company.com'\n",
    "emp_1.pay = 50000"
   ]
  },
  {
   "cell_type": "code",
   "execution_count": 5,
   "id": "62d4343f",
   "metadata": {},
   "outputs": [],
   "source": [
    "emp_2.first = 'Test'\n",
    "emp_2.last = 'User'\n",
    "emp_2.email = 'Test.User@company.com'\n",
    "emp_2.pay = 60000"
   ]
  },
  {
   "cell_type": "code",
   "execution_count": 6,
   "id": "2c617212",
   "metadata": {},
   "outputs": [],
   "source": [
    "# Each of these attributes have unique data"
   ]
  },
  {
   "cell_type": "code",
   "execution_count": 8,
   "id": "2072fe50",
   "metadata": {},
   "outputs": [
    {
     "name": "stdout",
     "output_type": "stream",
     "text": [
      "Corey.Schafer@company.com\n",
      "Test.User@company.com\n"
     ]
    }
   ],
   "source": [
    "print(emp_1.email)\n",
    "print(emp_2.email)"
   ]
  },
  {
   "cell_type": "code",
   "execution_count": null,
   "id": "6ea307e3",
   "metadata": {},
   "outputs": [],
   "source": [
    "# Instead of Manually adding the data\n",
    "# we will use init"
   ]
  },
  {
   "cell_type": "code",
   "execution_count": 9,
   "id": "e012073e",
   "metadata": {},
   "outputs": [],
   "source": [
    "class Employee:\n",
    "    def __init__(self,first,last,pay):\n",
    "        self.first = first\n",
    "        self.last = last\n",
    "        self.pay = pay\n",
    "        self.email = first +'.'+last+'@company.com'\n",
    "        "
   ]
  },
  {
   "cell_type": "code",
   "execution_count": 10,
   "id": "ca83faf1",
   "metadata": {},
   "outputs": [],
   "source": [
    "emp_1 = Employee('Corey','Schafer',50000) # each instance of the class\n",
    "emp_2 = Employee('Test','User',60000)"
   ]
  },
  {
   "cell_type": "code",
   "execution_count": 11,
   "id": "053d0ca7",
   "metadata": {},
   "outputs": [
    {
     "name": "stdout",
     "output_type": "stream",
     "text": [
      "Corey.Schafer@company.com\n",
      "Test.User@company.com\n"
     ]
    }
   ],
   "source": [
    "print(emp_1.email)\n",
    "print(emp_2.email)"
   ]
  },
  {
   "cell_type": "code",
   "execution_count": null,
   "id": "140f2452",
   "metadata": {},
   "outputs": [],
   "source": [
    "# first,last,pay,email --> These are all attributes of the class"
   ]
  },
  {
   "cell_type": "code",
   "execution_count": null,
   "id": "8c1e2f93",
   "metadata": {},
   "outputs": [],
   "source": [
    "# Adding methods to class"
   ]
  },
  {
   "cell_type": "code",
   "execution_count": 23,
   "id": "1896338e",
   "metadata": {},
   "outputs": [],
   "source": [
    "class Employee:\n",
    "    def __init__(self,first,last,pay):\n",
    "        self.first = first\n",
    "        self.last = last\n",
    "        self.pay = pay\n",
    "        self.email = first +'.'+last+'@company.com'\n",
    "    def FullName(self):\n",
    "        return f'{self.first} {self.last}'"
   ]
  },
  {
   "cell_type": "code",
   "execution_count": null,
   "id": "1f2f8510",
   "metadata": {},
   "outputs": [],
   "source": [
    "# FullName is a method"
   ]
  },
  {
   "cell_type": "code",
   "execution_count": 46,
   "id": "e6b97b78",
   "metadata": {},
   "outputs": [],
   "source": [
    "emp_1 = Employee('Corey','Schafer',50000)"
   ]
  },
  {
   "cell_type": "code",
   "execution_count": 30,
   "id": "a78cd943",
   "metadata": {},
   "outputs": [
    {
     "name": "stdout",
     "output_type": "stream",
     "text": [
      "Corey Schafer\n"
     ]
    }
   ],
   "source": [
    "print(Employee.FullName(emp_1))"
   ]
  },
  {
   "cell_type": "code",
   "execution_count": 33,
   "id": "080444be",
   "metadata": {},
   "outputs": [
    {
     "name": "stdout",
     "output_type": "stream",
     "text": [
      "Corey Schafer\n"
     ]
    }
   ],
   "source": [
    "print(emp_1.FullName())"
   ]
  },
  {
   "cell_type": "markdown",
   "id": "dc71f745",
   "metadata": {},
   "source": [
    "###### Python OOP Tutorial 2 - Class Variables"
   ]
  },
  {
   "cell_type": "code",
   "execution_count": null,
   "id": "530e05ef",
   "metadata": {},
   "outputs": [],
   "source": [
    "# Class variables are variables that are shared among instances of a class\n",
    "# Instance varibles can be unique for each instances\n",
    "\n",
    "# name,email,pay\n",
    "\n",
    "# Class variables have to be the same for each instances"
   ]
  },
  {
   "cell_type": "code",
   "execution_count": 47,
   "id": "6824e0cc",
   "metadata": {},
   "outputs": [],
   "source": [
    "class Employee:\n",
    "    def __init__(self,first,last,pay):\n",
    "        self.first = first\n",
    "        self.last = last\n",
    "        self.pay = pay\n",
    "        self.email = first +'.'+last+'@company.com'\n",
    "    def FullName(self):\n",
    "        return f'{self.first} {self.last}'\n",
    "    def apply_raise(self):\n",
    "        self.pay = int(self.pay * 1.04)"
   ]
  },
  {
   "cell_type": "code",
   "execution_count": 52,
   "id": "f4fa1db0",
   "metadata": {},
   "outputs": [],
   "source": [
    "emp_1 = Employee('Corey','Schafer',50000)"
   ]
  },
  {
   "cell_type": "code",
   "execution_count": 53,
   "id": "78fcda2a",
   "metadata": {},
   "outputs": [
    {
     "data": {
      "text/plain": [
       "50000"
      ]
     },
     "execution_count": 53,
     "metadata": {},
     "output_type": "execute_result"
    }
   ],
   "source": [
    "emp_1.pay"
   ]
  },
  {
   "cell_type": "code",
   "execution_count": 56,
   "id": "274cf2f1",
   "metadata": {},
   "outputs": [],
   "source": [
    "emp_1.apply_raise()"
   ]
  },
  {
   "cell_type": "code",
   "execution_count": 57,
   "id": "6bf62c48",
   "metadata": {},
   "outputs": [
    {
     "data": {
      "text/plain": [
       "52000"
      ]
     },
     "execution_count": 57,
     "metadata": {},
     "output_type": "execute_result"
    }
   ],
   "source": [
    "emp_1.pay"
   ]
  },
  {
   "cell_type": "code",
   "execution_count": 72,
   "id": "0ef540f7",
   "metadata": {},
   "outputs": [],
   "source": [
    "class Employee:\n",
    "    \n",
    "    raise_amount = 1.04\n",
    "    \n",
    "    def __init__(self,first,last,pay):\n",
    "        self.first = first\n",
    "        self.last = last\n",
    "        self.pay = pay\n",
    "        self.email = first +'.'+last+'@company.com'\n",
    "    def FullName(self):\n",
    "        return f'{self.first} {self.last}'\n",
    "    def apply_raise(self):\n",
    "        self.pay = int(self.pay * self.raise_amount)# or Employee.raise_amount"
   ]
  },
  {
   "cell_type": "code",
   "execution_count": 73,
   "id": "8cab7140",
   "metadata": {},
   "outputs": [],
   "source": [
    "emp_1 = Employee('Corey','Schafer',50000)"
   ]
  },
  {
   "cell_type": "code",
   "execution_count": 74,
   "id": "e229ca24",
   "metadata": {},
   "outputs": [
    {
     "data": {
      "text/plain": [
       "1.04"
      ]
     },
     "execution_count": 74,
     "metadata": {},
     "output_type": "execute_result"
    }
   ],
   "source": [
    "Employee.raise_amount"
   ]
  },
  {
   "cell_type": "code",
   "execution_count": 75,
   "id": "1d3f27b0",
   "metadata": {},
   "outputs": [
    {
     "data": {
      "text/plain": [
       "1.04"
      ]
     },
     "execution_count": 75,
     "metadata": {},
     "output_type": "execute_result"
    }
   ],
   "source": [
    "emp_1.raise_amount"
   ]
  },
  {
   "cell_type": "code",
   "execution_count": 76,
   "id": "4df584b5",
   "metadata": {},
   "outputs": [
    {
     "data": {
      "text/plain": [
       "{'first': 'Corey',\n",
       " 'last': 'Schafer',\n",
       " 'pay': 50000,\n",
       " 'email': 'Corey.Schafer@company.com'}"
      ]
     },
     "execution_count": 76,
     "metadata": {},
     "output_type": "execute_result"
    }
   ],
   "source": [
    "emp_1.__dict__"
   ]
  },
  {
   "cell_type": "code",
   "execution_count": 77,
   "id": "69763b79",
   "metadata": {},
   "outputs": [
    {
     "data": {
      "text/plain": [
       "mappingproxy({'__module__': '__main__',\n",
       "              'raise_amount': 1.04,\n",
       "              '__init__': <function __main__.Employee.__init__(self, first, last, pay)>,\n",
       "              'FullName': <function __main__.Employee.FullName(self)>,\n",
       "              'apply_raise': <function __main__.Employee.apply_raise(self)>,\n",
       "              '__dict__': <attribute '__dict__' of 'Employee' objects>,\n",
       "              '__weakref__': <attribute '__weakref__' of 'Employee' objects>,\n",
       "              '__doc__': None})"
      ]
     },
     "execution_count": 77,
     "metadata": {},
     "output_type": "execute_result"
    }
   ],
   "source": [
    "Employee.__dict__"
   ]
  },
  {
   "cell_type": "code",
   "execution_count": 78,
   "id": "a2936e86",
   "metadata": {},
   "outputs": [],
   "source": [
    "Employee.raise_amount = 1.05"
   ]
  },
  {
   "cell_type": "code",
   "execution_count": 79,
   "id": "267f83dc",
   "metadata": {},
   "outputs": [
    {
     "data": {
      "text/plain": [
       "1.05"
      ]
     },
     "execution_count": 79,
     "metadata": {},
     "output_type": "execute_result"
    }
   ],
   "source": [
    "emp_1.raise_amount"
   ]
  },
  {
   "cell_type": "code",
   "execution_count": 80,
   "id": "b86c1836",
   "metadata": {},
   "outputs": [],
   "source": [
    "emp_1.raise_amount = 0.6"
   ]
  },
  {
   "cell_type": "code",
   "execution_count": 81,
   "id": "1a019974",
   "metadata": {},
   "outputs": [
    {
     "data": {
      "text/plain": [
       "0.6"
      ]
     },
     "execution_count": 81,
     "metadata": {},
     "output_type": "execute_result"
    }
   ],
   "source": [
    "emp_1.raise_amount"
   ]
  },
  {
   "cell_type": "code",
   "execution_count": 82,
   "id": "5c9aa062",
   "metadata": {},
   "outputs": [
    {
     "data": {
      "text/plain": [
       "1.05"
      ]
     },
     "execution_count": 82,
     "metadata": {},
     "output_type": "execute_result"
    }
   ],
   "source": [
    "Employee.raise_amount"
   ]
  },
  {
   "cell_type": "code",
   "execution_count": 83,
   "id": "1446d2cf",
   "metadata": {},
   "outputs": [],
   "source": [
    "class Employee:\n",
    "    \n",
    "    raise_amount = 1.04\n",
    "    num_of_emps = 0\n",
    "    \n",
    "    def __init__(self,first,last,pay):\n",
    "        self.first = first\n",
    "        self.last = last\n",
    "        self.pay = pay\n",
    "        self.email = first +'.'+last+'@company.com'\n",
    "        \n",
    "        Employee.num_of_emps += 1\n",
    "        \n",
    "    def FullName(self):\n",
    "        return f'{self.first} {self.last}'\n",
    "    def apply_raise(self):\n",
    "        self.pay = int(self.pay * self.raise_amount)# or Employee.raise_amount"
   ]
  },
  {
   "cell_type": "code",
   "execution_count": 84,
   "id": "b4d92f94",
   "metadata": {},
   "outputs": [],
   "source": [
    "emp_1 = Employee('Corey','Schafer',50000) # each instance of the class\n",
    "emp_2 = Employee('Test','User',60000)"
   ]
  },
  {
   "cell_type": "code",
   "execution_count": 85,
   "id": "dcfd7ea7",
   "metadata": {},
   "outputs": [
    {
     "name": "stdout",
     "output_type": "stream",
     "text": [
      "2\n"
     ]
    }
   ],
   "source": [
    "print(Employee.num_of_emps)"
   ]
  }
 ],
 "metadata": {
  "kernelspec": {
   "display_name": "Python 3 (ipykernel)",
   "language": "python",
   "name": "python3"
  },
  "language_info": {
   "codemirror_mode": {
    "name": "ipython",
    "version": 3
   },
   "file_extension": ".py",
   "mimetype": "text/x-python",
   "name": "python",
   "nbconvert_exporter": "python",
   "pygments_lexer": "ipython3",
   "version": "3.9.7"
  }
 },
 "nbformat": 4,
 "nbformat_minor": 5
}
