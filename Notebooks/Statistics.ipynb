{
 "cells": [
  {
   "cell_type": "markdown",
   "metadata": {
    "id": "kDeWWIp3Ea_X"
   },
   "source": [
    "# Statistics 7th August"
   ]
  },
  {
   "cell_type": "markdown",
   "metadata": {
    "id": "UXth-PUXR70O"
   },
   "source": [
    "* what is stats\n",
    "* different types of statistics\n",
    "* population and sample\n",
    "* types of datatypes\n",
    "* measures of central tendency\n",
    "* measure of dispersion\n",
    "* population mean and sample mean\n",
    "* population varaince and sample variance"
   ]
  },
  {
   "cell_type": "markdown",
   "metadata": {
    "id": "ze5GYu_tR77M"
   },
   "source": [
    "* *Statistics is a science that deals with methodologies to gather, review, analyse, visualize and draw conclusions from data. In Real world, when we talk about data, we talk about population data and sample data.*\n",
    "\n",
    "* Types of Statistics\n",
    "    * Descriptive Statistics\n",
    "    * Inferential Statistics\n",
    "\n",
    "* Descriptive Statistics\n",
    "    * Analyse, Visualize and Summarize\n",
    "    * Histograms, bar plots, pie chart, pdf, cdf\n",
    "    * Measures of Central Tendency (Mean,Median,Mode)\n",
    "    * Measures of variance or dispersion (Standard deviation and Variance),Range\n",
    "\n",
    "* Inferential Statistics\n",
    "    * *Taking sample data and making conclusions from the population data.*\n",
    "    * Z Test\n",
    "    * T test\n",
    "    * Chi square test\n",
    "    * Anova Test (F Test)\n",
    "    * Hypothesis Testing"
   ]
  },
  {
   "cell_type": "markdown",
   "metadata": {
    "id": "LcyoEJntR7-0"
   },
   "source": [
    "* Different types of Sampling Techniques\n",
    "\n",
    "    * Simple Random Sampling\n",
    "      * pick up random data\n",
    "    * Stratified Sampling ( Stratified == Layers)\n",
    "      * Stratified random sampling is a method of sampling that involves the division of a population into smaller sub-groups known as strata. In stratified random sampling, or stratification, the strata are formed based on members' shared attributes or characteristics such as income or educational attainment.\n",
    "Stratified random sampling is also called proportional random sampling or quota random sampling. \n",
    "      * representaions of population data into smaller sub groups. representation of all stratas of the population.\n",
    "    * Systematic Sampling\n",
    "      * We ask every 10th person we meet, we will get input.\n",
    "      * We have a systematic approach.\n",
    "    * Convenience Sampling / Cluster Sampling\n",
    "      * If we do a survey with respect to datascience, who should be the ones who should fill the survey and not random people who dont know the subbject."
   ]
  },
  {
   "cell_type": "markdown",
   "metadata": {
    "id": "t-wnqlyVR8C2"
   },
   "source": [
    "* Types of Data\n",
    "  \n",
    "  * Categorical Data (Fixed number of categories)\n",
    "      * Eg : Gender\n",
    "  * Numerical Data\n",
    "    * Discrete (whole number)\n",
    "      * Eg : Number of people in a family\n",
    "    * Continous Data (decimal number)\n",
    "      * Eg : Age, Height\n",
    "  * Nominal Data\n",
    "    * No order\n",
    "      * Eg : colors, Gender, ice cream flavors\n",
    "  * Ordinal Data\n",
    "    * Rank is also important, can be ordered\n",
    "      * Eg : rank of Student, Dress size, days of the week"
   ]
  },
  {
   "cell_type": "markdown",
   "metadata": {
    "id": "minVGhQCYoan"
   },
   "source": [
    "* Data is also called as variables.\n",
    "* We can write Monday as 1, Tuesday as 2, and so on. but this is not a good technique as it says Monday is less than Tuesday. We will learn in the future."
   ]
  },
  {
   "cell_type": "markdown",
   "metadata": {
    "id": "2fhuLMtSa63u"
   },
   "source": [
    "# Level of Measurement :\n",
    "  * we need something to measure the variables.\n",
    "\n",
    "  * Qualitative\n",
    "    * Nominal\n",
    "    * Ordinal\n",
    "  * Quantitative\n",
    "    * Interval\n",
    "      * Eg : Age, Temperature\n",
    "    * Ratio\n",
    "      * Eg : Savings ratio\n",
    "\n",
    "* For categorical data, we can perform statistical computation which is *CHI SQUARE TEST*"
   ]
  },
  {
   "cell_type": "markdown",
   "metadata": {
    "id": "pVqQ9JWuhxVO"
   },
   "source": [
    "# Measures of Central Tendency\n",
    "\n",
    "*Summary in statistics that represents the central point of a dataset*\n",
    "\n",
    "* Mean\n",
    "* Median\n",
    "* Mode\n",
    "\n",
    "Age : 10,15,20,25,30,35"
   ]
  },
  {
   "cell_type": "code",
   "execution_count": null,
   "metadata": {
    "colab": {
     "base_uri": "https://localhost:8080/"
    },
    "executionInfo": {
     "elapsed": 396,
     "status": "ok",
     "timestamp": 1658285876031,
     "user": {
      "displayName": "Raghav AK",
      "userId": "00754895325531397942"
     },
     "user_tz": 240
    },
    "id": "yPSYLyk3iYHC",
    "outputId": "75157fcb-ec8f-46ec-e9ec-0540d0d45bbd"
   },
   "outputs": [
    {
     "data": {
      "text/plain": [
       "18.0"
      ]
     },
     "execution_count": 3,
     "metadata": {},
     "output_type": "execute_result"
    }
   ],
   "source": [
    "(18 + 20 + 25 + 20 +15 + 10) / 6"
   ]
  },
  {
   "cell_type": "code",
   "execution_count": null,
   "metadata": {
    "colab": {
     "base_uri": "https://localhost:8080/"
    },
    "executionInfo": {
     "elapsed": 361,
     "status": "ok",
     "timestamp": 1658285959368,
     "user": {
      "displayName": "Raghav AK",
      "userId": "00754895325531397942"
     },
     "user_tz": 240
    },
    "id": "j6ihWeVDieCF",
    "outputId": "43480914-3d8a-422d-a182-adce5540bb0f"
   },
   "outputs": [
    {
     "data": {
      "text/plain": [
       "29.714285714285715"
      ]
     },
     "execution_count": 4,
     "metadata": {},
     "output_type": "execute_result"
    }
   ],
   "source": [
    "(18 + 20 + 25 + 20 +15 + 10 + 100) / 7"
   ]
  },
  {
   "cell_type": "markdown",
   "metadata": {
    "id": "USOpHhp8i8QZ"
   },
   "source": [
    "* Mean is impacted on outliers\n",
    "* one workaround for outlier impact on mean is median. The impact will be less\n",
    "* Another workaround is mode but preferably median is used\n",
    "* When features are categorical, we can use mode"
   ]
  },
  {
   "cell_type": "code",
   "execution_count": null,
   "metadata": {
    "id": "VYVj2uF9i6Ml"
   },
   "outputs": [],
   "source": [
    "# middle element using median is 20"
   ]
  },
  {
   "cell_type": "markdown",
   "metadata": {
    "id": "GBLxBeKTk6AP"
   },
   "source": [
    "# Skewness Effects and use of central tendency\n",
    "\n",
    "* Right skew /positive skew => mode < median < mean --> Salary\n",
    "* Left skew / negative skew => mode > median > mean --> Death rate\n",
    "* no skewness => mean == median == mode (Symmetric distribution/ Gaussian distribution)"
   ]
  },
  {
   "cell_type": "markdown",
   "metadata": {
    "id": "oMBg5GSym8WB"
   },
   "source": [
    "# Measures of Dispersion\n",
    "\n",
    "* Range\n",
    "  * max value - min value\n",
    "* Variance\n",
    "* Standard Deviation"
   ]
  },
  {
   "cell_type": "code",
   "execution_count": null,
   "metadata": {
    "id": "YbpWZPPLjkew"
   },
   "outputs": [],
   "source": [
    "# if our standard dev is small, our distribution will be less\n",
    "# why we use std dev..suppose if there are 2 distributions and the mean are same, we use std dev to see if the spread is more or not\n",
    "# if spread is more, we can use the less spread distribution\n",
    "# This is how we differentiate distribution"
   ]
  },
  {
   "cell_type": "markdown",
   "metadata": {
    "id": "BeofQKXdr612"
   },
   "source": [
    "# Population:\n",
    "  * N size\n",
    "  * mew\n",
    "  * sigma\n",
    "\n",
    "# Sample\n",
    "  * n size\n",
    "  * x bar\n",
    "  * S"
   ]
  },
  {
   "cell_type": "code",
   "execution_count": null,
   "metadata": {
    "id": "BRJ4JEOqpsR0"
   },
   "outputs": [],
   "source": [
    "# In statistics, Bessel's correction is the use of n − 1 instead of n in the formula for the sample variance and sample standard deviation, where n is the number of observations in a sample. This method corrects the bias in the estimation of the population variance."
   ]
  },
  {
   "cell_type": "markdown",
   "metadata": {
    "id": "Xv8_87AOwoi2"
   },
   "source": [
    "# 8th August Statistics II"
   ]
  },
  {
   "cell_type": "code",
   "execution_count": null,
   "metadata": {
    "id": "BGosvSMNwv2x"
   },
   "outputs": [],
   "source": [
    "# Percentiles\n",
    "# Quantiles\n",
    "# 5 number summary\n",
    "# Outliers {Effects of Outliers}\n",
    "# Pratical part\n",
    "# Probability"
   ]
  },
  {
   "cell_type": "markdown",
   "metadata": {},
   "source": [
    "###### Percentiles"
   ]
  },
  {
   "cell_type": "raw",
   "metadata": {},
   "source": [
    "Percentile calculation (to get the percentile percentage)\n",
    "\n",
    "Percentile rank of x  = # number of below x / x * 100"
   ]
  },
  {
   "cell_type": "raw",
   "metadata": {},
   "source": [
    "Percentile (25%) = Percentile / 100 * (n-1)"
   ]
  },
  {
   "cell_type": "markdown",
   "metadata": {},
   "source": [
    "###### Quantiles"
   ]
  },
  {
   "cell_type": "code",
   "execution_count": null,
   "metadata": {},
   "outputs": [],
   "source": [
    "# 25th percentile --> 1st Quantile\n",
    "# 50th percentile --> 2nd Quantile\n",
    "# 75th percentile --> 3rd Quantile"
   ]
  },
  {
   "cell_type": "markdown",
   "metadata": {},
   "source": [
    "###### 5 number summary and outliers"
   ]
  },
  {
   "cell_type": "code",
   "execution_count": null,
   "metadata": {},
   "outputs": [],
   "source": [
    "# Minimum\n",
    "# First Quantile / Q1 / 25th Percentile\n",
    "# Median\n",
    "# Third Quantile/ Q3 / 75th percentile\n",
    "# Maximum\n",
    "\n",
    "# we use boxplot to check the outliers with the help of IQR\n",
    "\n",
    "# IQR = Q3 - Q1\n",
    "# points greater than higher bound and points less than lower bound are called outliers.\n",
    "# lower fence /bound = Q1 - 1.5 * IQR\n",
    "# upper fence /bound = Q3 + 1.5 * IQR"
   ]
  },
  {
   "cell_type": "code",
   "execution_count": 1,
   "metadata": {},
   "outputs": [
    {
     "data": {
      "text/plain": [
       "(1, 2, 2, 2, 3, 3, 4, 5, 5, 6, 6, 6, 6, 7, 8, 8, 9, 27)"
      ]
     },
     "execution_count": 1,
     "metadata": {},
     "output_type": "execute_result"
    }
   ],
   "source": [
    "1,2,2,2,3,3,4,5,5,6,6,6,6,7,8,8,9,27"
   ]
  },
  {
   "cell_type": "code",
   "execution_count": 8,
   "metadata": {},
   "outputs": [],
   "source": [
    "Q1_index = (25/100) *17\n",
    "Q3_index = (75/100) *17"
   ]
  },
  {
   "cell_type": "code",
   "execution_count": 12,
   "metadata": {},
   "outputs": [],
   "source": [
    "Q1 = 2.5\n",
    "Q3 = 6"
   ]
  },
  {
   "cell_type": "code",
   "execution_count": 13,
   "metadata": {},
   "outputs": [],
   "source": [
    "IQR = Q3-Q1"
   ]
  },
  {
   "cell_type": "code",
   "execution_count": 14,
   "metadata": {},
   "outputs": [],
   "source": [
    "lwr = Q1 - 1.5 * IQR\n",
    "upr = Q3 + 1.5 * IQR"
   ]
  },
  {
   "cell_type": "code",
   "execution_count": 20,
   "metadata": {},
   "outputs": [
    {
     "name": "stdout",
     "output_type": "stream",
     "text": [
      "4.25 12.75 11.25 -2.75 3.5 2.5 6\n"
     ]
    }
   ],
   "source": [
    "print(Q1_index,Q3_index,upr,lwr,IQR,Q1,Q3)"
   ]
  },
  {
   "cell_type": "code",
   "execution_count": 16,
   "metadata": {},
   "outputs": [],
   "source": [
    "import numpy as np"
   ]
  },
  {
   "cell_type": "code",
   "execution_count": 18,
   "metadata": {},
   "outputs": [
    {
     "data": {
      "text/plain": [
       "3.0"
      ]
     },
     "execution_count": 18,
     "metadata": {},
     "output_type": "execute_result"
    }
   ],
   "source": [
    "np.quantile((1,2,2,2,3,3,4,5,5,6,6,6,6,7,8,8,9,27),0.25)"
   ]
  },
  {
   "cell_type": "code",
   "execution_count": 19,
   "metadata": {},
   "outputs": [
    {
     "data": {
      "text/plain": [
       "6.75"
      ]
     },
     "execution_count": 19,
     "metadata": {},
     "output_type": "execute_result"
    }
   ],
   "source": [
    "np.quantile((1,2,2,2,3,3,4,5,5,6,6,6,6,7,8,8,9,27),0.75)"
   ]
  },
  {
   "cell_type": "code",
   "execution_count": 21,
   "metadata": {},
   "outputs": [
    {
     "data": {
      "text/plain": [
       "5.5"
      ]
     },
     "execution_count": 21,
     "metadata": {},
     "output_type": "execute_result"
    }
   ],
   "source": [
    "np.quantile((1,2,2,2,3,3,4,5,5,6,6,6,6,7,8,8,9,27),0.50)"
   ]
  },
  {
   "cell_type": "code",
   "execution_count": null,
   "metadata": {},
   "outputs": [],
   "source": [
    "# Here 27 is an outlier "
   ]
  },
  {
   "cell_type": "code",
   "execution_count": 22,
   "metadata": {},
   "outputs": [],
   "source": [
    "import seaborn as sns"
   ]
  },
  {
   "cell_type": "code",
   "execution_count": 29,
   "metadata": {},
   "outputs": [
    {
     "data": {
      "text/plain": [
       "<AxesSubplot:>"
      ]
     },
     "execution_count": 29,
     "metadata": {},
     "output_type": "execute_result"
    },
    {
     "data": {
      "image/png": "[encoded data removed]",
      "text/plain": [
       "<Figure size 432x288 with 1 Axes>"
      ]
     },
     "metadata": {
      "needs_background": "light"
     },
     "output_type": "display_data"
    }
   ],
   "source": [
    "sns.boxplot(data = [1,2,2,2,3,3,4,5,5,6,6,6,6,7,8,8,9,27])"
   ]
  },
  {
   "cell_type": "code",
   "execution_count": 30,
   "metadata": {},
   "outputs": [],
   "source": [
    "data = [1,2,2,2,3,3,4,5,5,6,6,6,6,7,8,8,9,27]"
   ]
  },
  {
   "cell_type": "code",
   "execution_count": 33,
   "metadata": {},
   "outputs": [
    {
     "name": "stderr",
     "output_type": "stream",
     "text": [
      "C:\\ProgramData\\Anaconda3\\lib\\site-packages\\seaborn\\distributions.py:2619: FutureWarning: `distplot` is a deprecated function and will be removed in a future version. Please adapt your code to use either `displot` (a figure-level function with similar flexibility) or `histplot` (an axes-level function for histograms).\n",
      "  warnings.warn(msg, FutureWarning)\n"
     ]
    },
    {
     "data": {
      "text/plain": [
       "<AxesSubplot:ylabel='Density'>"
      ]
     },
     "execution_count": 33,
     "metadata": {},
     "output_type": "execute_result"
    },
    {
     "data": {
      "image/png": "[encoded data removed]",
      "text/plain": [
       "<Figure size 432x288 with 1 Axes>"
      ]
     },
     "metadata": {
      "needs_background": "light"
     },
     "output_type": "display_data"
    }
   ],
   "source": [
    "sns.distplot(data)"
   ]
  },
  {
   "cell_type": "code",
   "execution_count": 36,
   "metadata": {},
   "outputs": [],
   "source": [
    "from scipy.stats import skew"
   ]
  },
  {
   "cell_type": "code",
   "execution_count": 37,
   "metadata": {},
   "outputs": [
    {
     "data": {
      "text/plain": [
       "2.8296460426069903"
      ]
     },
     "execution_count": 37,
     "metadata": {},
     "output_type": "execute_result"
    }
   ],
   "source": [
    "skew(data) # Right skewed"
   ]
  },
  {
   "cell_type": "code",
   "execution_count": 38,
   "metadata": {},
   "outputs": [
    {
     "data": {
      "text/plain": [
       "6.111111111111111"
      ]
     },
     "execution_count": 38,
     "metadata": {},
     "output_type": "execute_result"
    }
   ],
   "source": [
    "np.mean(data)"
   ]
  },
  {
   "cell_type": "code",
   "execution_count": 39,
   "metadata": {},
   "outputs": [
    {
     "data": {
      "text/plain": [
       "5.5"
      ]
     },
     "execution_count": 39,
     "metadata": {},
     "output_type": "execute_result"
    }
   ],
   "source": [
    "np.median(data)"
   ]
  },
  {
   "cell_type": "markdown",
   "metadata": {},
   "source": [
    "###### Probability"
   ]
  },
  {
   "cell_type": "code",
   "execution_count": null,
   "metadata": {},
   "outputs": [],
   "source": [
    "# mutual exclusives --> getting one outputs\n",
    "# non mutual exclusives --> getting multiple output"
   ]
  },
  {
   "cell_type": "code",
   "execution_count": null,
   "metadata": {},
   "outputs": [],
   "source": [
    "# Mutual Exclusive on Additive rule\n",
    "# Non Mutual Exclusive on Additive rule\n",
    "# Multiplicative rule for independent events\n",
    "# Multiplicative rule for dependent events"
   ]
  },
  {
   "cell_type": "code",
   "execution_count": null,
   "metadata": {},
   "outputs": [],
   "source": [
    "# Independent Event\n",
    "# Dependent Event"
   ]
  },
  {
   "cell_type": "markdown",
   "metadata": {},
   "source": [
    "###### Permutations"
   ]
  },
  {
   "cell_type": "code",
   "execution_count": null,
   "metadata": {},
   "outputs": [],
   "source": [
    "# All the possible combinations\n",
    "# P (n,r) = n!/ (n-r)!"
   ]
  },
  {
   "cell_type": "code",
   "execution_count": 40,
   "metadata": {},
   "outputs": [
    {
     "data": {
      "text/plain": [
       "120.0"
      ]
     },
     "execution_count": 40,
     "metadata": {},
     "output_type": "execute_result"
    }
   ],
   "source": [
    "(6*5*4*3*2*1) / (3*2)"
   ]
  },
  {
   "cell_type": "markdown",
   "metadata": {},
   "source": [
    "###### Combinations"
   ]
  },
  {
   "cell_type": "code",
   "execution_count": null,
   "metadata": {},
   "outputs": [],
   "source": [
    "# Here, the order matters\n",
    "# n! / ( n − r)! X r!"
   ]
  },
  {
   "cell_type": "code",
   "execution_count": null,
   "metadata": {},
   "outputs": [],
   "source": [
    "# <<<-----------------------------------PRACTICAL SESSION--------------------------------------->>>"
   ]
  },
  {
   "cell_type": "code",
   "execution_count": 41,
   "metadata": {},
   "outputs": [],
   "source": [
    "import numpy as np\n",
    "from scipy import stats"
   ]
  },
  {
   "cell_type": "code",
   "execution_count": 44,
   "metadata": {},
   "outputs": [],
   "source": [
    "lst = [1,2,3,4,5,76,7,4,3]"
   ]
  },
  {
   "cell_type": "code",
   "execution_count": 45,
   "metadata": {},
   "outputs": [
    {
     "data": {
      "text/plain": [
       "11.666666666666666"
      ]
     },
     "execution_count": 45,
     "metadata": {},
     "output_type": "execute_result"
    }
   ],
   "source": [
    "np.mean(lst)"
   ]
  },
  {
   "cell_type": "code",
   "execution_count": 46,
   "metadata": {},
   "outputs": [
    {
     "data": {
      "text/plain": [
       "4.0"
      ]
     },
     "execution_count": 46,
     "metadata": {},
     "output_type": "execute_result"
    }
   ],
   "source": [
    "np.median(lst)"
   ]
  },
  {
   "cell_type": "code",
   "execution_count": 47,
   "metadata": {},
   "outputs": [
    {
     "ename": "TypeError",
     "evalue": "remainder() takes from 2 to 3 positional arguments but 1 were given",
     "output_type": "error",
     "traceback": [
      "\u001b[1;31m---------------------------------------------------------------------------\u001b[0m",
      "\u001b[1;31mTypeError\u001b[0m                                 Traceback (most recent call last)",
      "\u001b[1;32mC:\\Users\\KARTHI~1\\AppData\\Local\\Temp/ipykernel_3332/248660618.py\u001b[0m in \u001b[0;36m<module>\u001b[1;34m\u001b[0m\n\u001b[1;32m----> 1\u001b[1;33m \u001b[0mnp\u001b[0m\u001b[1;33m.\u001b[0m\u001b[0mmod\u001b[0m\u001b[1;33m(\u001b[0m\u001b[0mlst\u001b[0m\u001b[1;33m)\u001b[0m\u001b[1;33m\u001b[0m\u001b[1;33m\u001b[0m\u001b[0m\n\u001b[0m",
      "\u001b[1;31mTypeError\u001b[0m: remainder() takes from 2 to 3 positional arguments but 1 were given"
     ]
    }
   ],
   "source": [
    "np.mod(lst)"
   ]
  },
  {
   "cell_type": "code",
   "execution_count": 48,
   "metadata": {},
   "outputs": [
    {
     "data": {
      "text/plain": [
       "3.625"
      ]
     },
     "execution_count": 48,
     "metadata": {},
     "output_type": "execute_result"
    }
   ],
   "source": [
    "lst = [1,2,3,4,5,7,4,3]\n",
    "np.mean(lst)"
   ]
  },
  {
   "cell_type": "code",
   "execution_count": 49,
   "metadata": {},
   "outputs": [
    {
     "data": {
      "text/plain": [
       "3.5"
      ]
     },
     "execution_count": 49,
     "metadata": {},
     "output_type": "execute_result"
    }
   ],
   "source": [
    "np.median(lst)"
   ]
  },
  {
   "cell_type": "code",
   "execution_count": 50,
   "metadata": {},
   "outputs": [
    {
     "data": {
      "text/plain": [
       "ModeResult(mode=array([3]), count=array([2]))"
      ]
     },
     "execution_count": 50,
     "metadata": {},
     "output_type": "execute_result"
    }
   ],
   "source": [
    "stats.mode(lst)"
   ]
  },
  {
   "cell_type": "code",
   "execution_count": 51,
   "metadata": {},
   "outputs": [],
   "source": [
    "lst = [1,2,5,7,4,3]"
   ]
  },
  {
   "cell_type": "code",
   "execution_count": 52,
   "metadata": {},
   "outputs": [
    {
     "data": {
      "text/plain": [
       "ModeResult(mode=array([1]), count=array([1]))"
      ]
     },
     "execution_count": 52,
     "metadata": {},
     "output_type": "execute_result"
    }
   ],
   "source": [
    "stats.mode(lst)"
   ]
  },
  {
   "cell_type": "code",
   "execution_count": 53,
   "metadata": {},
   "outputs": [
    {
     "data": {
      "text/plain": [
       "2.25"
      ]
     },
     "execution_count": 53,
     "metadata": {},
     "output_type": "execute_result"
    }
   ],
   "source": [
    "np.quantile(lst,0.25)"
   ]
  },
  {
   "cell_type": "code",
   "execution_count": 54,
   "metadata": {},
   "outputs": [],
   "source": [
    "lst = [1,2,3,4,5,76,7,4,3]"
   ]
  },
  {
   "cell_type": "code",
   "execution_count": 56,
   "metadata": {},
   "outputs": [
    {
     "data": {
      "text/plain": [
       "3.0"
      ]
     },
     "execution_count": 56,
     "metadata": {},
     "output_type": "execute_result"
    }
   ],
   "source": [
    "np.percentile(lst,25)"
   ]
  },
  {
   "cell_type": "code",
   "execution_count": 57,
   "metadata": {},
   "outputs": [
    {
     "data": {
      "text/plain": [
       "5.0"
      ]
     },
     "execution_count": 57,
     "metadata": {},
     "output_type": "execute_result"
    }
   ],
   "source": [
    "np.percentile(lst,75)"
   ]
  },
  {
   "cell_type": "markdown",
   "metadata": {},
   "source": []
  },
  {
   "cell_type": "code",
   "execution_count": 58,
   "metadata": {},
   "outputs": [],
   "source": [
    "data = [1,2,2,2,3,3,4,5,5,6,6,6,6,7,8,8,9,27]"
   ]
  },
  {
   "cell_type": "code",
   "execution_count": 60,
   "metadata": {},
   "outputs": [
    {
     "data": {
      "text/plain": [
       "3.0"
      ]
     },
     "execution_count": 60,
     "metadata": {},
     "output_type": "execute_result"
    }
   ],
   "source": [
    "Q1 = np.quantile(data,.25)\n",
    "Q3 = np.quantile(data,.75)"
   ]
  },
  {
   "cell_type": "code",
   "execution_count": 63,
   "metadata": {},
   "outputs": [],
   "source": [
    "IQR = Q3 - Q1"
   ]
  },
  {
   "cell_type": "code",
   "execution_count": 64,
   "metadata": {},
   "outputs": [],
   "source": [
    "upper = Q3 + IQR * 1.5\n",
    "lower = Q1 - IQR * 1.5"
   ]
  },
  {
   "cell_type": "code",
   "execution_count": 65,
   "metadata": {},
   "outputs": [],
   "source": [
    "detect_outlier = lambda x : x > upper or x < lower"
   ]
  },
  {
   "cell_type": "code",
   "execution_count": 73,
   "metadata": {},
   "outputs": [],
   "source": [
    "outliers = list(filter(detect_outlier,data))"
   ]
  },
  {
   "cell_type": "code",
   "execution_count": 74,
   "metadata": {},
   "outputs": [
    {
     "name": "stdout",
     "output_type": "stream",
     "text": [
      "[27]\n"
     ]
    }
   ],
   "source": [
    "print(outliers)"
   ]
  },
  {
   "cell_type": "code",
   "execution_count": 75,
   "metadata": {},
   "outputs": [],
   "source": [
    "Q1 = np.percentile(data,25)\n",
    "Q3 = np.percentile(data,75)\n",
    "IQR = Q3 - Q1\n",
    "upper = Q3 + IQR * 1.5\n",
    "lower = Q1 - IQR * 1.5"
   ]
  },
  {
   "cell_type": "code",
   "execution_count": 76,
   "metadata": {},
   "outputs": [
    {
     "name": "stdout",
     "output_type": "stream",
     "text": [
      "[27]\n"
     ]
    }
   ],
   "source": [
    "detect_outlier = lambda x : x > upper or x < lower\n",
    "outliers = list(filter(detect_outlier,data))\n",
    "print(outliers)"
   ]
  },
  {
   "cell_type": "code",
   "execution_count": 77,
   "metadata": {},
   "outputs": [
    {
     "data": {
      "text/plain": [
       "30.87654320987654"
      ]
     },
     "execution_count": 77,
     "metadata": {},
     "output_type": "execute_result"
    }
   ],
   "source": [
    "np.var(data)"
   ]
  },
  {
   "cell_type": "code",
   "execution_count": 78,
   "metadata": {},
   "outputs": [
    {
     "data": {
      "text/plain": [
       "5.556666555577772"
      ]
     },
     "execution_count": 78,
     "metadata": {},
     "output_type": "execute_result"
    }
   ],
   "source": [
    "np.std(data)"
   ]
  },
  {
   "cell_type": "code",
   "execution_count": 79,
   "metadata": {},
   "outputs": [
    {
     "data": {
      "text/plain": [
       "array([3.  , 6.75])"
      ]
     },
     "execution_count": 79,
     "metadata": {},
     "output_type": "execute_result"
    }
   ],
   "source": [
    "np.percentile(data,[25,75])"
   ]
  },
  {
   "cell_type": "code",
   "execution_count": 80,
   "metadata": {},
   "outputs": [
    {
     "data": {
      "text/plain": [
       "array([3.  , 6.75])"
      ]
     },
     "execution_count": 80,
     "metadata": {},
     "output_type": "execute_result"
    }
   ],
   "source": [
    "np.quantile(data,[.25,.75])"
   ]
  },
  {
   "cell_type": "markdown",
   "metadata": {},
   "source": [
    "# 14th August Statistics III"
   ]
  },
  {
   "cell_type": "code",
   "execution_count": null,
   "metadata": {},
   "outputs": [],
   "source": []
  },
  {
   "cell_type": "code",
   "execution_count": null,
   "metadata": {},
   "outputs": [],
   "source": []
  },
  {
   "cell_type": "code",
   "execution_count": null,
   "metadata": {},
   "outputs": [],
   "source": []
  },
  {
   "cell_type": "code",
   "execution_count": null,
   "metadata": {},
   "outputs": [],
   "source": []
  }
 ],
 "metadata": {
  "colab": {
   "authorship_tag": "ABX9TyP2IoBxeyNIvY8t2YFJCh8P",
   "collapsed_sections": [],
   "name": "Statistics.ipynb",
   "provenance": []
  },
  "kernelspec": {
   "display_name": "Python 3 (ipykernel)",
   "language": "python",
   "name": "python3"
  },
  "language_info": {
   "codemirror_mode": {
    "name": "ipython",
    "version": 3
   },
   "file_extension": ".py",
   "mimetype": "text/x-python",
   "name": "python",
   "nbconvert_exporter": "python",
   "pygments_lexer": "ipython3",
   "version": "3.9.7"
  }
 },
 "nbformat": 4,
 "nbformat_minor": 1
}
