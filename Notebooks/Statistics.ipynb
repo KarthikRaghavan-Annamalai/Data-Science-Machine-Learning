{
 "cells": [
  {
   "cell_type": "markdown",
   "metadata": {
    "id": "kDeWWIp3Ea_X"
   },
   "source": [
    "# Statistics 7th August"
   ]
  },
  {
   "cell_type": "markdown",
   "metadata": {
    "id": "UXth-PUXR70O"
   },
   "source": [
    "* what is stats\n",
    "* different types of statistics\n",
    "* population and sample\n",
    "* types of datatypes\n",
    "* measures of central tendency\n",
    "* measure of dispersion\n",
    "* population mean and sample mean\n",
    "* population varaince and sample variance"
   ]
  },
  {
   "cell_type": "markdown",
   "metadata": {
    "id": "ze5GYu_tR77M"
   },
   "source": [
    "* *Statistics is a science that deals with methodologies to gather, review, analyse, visualize and draw conclusions from data. In Real world, when we talk about data, we talk about population data and sample data.*\n",
    "\n",
    "* Types of Statistics\n",
    "    * Descriptive Statistics\n",
    "    * Inferential Statistics\n",
    "\n",
    "* Descriptive Statistics\n",
    "    * Analyse, Visualize and Summarize\n",
    "    * Histograms, bar plots, pie chart, pdf, cdf\n",
    "    * Measures of Central Tendency (Mean,Median,Mode)\n",
    "    * Measures of variance or dispersion (Standard deviation and Variance),Range\n",
    "\n",
    "* Inferential Statistics\n",
    "    * *Taking sample data and making conclusions from the population data.*\n",
    "    * Z Test\n",
    "    * T test\n",
    "    * Chi square test\n",
    "    * Anova Test (F Test)\n",
    "    * Hypothesis Testing"
   ]
  },
  {
   "cell_type": "markdown",
   "metadata": {
    "id": "LcyoEJntR7-0"
   },
   "source": [
    "* Different types of Sampling Techniques\n",
    "\n",
    "    * Simple Random Sampling\n",
    "      * pick up random data\n",
    "    * Stratified Sampling ( Stratified == Layers)\n",
    "      * Stratified random sampling is a method of sampling that involves the division of a population into smaller sub-groups known as strata. In stratified random sampling, or stratification, the strata are formed based on members' shared attributes or characteristics such as income or educational attainment.\n",
    "Stratified random sampling is also called proportional random sampling or quota random sampling. \n",
    "      * representaions of population data into smaller sub groups. representation of all stratas of the population.\n",
    "    * Systematic Sampling\n",
    "      * We ask every 10th person we meet, we will get input.\n",
    "      * We have a systematic approach.\n",
    "    * Convenience Sampling / Cluster Sampling\n",
    "      * If we do a survey with respect to datascience, who should be the ones who should fill the survey and not random people who dont know the subbject."
   ]
  },
  {
   "cell_type": "markdown",
   "metadata": {
    "id": "t-wnqlyVR8C2"
   },
   "source": [
    "* Types of Data\n",
    "  \n",
    "  * Categorical Data (Fixed number of categories)\n",
    "      * Eg : Gender\n",
    "  * Numerical Data\n",
    "    * Discrete (whole number)\n",
    "      * Eg : Number of people in a family\n",
    "    * Continous Data (decimal number)\n",
    "      * Eg : Age, Height\n",
    "  * Nominal Data\n",
    "    * No order\n",
    "      * Eg : colors, Gender, ice cream flavors\n",
    "  * Ordinal Data\n",
    "    * Rank is also important, can be ordered\n",
    "      * Eg : rank of Student, Dress size, days of the week"
   ]
  },
  {
   "cell_type": "markdown",
   "metadata": {
    "id": "minVGhQCYoan"
   },
   "source": [
    "* Data is also called as variables.\n",
    "* We can write Monday as 1, Tuesday as 2, and so on. but this is not a good technique as it says Monday is less than Tuesday. We will learn in the future."
   ]
  },
  {
   "cell_type": "markdown",
   "metadata": {
    "id": "2fhuLMtSa63u"
   },
   "source": [
    "# Level of Measurement :\n",
    "  * we need something to measure the variables.\n",
    "\n",
    "  * Qualitative\n",
    "    * Nominal\n",
    "    * Ordinal\n",
    "  * Quantitative\n",
    "    * Interval\n",
    "      * Eg : Age, Temperature\n",
    "    * Ratio\n",
    "      * Eg : Savings ratio\n",
    "\n",
    "* For categorical data, we can perform statistical computation which is *CHI SQUARE TEST*"
   ]
  },
  {
   "cell_type": "markdown",
   "metadata": {
    "id": "pVqQ9JWuhxVO"
   },
   "source": [
    "# Measures of Central Tendency\n",
    "\n",
    "*Summary in statistics that represents the central point of a dataset*\n",
    "\n",
    "* Mean\n",
    "* Median\n",
    "* Mode\n",
    "\n",
    "Age : 10,15,20,25,30,35"
   ]
  },
  {
   "cell_type": "code",
   "execution_count": null,
   "metadata": {
    "colab": {
     "base_uri": "https://localhost:8080/"
    },
    "executionInfo": {
     "elapsed": 396,
     "status": "ok",
     "timestamp": 1658285876031,
     "user": {
      "displayName": "Raghav AK",
      "userId": "00754895325531397942"
     },
     "user_tz": 240
    },
    "id": "yPSYLyk3iYHC",
    "outputId": "75157fcb-ec8f-46ec-e9ec-0540d0d45bbd"
   },
   "outputs": [
    {
     "data": {
      "text/plain": [
       "18.0"
      ]
     },
     "execution_count": 3,
     "metadata": {},
     "output_type": "execute_result"
    }
   ],
   "source": [
    "(18 + 20 + 25 + 20 +15 + 10) / 6"
   ]
  },
  {
   "cell_type": "code",
   "execution_count": null,
   "metadata": {
    "colab": {
     "base_uri": "https://localhost:8080/"
    },
    "executionInfo": {
     "elapsed": 361,
     "status": "ok",
     "timestamp": 1658285959368,
     "user": {
      "displayName": "Raghav AK",
      "userId": "00754895325531397942"
     },
     "user_tz": 240
    },
    "id": "j6ihWeVDieCF",
    "outputId": "43480914-3d8a-422d-a182-adce5540bb0f"
   },
   "outputs": [
    {
     "data": {
      "text/plain": [
       "29.714285714285715"
      ]
     },
     "execution_count": 4,
     "metadata": {},
     "output_type": "execute_result"
    }
   ],
   "source": [
    "(18 + 20 + 25 + 20 +15 + 10 + 100) / 7"
   ]
  },
  {
   "cell_type": "markdown",
   "metadata": {
    "id": "USOpHhp8i8QZ"
   },
   "source": [
    "* Mean is impacted on outliers\n",
    "* one workaround for outlier impact on mean is median. The impact will be less\n",
    "* Another workaround is mode but preferably median is used\n",
    "* When features are categorical, we can use mode"
   ]
  },
  {
   "cell_type": "code",
   "execution_count": null,
   "metadata": {
    "id": "VYVj2uF9i6Ml"
   },
   "outputs": [],
   "source": [
    "# middle element using median is 20"
   ]
  },
  {
   "cell_type": "markdown",
   "metadata": {
    "id": "GBLxBeKTk6AP"
   },
   "source": [
    "# Skewness Effects and use of central tendency\n",
    "\n",
    "* Right skew /positive skew => mode < median < mean --> Salary\n",
    "* Left skew / negative skew => mode > median > mean --> Death rate\n",
    "* no skewness => mean == median == mode (Symmetric distribution/ Gaussian distribution)"
   ]
  },
  {
   "cell_type": "markdown",
   "metadata": {
    "id": "oMBg5GSym8WB"
   },
   "source": [
    "# Measures of Dispersion\n",
    "\n",
    "* Range\n",
    "  * max value - min value\n",
    "* Variance\n",
    "* Standard Deviation"
   ]
  },
  {
   "cell_type": "code",
   "execution_count": null,
   "metadata": {
    "id": "YbpWZPPLjkew"
   },
   "outputs": [],
   "source": [
    "# if our standard dev is small, our distribution will be less\n",
    "# why we use std dev..suppose if there are 2 distributions and the mean are same, we use std dev to see if the spread is more or not\n",
    "# if spread is more, we can use the less spread distribution\n",
    "# This is how we differentiate distribution"
   ]
  },
  {
   "cell_type": "markdown",
   "metadata": {
    "id": "BeofQKXdr612"
   },
   "source": [
    "# Population:\n",
    "  * N size\n",
    "  * mew\n",
    "  * sigma\n",
    "\n",
    "# Sample\n",
    "  * n size\n",
    "  * x bar\n",
    "  * S"
   ]
  },
  {
   "cell_type": "code",
   "execution_count": null,
   "metadata": {
    "id": "BRJ4JEOqpsR0"
   },
   "outputs": [],
   "source": [
    "# In statistics, Bessel's correction is the use of n − 1 instead of n in the formula for the sample variance and sample standard deviation, where n is the number of observations in a sample. This method corrects the bias in the estimation of the population variance."
   ]
  },
  {
   "cell_type": "markdown",
   "metadata": {
    "id": "Xv8_87AOwoi2"
   },
   "source": [
    "# 8th August Statistics 2"
   ]
  },
  {
   "cell_type": "code",
   "execution_count": null,
   "metadata": {
    "id": "BGosvSMNwv2x"
   },
   "outputs": [],
   "source": []
  },
  {
   "cell_type": "code",
   "execution_count": null,
   "metadata": {},
   "outputs": [],
   "source": []
  },
  {
   "cell_type": "code",
   "execution_count": null,
   "metadata": {},
   "outputs": [],
   "source": []
  },
  {
   "cell_type": "code",
   "execution_count": null,
   "metadata": {},
   "outputs": [],
   "source": []
  },
  {
   "cell_type": "code",
   "execution_count": null,
   "metadata": {},
   "outputs": [],
   "source": []
  },
  {
   "cell_type": "code",
   "execution_count": null,
   "metadata": {},
   "outputs": [],
   "source": []
  },
  {
   "cell_type": "code",
   "execution_count": null,
   "metadata": {},
   "outputs": [],
   "source": []
  },
  {
   "cell_type": "code",
   "execution_count": null,
   "metadata": {},
   "outputs": [],
   "source": []
  },
  {
   "cell_type": "code",
   "execution_count": null,
   "metadata": {},
   "outputs": [],
   "source": []
  },
  {
   "cell_type": "code",
   "execution_count": null,
   "metadata": {},
   "outputs": [],
   "source": []
  },
  {
   "cell_type": "code",
   "execution_count": null,
   "metadata": {},
   "outputs": [],
   "source": []
  },
  {
   "cell_type": "code",
   "execution_count": null,
   "metadata": {},
   "outputs": [],
   "source": []
  },
  {
   "cell_type": "code",
   "execution_count": null,
   "metadata": {},
   "outputs": [],
   "source": []
  }
 ],
 "metadata": {
  "colab": {
   "authorship_tag": "ABX9TyP2IoBxeyNIvY8t2YFJCh8P",
   "collapsed_sections": [],
   "name": "Statistics.ipynb",
   "provenance": []
  },
  "kernelspec": {
   "display_name": "Python 3 (ipykernel)",
   "language": "python",
   "name": "python3"
  },
  "language_info": {
   "codemirror_mode": {
    "name": "ipython",
    "version": 3
   },
   "file_extension": ".py",
   "mimetype": "text/x-python",
   "name": "python",
   "nbconvert_exporter": "python",
   "pygments_lexer": "ipython3",
   "version": "3.9.7"
  }
 },
 "nbformat": 4,
 "nbformat_minor": 1
}
