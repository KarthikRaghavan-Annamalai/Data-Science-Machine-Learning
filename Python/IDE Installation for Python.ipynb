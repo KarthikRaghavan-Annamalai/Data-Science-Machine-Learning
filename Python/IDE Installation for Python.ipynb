{
 "cells": [
  {
   "cell_type": "markdown",
   "id": "2589883d",
   "metadata": {
    "slideshow": {
     "slide_type": "skip"
    }
   },
   "source": [
    "# <center>Day 1:Python</center>"
   ]
  },
  {
   "cell_type": "markdown",
   "id": "0aecdf6f",
   "metadata": {},
   "source": [
    "## IDE Installation for Python"
   ]
  },
  {
   "cell_type": "code",
   "execution_count": 3,
   "id": "4d0e1533",
   "metadata": {},
   "outputs": [
    {
     "data": {
      "text/plain": [
       "2"
      ]
     },
     "execution_count": 3,
     "metadata": {},
     "output_type": "execute_result"
    }
   ],
   "source": [
    "1+1"
   ]
  },
  {
   "cell_type": "code",
   "execution_count": 4,
   "id": "73ebf4f0",
   "metadata": {},
   "outputs": [],
   "source": [
    "# Variable\n",
    "\n",
    "a = 10\n",
    "# a is a variable"
   ]
  },
  {
   "cell_type": "code",
   "execution_count": 5,
   "id": "0f25651f",
   "metadata": {},
   "outputs": [
    {
     "data": {
      "text/plain": [
       "1445462370896"
      ]
     },
     "execution_count": 5,
     "metadata": {},
     "output_type": "execute_result"
    }
   ],
   "source": [
    "id(a) # to get the address of the value 10 stored in a"
   ]
  },
  {
   "cell_type": "code",
   "execution_count": null,
   "id": "589e03ea",
   "metadata": {},
   "outputs": [],
   "source": []
  },
  {
   "cell_type": "code",
   "execution_count": 7,
   "id": "5f3e4fce",
   "metadata": {},
   "outputs": [
    {
     "data": {
      "text/plain": [
       "int"
      ]
     },
     "execution_count": 7,
     "metadata": {},
     "output_type": "execute_result"
    }
   ],
   "source": [
    "type(a) # to get the type of data variable"
   ]
  },
  {
   "cell_type": "raw",
   "id": "f061ea3a",
   "metadata": {},
   "source": [
    "# datatypes in python\n",
    "\n",
    "int\n",
    "bool\n",
    "float\n",
    "str\n",
    "complex"
   ]
  },
  {
   "cell_type": "code",
   "execution_count": 10,
   "id": "c4b5f8d3",
   "metadata": {},
   "outputs": [
    {
     "name": "stdout",
     "output_type": "stream",
     "text": [
      "<class 'int'>\n",
      "<class 'float'>\n",
      "<class 'bool'>\n",
      "<class 'str'>\n",
      "<class 'complex'>\n"
     ]
    }
   ],
   "source": [
    "print(type(1))\n",
    "print(type(1.5))\n",
    "print(type(True))\n",
    "print(type('test'))\n",
    "print(type(1+7j))\n",
    "#print(type())\n",
    "#print(type())"
   ]
  },
  {
   "cell_type": "code",
   "execution_count": 12,
   "id": "d5ed195a",
   "metadata": {},
   "outputs": [
    {
     "data": {
      "text/plain": [
       "str"
      ]
     },
     "execution_count": 12,
     "metadata": {},
     "output_type": "execute_result"
    }
   ],
   "source": [
    "type(str(a))"
   ]
  },
  {
   "cell_type": "code",
   "execution_count": null,
   "id": "d161859d",
   "metadata": {},
   "outputs": [],
   "source": [
    "# check the python documentation"
   ]
  },
  {
   "cell_type": "code",
   "execution_count": 13,
   "id": "9a7e133c",
   "metadata": {},
   "outputs": [],
   "source": [
    "test = 1+2j"
   ]
  },
  {
   "cell_type": "code",
   "execution_count": 14,
   "id": "0d78f4fd",
   "metadata": {},
   "outputs": [
    {
     "data": {
      "text/plain": [
       "complex"
      ]
     },
     "execution_count": 14,
     "metadata": {},
     "output_type": "execute_result"
    }
   ],
   "source": [
    "type(test)"
   ]
  },
  {
   "cell_type": "code",
   "execution_count": 15,
   "id": "eb5fab45",
   "metadata": {},
   "outputs": [
    {
     "data": {
      "text/plain": [
       "1.0"
      ]
     },
     "execution_count": 15,
     "metadata": {},
     "output_type": "execute_result"
    }
   ],
   "source": [
    "test.real"
   ]
  },
  {
   "cell_type": "code",
   "execution_count": 16,
   "id": "ff3be9c9",
   "metadata": {},
   "outputs": [
    {
     "data": {
      "text/plain": [
       "2.0"
      ]
     },
     "execution_count": 16,
     "metadata": {},
     "output_type": "execute_result"
    }
   ],
   "source": [
    "test.imag"
   ]
  },
  {
   "cell_type": "code",
   "execution_count": 18,
   "id": "caee761d",
   "metadata": {},
   "outputs": [
    {
     "data": {
      "text/plain": [
       "(1-2j)"
      ]
     },
     "execution_count": 18,
     "metadata": {},
     "output_type": "execute_result"
    }
   ],
   "source": [
    "test.conjugate()"
   ]
  },
  {
   "cell_type": "code",
   "execution_count": 20,
   "id": "4eabef64",
   "metadata": {},
   "outputs": [],
   "source": [
    "a = 123\n",
    "b = True"
   ]
  },
  {
   "cell_type": "code",
   "execution_count": 21,
   "id": "4213cf38",
   "metadata": {},
   "outputs": [
    {
     "data": {
      "text/plain": [
       "124"
      ]
     },
     "execution_count": 21,
     "metadata": {},
     "output_type": "execute_result"
    }
   ],
   "source": [
    "a + b # True marked as 1, False will be 0"
   ]
  },
  {
   "cell_type": "code",
   "execution_count": 22,
   "id": "61ab7141",
   "metadata": {},
   "outputs": [
    {
     "data": {
      "text/plain": [
       "'\\nPython is a high-level, interpreted, general-purpose programming language. Its design philosophy emphasizes code readability with the use of significant indentation.\\n\\nPython is dynamically-typed and garbage-collected. It supports multiple programming paradigms, including structured (particularly procedural), object-oriented and functional programming. It is often described as a \"batteries included\" language due to its comprehensive standard library.\\n\\nGuido van Rossum began working on Python in the late 1980s as a successor to the ABC programming language and first released it in 1991 as Python 0.9.0. Python 2.0 was released in 2000 and introduced new features such as list comprehensions, cycle-detecting garbage collection, reference counting, and Unicode support. Python 3.0, released in 2008, was a major revision that is not completely backward-compatible with earlier versions. Python 2 was discontinued with version 2.7.18 in 2020.\\n\\nPython consistently ranks as one of the most popular programming languages.\\n\\n'"
      ]
     },
     "execution_count": 22,
     "metadata": {},
     "output_type": "execute_result"
    }
   ],
   "source": [
    "\"\"\"\n",
    "Python is a high-level, interpreted, general-purpose programming language. Its design philosophy emphasizes code readability with the use of significant indentation.\n",
    "\n",
    "Python is dynamically-typed and garbage-collected. It supports multiple programming paradigms, including structured (particularly procedural), object-oriented and functional programming. It is often described as a \"batteries included\" language due to its comprehensive standard library.\n",
    "\n",
    "Guido van Rossum began working on Python in the late 1980s as a successor to the ABC programming language and first released it in 1991 as Python 0.9.0. Python 2.0 was released in 2000 and introduced new features such as list comprehensions, cycle-detecting garbage collection, reference counting, and Unicode support. Python 3.0, released in 2008, was a major revision that is not completely backward-compatible with earlier versions. Python 2 was discontinued with version 2.7.18 in 2020.\n",
    "\n",
    "Python consistently ranks as one of the most popular programming languages.\n",
    "\n",
    "\"\"\""
   ]
  },
  {
   "cell_type": "code",
   "execution_count": null,
   "id": "52a4374c",
   "metadata": {},
   "outputs": [],
   "source": []
  },
  {
   "cell_type": "code",
   "execution_count": 25,
   "id": "813e08d7",
   "metadata": {},
   "outputs": [
    {
     "data": {
      "text/plain": [
       "'i am a Data scientist'"
      ]
     },
     "execution_count": 25,
     "metadata": {},
     "output_type": "execute_result"
    }
   ],
   "source": [
    "string = 'i am a Data scientist'\n",
    "string"
   ]
  },
  {
   "cell_type": "code",
   "execution_count": 31,
   "id": "02ebb87d",
   "metadata": {},
   "outputs": [
    {
     "ename": "SyntaxError",
     "evalue": "invalid syntax (Temp/ipykernel_10712/3061120795.py, line 1)",
     "output_type": "error",
     "traceback": [
      "\u001b[1;36m  File \u001b[1;32m\"C:\\Users\\KARTHI~1\\AppData\\Local\\Temp/ipykernel_10712/3061120795.py\"\u001b[1;36m, line \u001b[1;32m1\u001b[0m\n\u001b[1;33m    There are ton's of opportunites\u001b[0m\n\u001b[1;37m          ^\u001b[0m\n\u001b[1;31mSyntaxError\u001b[0m\u001b[1;31m:\u001b[0m invalid syntax\n"
     ]
    }
   ],
   "source": [
    "There are ton's of opportunites"
   ]
  },
  {
   "cell_type": "code",
   "execution_count": 32,
   "id": "296b4891",
   "metadata": {},
   "outputs": [
    {
     "data": {
      "text/plain": [
       "\"There are ton's of opportunites\""
      ]
     },
     "execution_count": 32,
     "metadata": {},
     "output_type": "execute_result"
    }
   ],
   "source": [
    "'There are ton\\'s of opportunites'"
   ]
  },
  {
   "cell_type": "code",
   "execution_count": 33,
   "id": "d61b8889",
   "metadata": {},
   "outputs": [
    {
     "data": {
      "text/plain": [
       "'i am a Data scientist'"
      ]
     },
     "execution_count": 33,
     "metadata": {},
     "output_type": "execute_result"
    }
   ],
   "source": [
    "string # Extracting data"
   ]
  },
  {
   "cell_type": "code",
   "execution_count": 36,
   "id": "cde4685c",
   "metadata": {},
   "outputs": [
    {
     "name": "stdout",
     "output_type": "stream",
     "text": [
      "i 1445465198896\n",
      "  1445473348016\n",
      "a 1445470783408\n",
      "m 1445465110704\n",
      "  1445473348016\n",
      "a 1445470783408\n",
      "  1445473348016\n",
      "D 1445470897008\n",
      "a 1445470783408\n",
      "t 1445465430512\n",
      "a 1445470783408\n",
      "  1445473348016\n",
      "s 1445465187696\n",
      "c 1445465440560\n",
      "i 1445465198896\n",
      "e 1445470697904\n",
      "n 1445465720624\n",
      "t 1445465430512\n",
      "i 1445465198896\n",
      "s 1445465187696\n",
      "t 1445465430512\n"
     ]
    }
   ],
   "source": [
    "for i in string:\n",
    "    print(i,id(i)) # physical memory"
   ]
  },
  {
   "cell_type": "code",
   "execution_count": 37,
   "id": "a3b3fee2",
   "metadata": {},
   "outputs": [
    {
     "data": {
      "text/plain": [
       "1445574798192"
      ]
     },
     "execution_count": 37,
     "metadata": {},
     "output_type": "execute_result"
    }
   ],
   "source": [
    "id(string)"
   ]
  },
  {
   "cell_type": "code",
   "execution_count": 38,
   "id": "700909b3",
   "metadata": {},
   "outputs": [],
   "source": [
    "# index starts with 0 and in reverse it starts with -1\n",
    "# the last element will not be printed if the last index is given"
   ]
  },
  {
   "cell_type": "code",
   "execution_count": 39,
   "id": "6441462b",
   "metadata": {},
   "outputs": [
    {
     "data": {
      "text/plain": [
       "'i am '"
      ]
     },
     "execution_count": 39,
     "metadata": {},
     "output_type": "execute_result"
    }
   ],
   "source": [
    "string[0:5] # 5 will not be printed 5 is a"
   ]
  },
  {
   "cell_type": "code",
   "execution_count": 41,
   "id": "81d0629f",
   "metadata": {},
   "outputs": [
    {
     "data": {
      "text/plain": [
       "'ntist'"
      ]
     },
     "execution_count": 41,
     "metadata": {},
     "output_type": "execute_result"
    }
   ],
   "source": [
    "string[-5:]"
   ]
  },
  {
   "cell_type": "code",
   "execution_count": 42,
   "id": "2a0bd119",
   "metadata": {},
   "outputs": [
    {
     "data": {
      "text/plain": [
       "'ntis'"
      ]
     },
     "execution_count": 42,
     "metadata": {},
     "output_type": "execute_result"
    }
   ],
   "source": [
    "string[-5:-1] # Slicing"
   ]
  },
  {
   "cell_type": "code",
   "execution_count": 43,
   "id": "535a2d15",
   "metadata": {},
   "outputs": [
    {
     "data": {
      "text/plain": [
       "'a'"
      ]
     },
     "execution_count": 43,
     "metadata": {},
     "output_type": "execute_result"
    }
   ],
   "source": [
    "string[5] # indexing"
   ]
  },
  {
   "cell_type": "code",
   "execution_count": 45,
   "id": "1f173949",
   "metadata": {},
   "outputs": [
    {
     "data": {
      "text/plain": [
       "'im tsei'"
      ]
     },
     "execution_count": 45,
     "metadata": {},
     "output_type": "execute_result"
    }
   ],
   "source": [
    "string[::3] # slicing with Step size"
   ]
  },
  {
   "cell_type": "code",
   "execution_count": 49,
   "id": "25f8f4ce",
   "metadata": {},
   "outputs": [
    {
     "data": {
      "text/plain": [
       "'tsitneics ataD a ma i'"
      ]
     },
     "execution_count": 49,
     "metadata": {},
     "output_type": "execute_result"
    }
   ],
   "source": [
    "string[::-1] # to reverse a string without any functions"
   ]
  },
  {
   "cell_type": "code",
   "execution_count": null,
   "id": "e8d6b1f8",
   "metadata": {},
   "outputs": [],
   "source": []
  },
  {
   "cell_type": "markdown",
   "id": "18505095",
   "metadata": {},
   "source": [
    "#### LIST"
   ]
  },
  {
   "cell_type": "raw",
   "id": "b98325aa",
   "metadata": {},
   "source": [
    "# Data Structures\n",
    "\n",
    "Lists\n",
    "Dictionary\n",
    "Tuples\n",
    "Sets"
   ]
  },
  {
   "cell_type": "raw",
   "id": "c39a3f19",
   "metadata": {},
   "source": [
    "Array concenpt does not exist in python but there are libraries\n",
    "Lists are similar to arrays"
   ]
  },
  {
   "cell_type": "raw",
   "id": "a6490e4c",
   "metadata": {},
   "source": [
    "Lists stores heterogenous values"
   ]
  },
  {
   "cell_type": "code",
   "execution_count": 55,
   "id": "d7b3e28f",
   "metadata": {},
   "outputs": [
    {
     "data": {
      "text/plain": [
       "'tsit'"
      ]
     },
     "execution_count": 55,
     "metadata": {},
     "output_type": "execute_result"
    }
   ],
   "source": [
    "string[:-5:-1]"
   ]
  }
 ],
 "metadata": {
  "kernelspec": {
   "display_name": "Python 3 (ipykernel)",
   "language": "python",
   "name": "python3"
  },
  "language_info": {
   "codemirror_mode": {
    "name": "ipython",
    "version": 3
   },
   "file_extension": ".py",
   "mimetype": "text/x-python",
   "name": "python",
   "nbconvert_exporter": "python",
   "pygments_lexer": "ipython3",
   "version": "3.9.7"
  }
 },
 "nbformat": 4,
 "nbformat_minor": 5
}
