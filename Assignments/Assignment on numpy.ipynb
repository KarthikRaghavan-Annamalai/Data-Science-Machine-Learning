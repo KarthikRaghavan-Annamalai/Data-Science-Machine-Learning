{
 "cells": [
  {
   "cell_type": "raw",
   "id": "6e1d942c",
   "metadata": {},
   "source": [
    "1.Introduction\n",
    "This assignment will help you to consolidate the concepts learnt in the session.\n",
    "2.Problem Statement\n",
    "Problem Statement 1:\n",
    "Write a function so that the columns of the output matrix are powers of the input\n",
    "vector.\n",
    "The order of the powers is determined by the increasing boolean argument. Specifically, when \n",
    "increasing is False, the i-th output column is the input vector raised element-wise to the power \n",
    "of N - i - 1.\n",
    "HINT: Such a matrix with a geometric progression in each row is named for Alexandre\u0002Theophile Vandermonde.\n"
   ]
  },
  {
   "cell_type": "code",
   "execution_count": 60,
   "id": "53385de6",
   "metadata": {},
   "outputs": [
    {
     "name": "stdout",
     "output_type": "stream",
     "text": [
      "[[  1   1   1   1   1]\n",
      " [ 16   8   4   2   1]\n",
      " [ 81  27   9   3   1]\n",
      " [256  64  16   4   1]\n",
      " [625 125  25   5   1]]\n"
     ]
    }
   ],
   "source": [
    "# creating a matrix with output columns based on input vector(N)\n",
    "\n",
    "import numpy as np\n",
    "x=np.array([1,2,3,4,5])\n",
    "N=5\n",
    "matrix = np.column_stack([x**(N-i-1) for i in range(N)])\n",
    "print(matrix)"
   ]
  },
  {
   "cell_type": "code",
   "execution_count": 61,
   "id": "be3081dc",
   "metadata": {},
   "outputs": [
    {
     "name": "stdout",
     "output_type": "stream",
     "text": [
      "[[  1   1   1   1   1]\n",
      " [ 16   8   4   2   1]\n",
      " [ 81  27   9   3   1]\n",
      " [256  64  16   4   1]\n",
      " [625 125  25   5   1]]\n"
     ]
    }
   ],
   "source": [
    "# #Similar matrix is created using np.vander function in numpy\n",
    "\n",
    "import numpy as np\n",
    "x=np.array([1,2,3,4,5])\n",
    "N=5\n",
    "matrix1 = np.vander(x,N,increasing=False)\n",
    "print(matrix1)"
   ]
  },
  {
   "cell_type": "code",
   "execution_count": 62,
   "id": "7b94481c",
   "metadata": {},
   "outputs": [
    {
     "data": {
      "text/plain": [
       "287.9999999999965"
      ]
     },
     "execution_count": 62,
     "metadata": {},
     "output_type": "execute_result"
    }
   ],
   "source": [
    "#  The determitant for both the matrixs is the same\n",
    "np.linalg.det(matrix)"
   ]
  },
  {
   "cell_type": "code",
   "execution_count": 63,
   "id": "63c25d01",
   "metadata": {},
   "outputs": [
    {
     "data": {
      "text/plain": [
       "287.9999999999965"
      ]
     },
     "execution_count": 63,
     "metadata": {},
     "output_type": "execute_result"
    }
   ],
   "source": [
    "np.linalg.det(matrix1)"
   ]
  },
  {
   "cell_type": "raw",
   "id": "f1f72b92",
   "metadata": {},
   "source": [
    "Problem Statement 2:\n",
    "Given a sequence of n values x1, x2, ..., xn and a window size k>0, the k-th moving average of \n",
    "the given sequence is defined as follows:\n",
    "The moving average sequence has n-k+1 elements as shown below.\n",
    "The moving averages with k=4 of a ten-value sequence (n=10) is shown below\n",
    "i 1 2 3 4 5 6 7 8 9 10\n",
    "===== == == == == == == == == == ==\n",
    "Input 10 20 30 40 50 60 70 80 90 100 \n",
    "y1 25 = (10+20+30+40)/4\n",
    "y2 35 = (20+30+40+50)/4\n",
    "y3 45 = (30+40+50+60)/4\n",
    "y4 55 = (40+50+60+70)/4\n",
    "y5 65 = (50+60+70+80)/4\n",
    "y6 75 = (60+70+80+90)/4\n",
    "y7 85 = (70+80+90+100)/4\n",
    "Thus, the moving average sequence has n-k+1=10-4+1=7 values.\n",
    "Question: Write a function to find moving average in an array over a window:\n",
    " Test it over [3, 5, 7, 2, 8, 10, 11, 65, 72, 81, 99, 100, 150] and window of 3.\n",
    "Note: Solution submitted via github must contain all the detailed ste"
   ]
  },
  {
   "cell_type": "code",
   "execution_count": 11,
   "id": "ad46dbae",
   "metadata": {},
   "outputs": [
    {
     "name": "stdout",
     "output_type": "stream",
     "text": [
      "Moving window is 3 and the number of elements is 13\n",
      "The moving average sequence has 11 values\n"
     ]
    }
   ],
   "source": [
    "k = 3\n",
    "sequence = [3, 5, 7, 2, 8, 10, 11, 65, 72, 81, 99, 100, 150]\n",
    "n = len(sequence)\n",
    "print(f'Moving window is {k} and the number of elements is {n}')\n",
    "print(f'The moving average sequence has {n-k+1} values')"
   ]
  },
  {
   "cell_type": "code",
   "execution_count": 56,
   "id": "e43fcf5a",
   "metadata": {},
   "outputs": [],
   "source": [
    "def movingWindow(lst,window):\n",
    "    num = 0\n",
    "\n",
    "    for i in range(len(lst)):\n",
    "        print('y'+str(i),' ',(lst[num]+lst[num+1]+lst[num+2])/window,'=',lst[num],lst[num+1],lst[num+2])\n",
    "        num+= 1\n",
    "        if num == 11:\n",
    "            break"
   ]
  },
  {
   "cell_type": "code",
   "execution_count": 57,
   "id": "8965af0b",
   "metadata": {},
   "outputs": [
    {
     "name": "stdout",
     "output_type": "stream",
     "text": [
      "y0   5.0 = 3 5 7\n",
      "y1   4.666666666666667 = 5 7 2\n",
      "y2   5.666666666666667 = 7 2 8\n",
      "y3   6.666666666666667 = 2 8 10\n",
      "y4   9.666666666666666 = 8 10 11\n",
      "y5   28.666666666666668 = 10 11 65\n",
      "y6   49.333333333333336 = 11 65 72\n",
      "y7   72.66666666666667 = 65 72 81\n",
      "y8   84.0 = 72 81 99\n",
      "y9   93.33333333333333 = 81 99 100\n",
      "y10   116.33333333333333 = 99 100 150\n"
     ]
    }
   ],
   "source": [
    "movingWindow(sequence,k)"
   ]
  }
 ],
 "metadata": {
  "kernelspec": {
   "display_name": "Python 3 (ipykernel)",
   "language": "python",
   "name": "python3"
  },
  "language_info": {
   "codemirror_mode": {
    "name": "ipython",
    "version": 3
   },
   "file_extension": ".py",
   "mimetype": "text/x-python",
   "name": "python",
   "nbconvert_exporter": "python",
   "pygments_lexer": "ipython3",
   "version": "3.9.7"
  }
 },
 "nbformat": 4,
 "nbformat_minor": 5
}
