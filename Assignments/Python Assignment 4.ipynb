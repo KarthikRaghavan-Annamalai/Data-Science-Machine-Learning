{
 "cells": [
  {
   "cell_type": "raw",
   "id": "3c2f989f",
   "metadata": {},
   "source": [
    "1.1 Write a Python Program(with class concepts) to find the area of the triangle using the below  formula. \n",
    "area = (s*(s-a)*(s-b)*(s-c)) ** 0.5 \n",
    "Function to take the length of the sides of triangle from user should be defined in the parent  class and function to calculate the area should be defined in subclass. \n"
   ]
  },
  {
   "cell_type": "code",
   "execution_count": 12,
   "id": "392c31a1",
   "metadata": {},
   "outputs": [],
   "source": [
    "class Triangle:\n",
    "    def __init__(self,a,b,c):\n",
    "        self.a = a\n",
    "        self.b = b\n",
    "        self.c = c\n",
    "    def area_of_the_triangle(self):\n",
    "        s = (self.a + self.b + self.c) / 2\n",
    "        return print(f'The area of the triangle: ',(s * (s - self.a) * (s - self.b) * (s - self.c)) ** 0.5)"
   ]
  },
  {
   "cell_type": "code",
   "execution_count": 13,
   "id": "35bc3908",
   "metadata": {},
   "outputs": [
    {
     "name": "stdout",
     "output_type": "stream",
     "text": [
      "The area of the triangle:  14.696938456699069\n"
     ]
    }
   ],
   "source": [
    "Triangle(5,6,7).area_of_the_triangle()"
   ]
  },
  {
   "cell_type": "raw",
   "id": "101a5275",
   "metadata": {},
   "source": [
    "1.2 Write a function filter_long_words() that takes a list of words and an integer n and returns  the list of words that are longer than n. \n"
   ]
  },
  {
   "cell_type": "code",
   "execution_count": 14,
   "id": "3db76265",
   "metadata": {},
   "outputs": [],
   "source": [
    "def filter_long_words(lst , n):\n",
    "    output = []\n",
    "    for i in lst:\n",
    "        if len(i) > n:\n",
    "            output.append(i)\n",
    "    return output"
   ]
  },
  {
   "cell_type": "code",
   "execution_count": 15,
   "id": "7cc00763",
   "metadata": {},
   "outputs": [
    {
     "data": {
      "text/plain": [
       "['abcde', 'abcabcd']"
      ]
     },
     "execution_count": 15,
     "metadata": {},
     "output_type": "execute_result"
    }
   ],
   "source": [
    "filter_long_words(['a','ab','abc','abcd','abcde','abcabcd'],4)"
   ]
  },
  {
   "cell_type": "raw",
   "id": "945678b6",
   "metadata": {},
   "source": [
    "2.1 Write a Python program using function concept that maps list of words into a list of integers  representing the lengths of the corresponding words. \n",
    "Hint: If a list [ ab,cde,erty] is passed on to the python function output should come as [2,3,4] Here 2,3 and 4 are the lengths of the words in the list. \n"
   ]
  },
  {
   "cell_type": "code",
   "execution_count": 16,
   "id": "1e4c8e08",
   "metadata": {},
   "outputs": [],
   "source": [
    "def length_of_length(lst):\n",
    "    output = []\n",
    "    for i in lst:\n",
    "        output.append(len(i))\n",
    "    return output"
   ]
  },
  {
   "cell_type": "code",
   "execution_count": 17,
   "id": "9ab16686",
   "metadata": {},
   "outputs": [
    {
     "data": {
      "text/plain": [
       "[3, 4, 4]"
      ]
     },
     "execution_count": 17,
     "metadata": {},
     "output_type": "execute_result"
    }
   ],
   "source": [
    "length_of_length(['asd','basg','aaxs'])"
   ]
  },
  {
   "cell_type": "raw",
   "id": "2104f850",
   "metadata": {},
   "source": [
    "2.2 Write a Python function which takes a character (i.e. a string of length 1) and returns True if  it is a vowel, False otherwise. "
   ]
  },
  {
   "cell_type": "code",
   "execution_count": 18,
   "id": "e3135132",
   "metadata": {},
   "outputs": [],
   "source": [
    "def vowel_check():\n",
    "    char = input('Enter the character:')\n",
    "    if len(char) == 1:\n",
    "        if type(char) == str:\n",
    "            if char in ['a','e','i','o','u']:\n",
    "                return True\n",
    "            else:\n",
    "                return False\n",
    "    else:\n",
    "        print('This is not a single character')"
   ]
  },
  {
   "cell_type": "code",
   "execution_count": 20,
   "id": "2fa200cf",
   "metadata": {},
   "outputs": [
    {
     "name": "stdout",
     "output_type": "stream",
     "text": [
      "Enter the character:k\n"
     ]
    },
    {
     "data": {
      "text/plain": [
       "False"
      ]
     },
     "execution_count": 20,
     "metadata": {},
     "output_type": "execute_result"
    }
   ],
   "source": [
    "vowel_check()"
   ]
  },
  {
   "cell_type": "code",
   "execution_count": 21,
   "id": "126f67cb",
   "metadata": {},
   "outputs": [
    {
     "name": "stdout",
     "output_type": "stream",
     "text": [
      "Enter the character:o\n"
     ]
    },
    {
     "data": {
      "text/plain": [
       "True"
      ]
     },
     "execution_count": 21,
     "metadata": {},
     "output_type": "execute_result"
    }
   ],
   "source": [
    "vowel_check()"
   ]
  }
 ],
 "metadata": {
  "kernelspec": {
   "display_name": "Python 3 (ipykernel)",
   "language": "python",
   "name": "python3"
  },
  "language_info": {
   "codemirror_mode": {
    "name": "ipython",
    "version": 3
   },
   "file_extension": ".py",
   "mimetype": "text/x-python",
   "name": "python",
   "nbconvert_exporter": "python",
   "pygments_lexer": "ipython3",
   "version": "3.9.7"
  }
 },
 "nbformat": 4,
 "nbformat_minor": 5
}
